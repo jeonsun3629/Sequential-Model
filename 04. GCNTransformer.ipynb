{
 "cells": [
  {
   "cell_type": "code",
   "execution_count": 1,
   "metadata": {},
   "outputs": [],
   "source": [
    "import os\n",
    "import pandas as pd\n",
    "import numpy as np\n",
    "%matplotlib inline\n",
    "import matplotlib.pyplot as plt\n",
    "import random\n",
    "import copy"
   ]
  },
  {
   "cell_type": "code",
   "execution_count": 2,
   "metadata": {},
   "outputs": [],
   "source": [
    "os.environ['CUDA_LAUNCH_BLOCKING'] = \"1\"\n",
    "os.environ[\"CUDA_VISIBLE_DEVICES\"] = \"0\""
   ]
  },
  {
   "cell_type": "markdown",
   "metadata": {},
   "source": [
    "# Preprocess"
   ]
  },
  {
   "cell_type": "code",
   "execution_count": 3,
   "metadata": {},
   "outputs": [],
   "source": [
    "directory = './csvFiles'"
   ]
  },
  {
   "cell_type": "code",
   "execution_count": 4,
   "metadata": {},
   "outputs": [],
   "source": [
    "csv_files = [file for file in os.listdir(directory) if file.endswith('.csv')]"
   ]
  },
  {
   "cell_type": "code",
   "execution_count": 5,
   "metadata": {},
   "outputs": [],
   "source": [
    "# 파일 목록을 랜덤하게 섞습니다.\n",
    "random.seed(42)  # 재현 가능한 결과를 위해 시드 설정\n",
    "random.shuffle(csv_files)"
   ]
  },
  {
   "cell_type": "code",
   "execution_count": 6,
   "metadata": {},
   "outputs": [],
   "source": [
    "# 첫 번째 파일에서 컬럼 이름을 가져옵니다.\n",
    "first_file_path = os.path.join(directory, csv_files[0])\n",
    "first_df = pd.read_csv(first_file_path)"
   ]
  },
  {
   "cell_type": "code",
   "execution_count": 7,
   "metadata": {},
   "outputs": [],
   "source": [
    "separator_token = 999\n",
    "separator = pd.DataFrame({col: separator_token for col in first_df.columns}, index=[0])"
   ]
  },
  {
   "cell_type": "code",
   "execution_count": 8,
   "metadata": {},
   "outputs": [],
   "source": [
    "df_list = []\n",
    "for file in csv_files:\n",
    "    file_path = os.path.join(directory, file)\n",
    "    df = pd.read_csv(file_path)\n",
    "    df = df.iloc[300:-100]\n",
    "    df_list.append(df)\n",
    "    df_list.append(separator) "
   ]
  },
  {
   "cell_type": "code",
   "execution_count": 9,
   "metadata": {},
   "outputs": [],
   "source": [
    "combined_df = pd.concat(df_list, ignore_index=True)"
   ]
  },
  {
   "cell_type": "code",
   "execution_count": 10,
   "metadata": {},
   "outputs": [
    {
     "data": {
      "text/html": [
       "<div>\n",
       "<style scoped>\n",
       "    .dataframe tbody tr th:only-of-type {\n",
       "        vertical-align: middle;\n",
       "    }\n",
       "\n",
       "    .dataframe tbody tr th {\n",
       "        vertical-align: top;\n",
       "    }\n",
       "\n",
       "    .dataframe thead th {\n",
       "        text-align: right;\n",
       "    }\n",
       "</style>\n",
       "<table border=\"1\" class=\"dataframe\">\n",
       "  <thead>\n",
       "    <tr style=\"text-align: right;\">\n",
       "      <th></th>\n",
       "      <th>Frame</th>\n",
       "      <th>Time</th>\n",
       "      <th>m_avg_PelvisPosX</th>\n",
       "      <th>m_avg_PelvisPosY</th>\n",
       "      <th>m_avg_PelvisPosZ</th>\n",
       "      <th>m_avg_PelvisRotX</th>\n",
       "      <th>m_avg_PelvisRotY</th>\n",
       "      <th>m_avg_PelvisRotZ</th>\n",
       "      <th>m_avg_L_HipPosX</th>\n",
       "      <th>m_avg_L_HipPosY</th>\n",
       "      <th>...</th>\n",
       "      <th>m_avg_R_ElbowRotX</th>\n",
       "      <th>m_avg_R_ElbowRotY</th>\n",
       "      <th>m_avg_R_ElbowRotZ</th>\n",
       "      <th>m_avg_R_WristPosX</th>\n",
       "      <th>m_avg_R_WristPosY</th>\n",
       "      <th>m_avg_R_WristPosZ</th>\n",
       "      <th>m_avg_R_WristRotX</th>\n",
       "      <th>m_avg_R_WristRotY</th>\n",
       "      <th>m_avg_R_WristRotZ</th>\n",
       "      <th>Unnamed: 128</th>\n",
       "    </tr>\n",
       "  </thead>\n",
       "  <tbody>\n",
       "    <tr>\n",
       "      <th>0</th>\n",
       "      <td>301</td>\n",
       "      <td>3.454812</td>\n",
       "      <td>0.021056</td>\n",
       "      <td>0.537794</td>\n",
       "      <td>0.689871</td>\n",
       "      <td>358.82500</td>\n",
       "      <td>0.679502</td>\n",
       "      <td>359.8412</td>\n",
       "      <td>-0.037938</td>\n",
       "      <td>0.455332</td>\n",
       "      <td>...</td>\n",
       "      <td>8.262754</td>\n",
       "      <td>352.2222</td>\n",
       "      <td>350.739100</td>\n",
       "      <td>0.733168</td>\n",
       "      <td>0.943708</td>\n",
       "      <td>0.631755</td>\n",
       "      <td>0.200809</td>\n",
       "      <td>359.55840</td>\n",
       "      <td>0.846429</td>\n",
       "      <td>NaN</td>\n",
       "    </tr>\n",
       "    <tr>\n",
       "      <th>1</th>\n",
       "      <td>302</td>\n",
       "      <td>3.465498</td>\n",
       "      <td>0.021056</td>\n",
       "      <td>0.537794</td>\n",
       "      <td>0.689871</td>\n",
       "      <td>358.82500</td>\n",
       "      <td>0.679502</td>\n",
       "      <td>359.8412</td>\n",
       "      <td>-0.037938</td>\n",
       "      <td>0.455332</td>\n",
       "      <td>...</td>\n",
       "      <td>8.274371</td>\n",
       "      <td>352.2729</td>\n",
       "      <td>350.772300</td>\n",
       "      <td>0.733238</td>\n",
       "      <td>0.943977</td>\n",
       "      <td>0.631620</td>\n",
       "      <td>0.114945</td>\n",
       "      <td>359.53570</td>\n",
       "      <td>0.884086</td>\n",
       "      <td>NaN</td>\n",
       "    </tr>\n",
       "    <tr>\n",
       "      <th>2</th>\n",
       "      <td>303</td>\n",
       "      <td>3.476308</td>\n",
       "      <td>0.021056</td>\n",
       "      <td>0.537794</td>\n",
       "      <td>0.689871</td>\n",
       "      <td>358.82500</td>\n",
       "      <td>0.679502</td>\n",
       "      <td>359.8412</td>\n",
       "      <td>-0.037938</td>\n",
       "      <td>0.455332</td>\n",
       "      <td>...</td>\n",
       "      <td>8.273871</td>\n",
       "      <td>352.2918</td>\n",
       "      <td>350.806000</td>\n",
       "      <td>0.733297</td>\n",
       "      <td>0.944234</td>\n",
       "      <td>0.631682</td>\n",
       "      <td>0.151095</td>\n",
       "      <td>359.52710</td>\n",
       "      <td>0.923961</td>\n",
       "      <td>NaN</td>\n",
       "    </tr>\n",
       "    <tr>\n",
       "      <th>3</th>\n",
       "      <td>304</td>\n",
       "      <td>3.487449</td>\n",
       "      <td>0.021056</td>\n",
       "      <td>0.537794</td>\n",
       "      <td>0.689871</td>\n",
       "      <td>358.82500</td>\n",
       "      <td>0.679492</td>\n",
       "      <td>359.8412</td>\n",
       "      <td>-0.037938</td>\n",
       "      <td>0.455332</td>\n",
       "      <td>...</td>\n",
       "      <td>8.267890</td>\n",
       "      <td>352.2754</td>\n",
       "      <td>350.814000</td>\n",
       "      <td>0.733297</td>\n",
       "      <td>0.944235</td>\n",
       "      <td>0.631826</td>\n",
       "      <td>0.239347</td>\n",
       "      <td>359.53850</td>\n",
       "      <td>0.959352</td>\n",
       "      <td>NaN</td>\n",
       "    </tr>\n",
       "    <tr>\n",
       "      <th>4</th>\n",
       "      <td>305</td>\n",
       "      <td>3.498579</td>\n",
       "      <td>0.021056</td>\n",
       "      <td>0.537794</td>\n",
       "      <td>0.689871</td>\n",
       "      <td>358.82500</td>\n",
       "      <td>0.679492</td>\n",
       "      <td>359.8412</td>\n",
       "      <td>-0.037938</td>\n",
       "      <td>0.455332</td>\n",
       "      <td>...</td>\n",
       "      <td>8.257694</td>\n",
       "      <td>352.2285</td>\n",
       "      <td>350.846900</td>\n",
       "      <td>0.733279</td>\n",
       "      <td>0.944438</td>\n",
       "      <td>0.631913</td>\n",
       "      <td>0.385812</td>\n",
       "      <td>359.57180</td>\n",
       "      <td>0.958712</td>\n",
       "      <td>NaN</td>\n",
       "    </tr>\n",
       "    <tr>\n",
       "      <th>...</th>\n",
       "      <td>...</td>\n",
       "      <td>...</td>\n",
       "      <td>...</td>\n",
       "      <td>...</td>\n",
       "      <td>...</td>\n",
       "      <td>...</td>\n",
       "      <td>...</td>\n",
       "      <td>...</td>\n",
       "      <td>...</td>\n",
       "      <td>...</td>\n",
       "      <td>...</td>\n",
       "      <td>...</td>\n",
       "      <td>...</td>\n",
       "      <td>...</td>\n",
       "      <td>...</td>\n",
       "      <td>...</td>\n",
       "      <td>...</td>\n",
       "      <td>...</td>\n",
       "      <td>...</td>\n",
       "      <td>...</td>\n",
       "      <td>...</td>\n",
       "    </tr>\n",
       "    <tr>\n",
       "      <th>1250495</th>\n",
       "      <td>4600</td>\n",
       "      <td>51.260610</td>\n",
       "      <td>-0.674628</td>\n",
       "      <td>0.459754</td>\n",
       "      <td>0.821685</td>\n",
       "      <td>18.35563</td>\n",
       "      <td>179.608500</td>\n",
       "      <td>357.6249</td>\n",
       "      <td>-0.614788</td>\n",
       "      <td>0.391658</td>\n",
       "      <td>...</td>\n",
       "      <td>11.131550</td>\n",
       "      <td>198.3722</td>\n",
       "      <td>3.791916</td>\n",
       "      <td>-1.323386</td>\n",
       "      <td>1.040075</td>\n",
       "      <td>0.924556</td>\n",
       "      <td>47.211770</td>\n",
       "      <td>37.32508</td>\n",
       "      <td>178.617100</td>\n",
       "      <td>NaN</td>\n",
       "    </tr>\n",
       "    <tr>\n",
       "      <th>1250496</th>\n",
       "      <td>4601</td>\n",
       "      <td>51.271360</td>\n",
       "      <td>-0.674628</td>\n",
       "      <td>0.459754</td>\n",
       "      <td>0.821685</td>\n",
       "      <td>18.35563</td>\n",
       "      <td>179.608500</td>\n",
       "      <td>357.6249</td>\n",
       "      <td>-0.614788</td>\n",
       "      <td>0.391658</td>\n",
       "      <td>...</td>\n",
       "      <td>11.133720</td>\n",
       "      <td>198.4202</td>\n",
       "      <td>3.836214</td>\n",
       "      <td>-1.323311</td>\n",
       "      <td>1.040272</td>\n",
       "      <td>0.924719</td>\n",
       "      <td>47.288450</td>\n",
       "      <td>37.23001</td>\n",
       "      <td>178.460700</td>\n",
       "      <td>NaN</td>\n",
       "    </tr>\n",
       "    <tr>\n",
       "      <th>1250497</th>\n",
       "      <td>4602</td>\n",
       "      <td>51.283000</td>\n",
       "      <td>-0.674628</td>\n",
       "      <td>0.459754</td>\n",
       "      <td>0.821685</td>\n",
       "      <td>18.35563</td>\n",
       "      <td>179.608500</td>\n",
       "      <td>357.6249</td>\n",
       "      <td>-0.614788</td>\n",
       "      <td>0.391658</td>\n",
       "      <td>...</td>\n",
       "      <td>11.135700</td>\n",
       "      <td>198.4699</td>\n",
       "      <td>3.866319</td>\n",
       "      <td>-1.323236</td>\n",
       "      <td>1.040406</td>\n",
       "      <td>0.924903</td>\n",
       "      <td>47.363370</td>\n",
       "      <td>37.13769</td>\n",
       "      <td>178.286900</td>\n",
       "      <td>NaN</td>\n",
       "    </tr>\n",
       "    <tr>\n",
       "      <th>1250498</th>\n",
       "      <td>4603</td>\n",
       "      <td>51.293670</td>\n",
       "      <td>-0.674747</td>\n",
       "      <td>0.459201</td>\n",
       "      <td>0.823021</td>\n",
       "      <td>18.44855</td>\n",
       "      <td>179.665600</td>\n",
       "      <td>357.4926</td>\n",
       "      <td>-0.614688</td>\n",
       "      <td>0.391303</td>\n",
       "      <td>...</td>\n",
       "      <td>11.140010</td>\n",
       "      <td>198.5145</td>\n",
       "      <td>3.896140</td>\n",
       "      <td>-1.322936</td>\n",
       "      <td>1.038698</td>\n",
       "      <td>0.926400</td>\n",
       "      <td>47.438840</td>\n",
       "      <td>37.06465</td>\n",
       "      <td>178.126200</td>\n",
       "      <td>NaN</td>\n",
       "    </tr>\n",
       "    <tr>\n",
       "      <th>1250499</th>\n",
       "      <td>999</td>\n",
       "      <td>999.000000</td>\n",
       "      <td>999.000000</td>\n",
       "      <td>999.000000</td>\n",
       "      <td>999.000000</td>\n",
       "      <td>999.00000</td>\n",
       "      <td>999.000000</td>\n",
       "      <td>999.0000</td>\n",
       "      <td>999.000000</td>\n",
       "      <td>999.000000</td>\n",
       "      <td>...</td>\n",
       "      <td>999.000000</td>\n",
       "      <td>999.0000</td>\n",
       "      <td>999.000000</td>\n",
       "      <td>999.000000</td>\n",
       "      <td>999.000000</td>\n",
       "      <td>999.000000</td>\n",
       "      <td>999.000000</td>\n",
       "      <td>999.00000</td>\n",
       "      <td>999.000000</td>\n",
       "      <td>999.0</td>\n",
       "    </tr>\n",
       "  </tbody>\n",
       "</table>\n",
       "<p>1250500 rows × 129 columns</p>\n",
       "</div>"
      ],
      "text/plain": [
       "         Frame        Time  m_avg_PelvisPosX  m_avg_PelvisPosY  \\\n",
       "0          301    3.454812          0.021056          0.537794   \n",
       "1          302    3.465498          0.021056          0.537794   \n",
       "2          303    3.476308          0.021056          0.537794   \n",
       "3          304    3.487449          0.021056          0.537794   \n",
       "4          305    3.498579          0.021056          0.537794   \n",
       "...        ...         ...               ...               ...   \n",
       "1250495   4600   51.260610         -0.674628          0.459754   \n",
       "1250496   4601   51.271360         -0.674628          0.459754   \n",
       "1250497   4602   51.283000         -0.674628          0.459754   \n",
       "1250498   4603   51.293670         -0.674747          0.459201   \n",
       "1250499    999  999.000000        999.000000        999.000000   \n",
       "\n",
       "         m_avg_PelvisPosZ  m_avg_PelvisRotX  m_avg_PelvisRotY  \\\n",
       "0                0.689871         358.82500          0.679502   \n",
       "1                0.689871         358.82500          0.679502   \n",
       "2                0.689871         358.82500          0.679502   \n",
       "3                0.689871         358.82500          0.679492   \n",
       "4                0.689871         358.82500          0.679492   \n",
       "...                   ...               ...               ...   \n",
       "1250495          0.821685          18.35563        179.608500   \n",
       "1250496          0.821685          18.35563        179.608500   \n",
       "1250497          0.821685          18.35563        179.608500   \n",
       "1250498          0.823021          18.44855        179.665600   \n",
       "1250499        999.000000         999.00000        999.000000   \n",
       "\n",
       "         m_avg_PelvisRotZ  m_avg_L_HipPosX  m_avg_L_HipPosY  ...  \\\n",
       "0                359.8412        -0.037938         0.455332  ...   \n",
       "1                359.8412        -0.037938         0.455332  ...   \n",
       "2                359.8412        -0.037938         0.455332  ...   \n",
       "3                359.8412        -0.037938         0.455332  ...   \n",
       "4                359.8412        -0.037938         0.455332  ...   \n",
       "...                   ...              ...              ...  ...   \n",
       "1250495          357.6249        -0.614788         0.391658  ...   \n",
       "1250496          357.6249        -0.614788         0.391658  ...   \n",
       "1250497          357.6249        -0.614788         0.391658  ...   \n",
       "1250498          357.4926        -0.614688         0.391303  ...   \n",
       "1250499          999.0000       999.000000       999.000000  ...   \n",
       "\n",
       "         m_avg_R_ElbowRotX  m_avg_R_ElbowRotY  m_avg_R_ElbowRotZ  \\\n",
       "0                 8.262754           352.2222         350.739100   \n",
       "1                 8.274371           352.2729         350.772300   \n",
       "2                 8.273871           352.2918         350.806000   \n",
       "3                 8.267890           352.2754         350.814000   \n",
       "4                 8.257694           352.2285         350.846900   \n",
       "...                    ...                ...                ...   \n",
       "1250495          11.131550           198.3722           3.791916   \n",
       "1250496          11.133720           198.4202           3.836214   \n",
       "1250497          11.135700           198.4699           3.866319   \n",
       "1250498          11.140010           198.5145           3.896140   \n",
       "1250499         999.000000           999.0000         999.000000   \n",
       "\n",
       "         m_avg_R_WristPosX  m_avg_R_WristPosY  m_avg_R_WristPosZ  \\\n",
       "0                 0.733168           0.943708           0.631755   \n",
       "1                 0.733238           0.943977           0.631620   \n",
       "2                 0.733297           0.944234           0.631682   \n",
       "3                 0.733297           0.944235           0.631826   \n",
       "4                 0.733279           0.944438           0.631913   \n",
       "...                    ...                ...                ...   \n",
       "1250495          -1.323386           1.040075           0.924556   \n",
       "1250496          -1.323311           1.040272           0.924719   \n",
       "1250497          -1.323236           1.040406           0.924903   \n",
       "1250498          -1.322936           1.038698           0.926400   \n",
       "1250499         999.000000         999.000000         999.000000   \n",
       "\n",
       "         m_avg_R_WristRotX  m_avg_R_WristRotY  m_avg_R_WristRotZ  Unnamed: 128  \n",
       "0                 0.200809          359.55840           0.846429           NaN  \n",
       "1                 0.114945          359.53570           0.884086           NaN  \n",
       "2                 0.151095          359.52710           0.923961           NaN  \n",
       "3                 0.239347          359.53850           0.959352           NaN  \n",
       "4                 0.385812          359.57180           0.958712           NaN  \n",
       "...                    ...                ...                ...           ...  \n",
       "1250495          47.211770           37.32508         178.617100           NaN  \n",
       "1250496          47.288450           37.23001         178.460700           NaN  \n",
       "1250497          47.363370           37.13769         178.286900           NaN  \n",
       "1250498          47.438840           37.06465         178.126200           NaN  \n",
       "1250499         999.000000          999.00000         999.000000         999.0  \n",
       "\n",
       "[1250500 rows x 129 columns]"
      ]
     },
     "execution_count": 10,
     "metadata": {},
     "output_type": "execute_result"
    }
   ],
   "source": [
    "combined_df"
   ]
  },
  {
   "cell_type": "code",
   "execution_count": 11,
   "metadata": {},
   "outputs": [
    {
     "data": {
      "text/plain": [
       "1250500"
      ]
     },
     "execution_count": 11,
     "metadata": {},
     "output_type": "execute_result"
    }
   ],
   "source": [
    "len(combined_df)"
   ]
  },
  {
   "cell_type": "code",
   "execution_count": 12,
   "metadata": {},
   "outputs": [
    {
     "name": "stderr",
     "output_type": "stream",
     "text": [
      "C:\\Users\\admin\\AppData\\Local\\Temp\\ipykernel_30212\\239680038.py:25: SettingWithCopyWarning: \n",
      "A value is trying to be set on a copy of a slice from a DataFrame\n",
      "\n",
      "See the caveats in the documentation: https://pandas.pydata.org/pandas-docs/stable/user_guide/indexing.html#returning-a-view-versus-a-copy\n",
      "  df.loc[df[col] != 999, col] = (df[col] - min_val) / (max_val - min_val)\n"
     ]
    }
   ],
   "source": [
    "# Rotation 컬럼만 선택\n",
    "rotation_columns = [col for col in combined_df.columns if 'Rot' in col]\n",
    "\n",
    "# Position 컬럼만 선택\n",
    "position_columns = [col for col in combined_df.columns if 'Pos' in col]\n",
    "\n",
    "# DataFrame 분리\n",
    "rotation_df = combined_df[rotation_columns]\n",
    "position_df = combined_df[position_columns]\n",
    "\n",
    "# Rotation 컬럼만 -180~180 사이로 정규화\n",
    "normalize_angle = lambda x:x if x == 999 else (x - 360) if x > 180 else (x + 360) if x < -180 else x\n",
    "rotation_df = rotation_df.apply(lambda col: col.apply(normalize_angle))\n",
    "\n",
    "# Position 컬럼만 0~1 사이로 정규화\n",
    "def normalize_columns(df):\n",
    "    for col in df.columns:\n",
    "        if 'Pos' in col:  # 위치에 대한 컬럼만 정규화\n",
    "            # 999 값을 제외하고 min 및 max를 계산\n",
    "            filtered_df = df[df[col] != 999]\n",
    "            min_val = filtered_df[col].min()\n",
    "            max_val = filtered_df[col].max()\n",
    "\n",
    "            # 999가 아닌 값만 정규화\n",
    "            df.loc[df[col] != 999, col] = (df[col] - min_val) / (max_val - min_val)\n",
    "    return df\n",
    "\n",
    "position_df = normalize_columns(position_df)"
   ]
  },
  {
   "cell_type": "code",
   "execution_count": 13,
   "metadata": {},
   "outputs": [
    {
     "name": "stdout",
     "output_type": "stream",
     "text": [
      "범위를 벗어나는 값이 없습니다.\n"
     ]
    }
   ],
   "source": [
    "# -180 ~ 180 범위를 벗어나는 값이 있는지 확인\n",
    "num_values_out_of_range = rotation_df.apply(lambda col: col.apply(lambda x: x != 999 and (x > 180 or x < -180))).sum().sum()\n",
    "\n",
    "# 결과 확인\n",
    "if num_values_out_of_range > 0:\n",
    "    print(f\"범위를 벗어나는 값의 수: {num_values_out_of_range}\")\n",
    "else:\n",
    "    print(\"범위를 벗어나는 값이 없습니다.\")"
   ]
  },
  {
   "cell_type": "code",
   "execution_count": 14,
   "metadata": {},
   "outputs": [
    {
     "name": "stderr",
     "output_type": "stream",
     "text": [
      "C:\\Users\\admin\\AppData\\Local\\Temp\\ipykernel_30212\\3915166593.py:13: PerformanceWarning: DataFrame is highly fragmented.  This is usually the result of calling `frame.insert` many times, which has poor performance.  Consider joining all columns at once using pd.concat(axis=1) instead. To get a de-fragmented frame, use `newframe = frame.copy()`\n",
      "  posrot_df[f'{joint}RotY'] = rotation_df[f'{joint}RotY']\n",
      "C:\\Users\\admin\\AppData\\Local\\Temp\\ipykernel_30212\\3915166593.py:14: PerformanceWarning: DataFrame is highly fragmented.  This is usually the result of calling `frame.insert` many times, which has poor performance.  Consider joining all columns at once using pd.concat(axis=1) instead. To get a de-fragmented frame, use `newframe = frame.copy()`\n",
      "  posrot_df[f'{joint}RotZ'] = rotation_df[f'{joint}RotZ']\n",
      "C:\\Users\\admin\\AppData\\Local\\Temp\\ipykernel_30212\\3915166593.py:9: PerformanceWarning: DataFrame is highly fragmented.  This is usually the result of calling `frame.insert` many times, which has poor performance.  Consider joining all columns at once using pd.concat(axis=1) instead. To get a de-fragmented frame, use `newframe = frame.copy()`\n",
      "  posrot_df[f'{joint}PosX'] = position_df[f'{joint}PosX']\n",
      "C:\\Users\\admin\\AppData\\Local\\Temp\\ipykernel_30212\\3915166593.py:10: PerformanceWarning: DataFrame is highly fragmented.  This is usually the result of calling `frame.insert` many times, which has poor performance.  Consider joining all columns at once using pd.concat(axis=1) instead. To get a de-fragmented frame, use `newframe = frame.copy()`\n",
      "  posrot_df[f'{joint}PosY'] = position_df[f'{joint}PosY']\n",
      "C:\\Users\\admin\\AppData\\Local\\Temp\\ipykernel_30212\\3915166593.py:11: PerformanceWarning: DataFrame is highly fragmented.  This is usually the result of calling `frame.insert` many times, which has poor performance.  Consider joining all columns at once using pd.concat(axis=1) instead. To get a de-fragmented frame, use `newframe = frame.copy()`\n",
      "  posrot_df[f'{joint}PosZ'] = position_df[f'{joint}PosZ']\n",
      "C:\\Users\\admin\\AppData\\Local\\Temp\\ipykernel_30212\\3915166593.py:12: PerformanceWarning: DataFrame is highly fragmented.  This is usually the result of calling `frame.insert` many times, which has poor performance.  Consider joining all columns at once using pd.concat(axis=1) instead. To get a de-fragmented frame, use `newframe = frame.copy()`\n",
      "  posrot_df[f'{joint}RotX'] = rotation_df[f'{joint}RotX']\n",
      "C:\\Users\\admin\\AppData\\Local\\Temp\\ipykernel_30212\\3915166593.py:13: PerformanceWarning: DataFrame is highly fragmented.  This is usually the result of calling `frame.insert` many times, which has poor performance.  Consider joining all columns at once using pd.concat(axis=1) instead. To get a de-fragmented frame, use `newframe = frame.copy()`\n",
      "  posrot_df[f'{joint}RotY'] = rotation_df[f'{joint}RotY']\n",
      "C:\\Users\\admin\\AppData\\Local\\Temp\\ipykernel_30212\\3915166593.py:14: PerformanceWarning: DataFrame is highly fragmented.  This is usually the result of calling `frame.insert` many times, which has poor performance.  Consider joining all columns at once using pd.concat(axis=1) instead. To get a de-fragmented frame, use `newframe = frame.copy()`\n",
      "  posrot_df[f'{joint}RotZ'] = rotation_df[f'{joint}RotZ']\n",
      "C:\\Users\\admin\\AppData\\Local\\Temp\\ipykernel_30212\\3915166593.py:9: PerformanceWarning: DataFrame is highly fragmented.  This is usually the result of calling `frame.insert` many times, which has poor performance.  Consider joining all columns at once using pd.concat(axis=1) instead. To get a de-fragmented frame, use `newframe = frame.copy()`\n",
      "  posrot_df[f'{joint}PosX'] = position_df[f'{joint}PosX']\n",
      "C:\\Users\\admin\\AppData\\Local\\Temp\\ipykernel_30212\\3915166593.py:10: PerformanceWarning: DataFrame is highly fragmented.  This is usually the result of calling `frame.insert` many times, which has poor performance.  Consider joining all columns at once using pd.concat(axis=1) instead. To get a de-fragmented frame, use `newframe = frame.copy()`\n",
      "  posrot_df[f'{joint}PosY'] = position_df[f'{joint}PosY']\n",
      "C:\\Users\\admin\\AppData\\Local\\Temp\\ipykernel_30212\\3915166593.py:11: PerformanceWarning: DataFrame is highly fragmented.  This is usually the result of calling `frame.insert` many times, which has poor performance.  Consider joining all columns at once using pd.concat(axis=1) instead. To get a de-fragmented frame, use `newframe = frame.copy()`\n",
      "  posrot_df[f'{joint}PosZ'] = position_df[f'{joint}PosZ']\n",
      "C:\\Users\\admin\\AppData\\Local\\Temp\\ipykernel_30212\\3915166593.py:12: PerformanceWarning: DataFrame is highly fragmented.  This is usually the result of calling `frame.insert` many times, which has poor performance.  Consider joining all columns at once using pd.concat(axis=1) instead. To get a de-fragmented frame, use `newframe = frame.copy()`\n",
      "  posrot_df[f'{joint}RotX'] = rotation_df[f'{joint}RotX']\n",
      "C:\\Users\\admin\\AppData\\Local\\Temp\\ipykernel_30212\\3915166593.py:13: PerformanceWarning: DataFrame is highly fragmented.  This is usually the result of calling `frame.insert` many times, which has poor performance.  Consider joining all columns at once using pd.concat(axis=1) instead. To get a de-fragmented frame, use `newframe = frame.copy()`\n",
      "  posrot_df[f'{joint}RotY'] = rotation_df[f'{joint}RotY']\n",
      "C:\\Users\\admin\\AppData\\Local\\Temp\\ipykernel_30212\\3915166593.py:14: PerformanceWarning: DataFrame is highly fragmented.  This is usually the result of calling `frame.insert` many times, which has poor performance.  Consider joining all columns at once using pd.concat(axis=1) instead. To get a de-fragmented frame, use `newframe = frame.copy()`\n",
      "  posrot_df[f'{joint}RotZ'] = rotation_df[f'{joint}RotZ']\n",
      "C:\\Users\\admin\\AppData\\Local\\Temp\\ipykernel_30212\\3915166593.py:9: PerformanceWarning: DataFrame is highly fragmented.  This is usually the result of calling `frame.insert` many times, which has poor performance.  Consider joining all columns at once using pd.concat(axis=1) instead. To get a de-fragmented frame, use `newframe = frame.copy()`\n",
      "  posrot_df[f'{joint}PosX'] = position_df[f'{joint}PosX']\n",
      "C:\\Users\\admin\\AppData\\Local\\Temp\\ipykernel_30212\\3915166593.py:10: PerformanceWarning: DataFrame is highly fragmented.  This is usually the result of calling `frame.insert` many times, which has poor performance.  Consider joining all columns at once using pd.concat(axis=1) instead. To get a de-fragmented frame, use `newframe = frame.copy()`\n",
      "  posrot_df[f'{joint}PosY'] = position_df[f'{joint}PosY']\n",
      "C:\\Users\\admin\\AppData\\Local\\Temp\\ipykernel_30212\\3915166593.py:11: PerformanceWarning: DataFrame is highly fragmented.  This is usually the result of calling `frame.insert` many times, which has poor performance.  Consider joining all columns at once using pd.concat(axis=1) instead. To get a de-fragmented frame, use `newframe = frame.copy()`\n",
      "  posrot_df[f'{joint}PosZ'] = position_df[f'{joint}PosZ']\n",
      "C:\\Users\\admin\\AppData\\Local\\Temp\\ipykernel_30212\\3915166593.py:12: PerformanceWarning: DataFrame is highly fragmented.  This is usually the result of calling `frame.insert` many times, which has poor performance.  Consider joining all columns at once using pd.concat(axis=1) instead. To get a de-fragmented frame, use `newframe = frame.copy()`\n",
      "  posrot_df[f'{joint}RotX'] = rotation_df[f'{joint}RotX']\n",
      "C:\\Users\\admin\\AppData\\Local\\Temp\\ipykernel_30212\\3915166593.py:13: PerformanceWarning: DataFrame is highly fragmented.  This is usually the result of calling `frame.insert` many times, which has poor performance.  Consider joining all columns at once using pd.concat(axis=1) instead. To get a de-fragmented frame, use `newframe = frame.copy()`\n",
      "  posrot_df[f'{joint}RotY'] = rotation_df[f'{joint}RotY']\n",
      "C:\\Users\\admin\\AppData\\Local\\Temp\\ipykernel_30212\\3915166593.py:14: PerformanceWarning: DataFrame is highly fragmented.  This is usually the result of calling `frame.insert` many times, which has poor performance.  Consider joining all columns at once using pd.concat(axis=1) instead. To get a de-fragmented frame, use `newframe = frame.copy()`\n",
      "  posrot_df[f'{joint}RotZ'] = rotation_df[f'{joint}RotZ']\n",
      "C:\\Users\\admin\\AppData\\Local\\Temp\\ipykernel_30212\\3915166593.py:9: PerformanceWarning: DataFrame is highly fragmented.  This is usually the result of calling `frame.insert` many times, which has poor performance.  Consider joining all columns at once using pd.concat(axis=1) instead. To get a de-fragmented frame, use `newframe = frame.copy()`\n",
      "  posrot_df[f'{joint}PosX'] = position_df[f'{joint}PosX']\n",
      "C:\\Users\\admin\\AppData\\Local\\Temp\\ipykernel_30212\\3915166593.py:10: PerformanceWarning: DataFrame is highly fragmented.  This is usually the result of calling `frame.insert` many times, which has poor performance.  Consider joining all columns at once using pd.concat(axis=1) instead. To get a de-fragmented frame, use `newframe = frame.copy()`\n",
      "  posrot_df[f'{joint}PosY'] = position_df[f'{joint}PosY']\n",
      "C:\\Users\\admin\\AppData\\Local\\Temp\\ipykernel_30212\\3915166593.py:11: PerformanceWarning: DataFrame is highly fragmented.  This is usually the result of calling `frame.insert` many times, which has poor performance.  Consider joining all columns at once using pd.concat(axis=1) instead. To get a de-fragmented frame, use `newframe = frame.copy()`\n",
      "  posrot_df[f'{joint}PosZ'] = position_df[f'{joint}PosZ']\n",
      "C:\\Users\\admin\\AppData\\Local\\Temp\\ipykernel_30212\\3915166593.py:12: PerformanceWarning: DataFrame is highly fragmented.  This is usually the result of calling `frame.insert` many times, which has poor performance.  Consider joining all columns at once using pd.concat(axis=1) instead. To get a de-fragmented frame, use `newframe = frame.copy()`\n",
      "  posrot_df[f'{joint}RotX'] = rotation_df[f'{joint}RotX']\n",
      "C:\\Users\\admin\\AppData\\Local\\Temp\\ipykernel_30212\\3915166593.py:13: PerformanceWarning: DataFrame is highly fragmented.  This is usually the result of calling `frame.insert` many times, which has poor performance.  Consider joining all columns at once using pd.concat(axis=1) instead. To get a de-fragmented frame, use `newframe = frame.copy()`\n",
      "  posrot_df[f'{joint}RotY'] = rotation_df[f'{joint}RotY']\n",
      "C:\\Users\\admin\\AppData\\Local\\Temp\\ipykernel_30212\\3915166593.py:14: PerformanceWarning: DataFrame is highly fragmented.  This is usually the result of calling `frame.insert` many times, which has poor performance.  Consider joining all columns at once using pd.concat(axis=1) instead. To get a de-fragmented frame, use `newframe = frame.copy()`\n",
      "  posrot_df[f'{joint}RotZ'] = rotation_df[f'{joint}RotZ']\n"
     ]
    }
   ],
   "source": [
    "# 조인트 이름 추출\n",
    "joint_names = [col.split('PosX')[0] for col in position_df.columns if 'PosX' in col]\n",
    "\n",
    "# 빈 데이터 프레임 생성\n",
    "posrot_df = pd.DataFrame()\n",
    "\n",
    "# 각 조인트에 대해 위치 데이터와 회전 데이터를 순차적으로 배열\n",
    "for joint in joint_names:\n",
    "    posrot_df[f'{joint}PosX'] = position_df[f'{joint}PosX']\n",
    "    posrot_df[f'{joint}PosY'] = position_df[f'{joint}PosY']\n",
    "    posrot_df[f'{joint}PosZ'] = position_df[f'{joint}PosZ']\n",
    "    posrot_df[f'{joint}RotX'] = rotation_df[f'{joint}RotX']\n",
    "    posrot_df[f'{joint}RotY'] = rotation_df[f'{joint}RotY']\n",
    "    posrot_df[f'{joint}RotZ'] = rotation_df[f'{joint}RotZ']"
   ]
  },
  {
   "cell_type": "code",
   "execution_count": 15,
   "metadata": {},
   "outputs": [
    {
     "data": {
      "text/html": [
       "<div>\n",
       "<style scoped>\n",
       "    .dataframe tbody tr th:only-of-type {\n",
       "        vertical-align: middle;\n",
       "    }\n",
       "\n",
       "    .dataframe tbody tr th {\n",
       "        vertical-align: top;\n",
       "    }\n",
       "\n",
       "    .dataframe thead th {\n",
       "        text-align: right;\n",
       "    }\n",
       "</style>\n",
       "<table border=\"1\" class=\"dataframe\">\n",
       "  <thead>\n",
       "    <tr style=\"text-align: right;\">\n",
       "      <th></th>\n",
       "      <th>m_avg_PelvisPosX</th>\n",
       "      <th>m_avg_PelvisPosY</th>\n",
       "      <th>m_avg_PelvisPosZ</th>\n",
       "      <th>m_avg_PelvisRotX</th>\n",
       "      <th>m_avg_PelvisRotY</th>\n",
       "      <th>m_avg_PelvisRotZ</th>\n",
       "      <th>m_avg_L_HipPosX</th>\n",
       "      <th>m_avg_L_HipPosY</th>\n",
       "      <th>m_avg_L_HipPosZ</th>\n",
       "      <th>m_avg_L_HipRotX</th>\n",
       "      <th>...</th>\n",
       "      <th>m_avg_R_ElbowPosZ</th>\n",
       "      <th>m_avg_R_ElbowRotX</th>\n",
       "      <th>m_avg_R_ElbowRotY</th>\n",
       "      <th>m_avg_R_ElbowRotZ</th>\n",
       "      <th>m_avg_R_WristPosX</th>\n",
       "      <th>m_avg_R_WristPosY</th>\n",
       "      <th>m_avg_R_WristPosZ</th>\n",
       "      <th>m_avg_R_WristRotX</th>\n",
       "      <th>m_avg_R_WristRotY</th>\n",
       "      <th>m_avg_R_WristRotZ</th>\n",
       "    </tr>\n",
       "  </thead>\n",
       "  <tbody>\n",
       "    <tr>\n",
       "      <th>0</th>\n",
       "      <td>0.586219</td>\n",
       "      <td>0.625759</td>\n",
       "      <td>0.428094</td>\n",
       "      <td>-1.17500</td>\n",
       "      <td>0.679502</td>\n",
       "      <td>-0.1588</td>\n",
       "      <td>0.563147</td>\n",
       "      <td>0.614554</td>\n",
       "      <td>0.427315</td>\n",
       "      <td>-0.2778</td>\n",
       "      <td>...</td>\n",
       "      <td>0.425514</td>\n",
       "      <td>8.262754</td>\n",
       "      <td>-7.7778</td>\n",
       "      <td>-9.260900</td>\n",
       "      <td>0.754464</td>\n",
       "      <td>0.705660</td>\n",
       "      <td>0.437026</td>\n",
       "      <td>0.200809</td>\n",
       "      <td>-0.44160</td>\n",
       "      <td>0.846429</td>\n",
       "    </tr>\n",
       "    <tr>\n",
       "      <th>1</th>\n",
       "      <td>0.586219</td>\n",
       "      <td>0.625759</td>\n",
       "      <td>0.428094</td>\n",
       "      <td>-1.17500</td>\n",
       "      <td>0.679502</td>\n",
       "      <td>-0.1588</td>\n",
       "      <td>0.563147</td>\n",
       "      <td>0.614554</td>\n",
       "      <td>0.427315</td>\n",
       "      <td>-0.2778</td>\n",
       "      <td>...</td>\n",
       "      <td>0.425524</td>\n",
       "      <td>8.274371</td>\n",
       "      <td>-7.7271</td>\n",
       "      <td>-9.227700</td>\n",
       "      <td>0.754483</td>\n",
       "      <td>0.705789</td>\n",
       "      <td>0.437009</td>\n",
       "      <td>0.114945</td>\n",
       "      <td>-0.46430</td>\n",
       "      <td>0.884086</td>\n",
       "    </tr>\n",
       "    <tr>\n",
       "      <th>2</th>\n",
       "      <td>0.586219</td>\n",
       "      <td>0.625759</td>\n",
       "      <td>0.428094</td>\n",
       "      <td>-1.17500</td>\n",
       "      <td>0.679502</td>\n",
       "      <td>-0.1588</td>\n",
       "      <td>0.563147</td>\n",
       "      <td>0.614554</td>\n",
       "      <td>0.427315</td>\n",
       "      <td>-0.2778</td>\n",
       "      <td>...</td>\n",
       "      <td>0.425540</td>\n",
       "      <td>8.273871</td>\n",
       "      <td>-7.7082</td>\n",
       "      <td>-9.194000</td>\n",
       "      <td>0.754499</td>\n",
       "      <td>0.705913</td>\n",
       "      <td>0.437017</td>\n",
       "      <td>0.151095</td>\n",
       "      <td>-0.47290</td>\n",
       "      <td>0.923961</td>\n",
       "    </tr>\n",
       "    <tr>\n",
       "      <th>3</th>\n",
       "      <td>0.586219</td>\n",
       "      <td>0.625759</td>\n",
       "      <td>0.428094</td>\n",
       "      <td>-1.17500</td>\n",
       "      <td>0.679492</td>\n",
       "      <td>-0.1588</td>\n",
       "      <td>0.563147</td>\n",
       "      <td>0.614554</td>\n",
       "      <td>0.427315</td>\n",
       "      <td>-0.2778</td>\n",
       "      <td>...</td>\n",
       "      <td>0.425547</td>\n",
       "      <td>8.267890</td>\n",
       "      <td>-7.7246</td>\n",
       "      <td>-9.186000</td>\n",
       "      <td>0.754499</td>\n",
       "      <td>0.705914</td>\n",
       "      <td>0.437034</td>\n",
       "      <td>0.239347</td>\n",
       "      <td>-0.46150</td>\n",
       "      <td>0.959352</td>\n",
       "    </tr>\n",
       "    <tr>\n",
       "      <th>4</th>\n",
       "      <td>0.586219</td>\n",
       "      <td>0.625759</td>\n",
       "      <td>0.428094</td>\n",
       "      <td>-1.17500</td>\n",
       "      <td>0.679492</td>\n",
       "      <td>-0.1588</td>\n",
       "      <td>0.563147</td>\n",
       "      <td>0.614554</td>\n",
       "      <td>0.427315</td>\n",
       "      <td>-0.2778</td>\n",
       "      <td>...</td>\n",
       "      <td>0.425527</td>\n",
       "      <td>8.257694</td>\n",
       "      <td>-7.7715</td>\n",
       "      <td>-9.153100</td>\n",
       "      <td>0.754494</td>\n",
       "      <td>0.706012</td>\n",
       "      <td>0.437045</td>\n",
       "      <td>0.385812</td>\n",
       "      <td>-0.42820</td>\n",
       "      <td>0.958712</td>\n",
       "    </tr>\n",
       "    <tr>\n",
       "      <th>...</th>\n",
       "      <td>...</td>\n",
       "      <td>...</td>\n",
       "      <td>...</td>\n",
       "      <td>...</td>\n",
       "      <td>...</td>\n",
       "      <td>...</td>\n",
       "      <td>...</td>\n",
       "      <td>...</td>\n",
       "      <td>...</td>\n",
       "      <td>...</td>\n",
       "      <td>...</td>\n",
       "      <td>...</td>\n",
       "      <td>...</td>\n",
       "      <td>...</td>\n",
       "      <td>...</td>\n",
       "      <td>...</td>\n",
       "      <td>...</td>\n",
       "      <td>...</td>\n",
       "      <td>...</td>\n",
       "      <td>...</td>\n",
       "      <td>...</td>\n",
       "    </tr>\n",
       "    <tr>\n",
       "      <th>1250495</th>\n",
       "      <td>0.372546</td>\n",
       "      <td>0.563683</td>\n",
       "      <td>0.446105</td>\n",
       "      <td>18.35563</td>\n",
       "      <td>179.608500</td>\n",
       "      <td>-2.3751</td>\n",
       "      <td>0.383035</td>\n",
       "      <td>0.563848</td>\n",
       "      <td>0.453434</td>\n",
       "      <td>-0.4831</td>\n",
       "      <td>...</td>\n",
       "      <td>0.455031</td>\n",
       "      <td>11.131550</td>\n",
       "      <td>-161.6278</td>\n",
       "      <td>3.791916</td>\n",
       "      <td>0.200521</td>\n",
       "      <td>0.752044</td>\n",
       "      <td>0.473122</td>\n",
       "      <td>47.211770</td>\n",
       "      <td>37.32508</td>\n",
       "      <td>178.617100</td>\n",
       "    </tr>\n",
       "    <tr>\n",
       "      <th>1250496</th>\n",
       "      <td>0.372546</td>\n",
       "      <td>0.563683</td>\n",
       "      <td>0.446105</td>\n",
       "      <td>18.35563</td>\n",
       "      <td>179.608500</td>\n",
       "      <td>-2.3751</td>\n",
       "      <td>0.383035</td>\n",
       "      <td>0.563848</td>\n",
       "      <td>0.453434</td>\n",
       "      <td>-0.4831</td>\n",
       "      <td>...</td>\n",
       "      <td>0.455031</td>\n",
       "      <td>11.133720</td>\n",
       "      <td>-161.5798</td>\n",
       "      <td>3.836214</td>\n",
       "      <td>0.200541</td>\n",
       "      <td>0.752139</td>\n",
       "      <td>0.473142</td>\n",
       "      <td>47.288450</td>\n",
       "      <td>37.23001</td>\n",
       "      <td>178.460700</td>\n",
       "    </tr>\n",
       "    <tr>\n",
       "      <th>1250497</th>\n",
       "      <td>0.372546</td>\n",
       "      <td>0.563683</td>\n",
       "      <td>0.446105</td>\n",
       "      <td>18.35563</td>\n",
       "      <td>179.608500</td>\n",
       "      <td>-2.3751</td>\n",
       "      <td>0.383035</td>\n",
       "      <td>0.563848</td>\n",
       "      <td>0.453434</td>\n",
       "      <td>-0.4831</td>\n",
       "      <td>...</td>\n",
       "      <td>0.455031</td>\n",
       "      <td>11.135700</td>\n",
       "      <td>-161.5301</td>\n",
       "      <td>3.866319</td>\n",
       "      <td>0.200561</td>\n",
       "      <td>0.752204</td>\n",
       "      <td>0.473165</td>\n",
       "      <td>47.363370</td>\n",
       "      <td>37.13769</td>\n",
       "      <td>178.286900</td>\n",
       "    </tr>\n",
       "    <tr>\n",
       "      <th>1250498</th>\n",
       "      <td>0.372510</td>\n",
       "      <td>0.563243</td>\n",
       "      <td>0.446288</td>\n",
       "      <td>18.44855</td>\n",
       "      <td>179.665600</td>\n",
       "      <td>-2.5074</td>\n",
       "      <td>0.383066</td>\n",
       "      <td>0.563565</td>\n",
       "      <td>0.453621</td>\n",
       "      <td>-0.7340</td>\n",
       "      <td>...</td>\n",
       "      <td>0.455199</td>\n",
       "      <td>11.140010</td>\n",
       "      <td>-161.4855</td>\n",
       "      <td>3.896140</td>\n",
       "      <td>0.200642</td>\n",
       "      <td>0.751381</td>\n",
       "      <td>0.473349</td>\n",
       "      <td>47.438840</td>\n",
       "      <td>37.06465</td>\n",
       "      <td>178.126200</td>\n",
       "    </tr>\n",
       "    <tr>\n",
       "      <th>1250499</th>\n",
       "      <td>999.000000</td>\n",
       "      <td>999.000000</td>\n",
       "      <td>999.000000</td>\n",
       "      <td>999.00000</td>\n",
       "      <td>999.000000</td>\n",
       "      <td>999.0000</td>\n",
       "      <td>999.000000</td>\n",
       "      <td>999.000000</td>\n",
       "      <td>999.000000</td>\n",
       "      <td>999.0000</td>\n",
       "      <td>...</td>\n",
       "      <td>999.000000</td>\n",
       "      <td>999.000000</td>\n",
       "      <td>999.0000</td>\n",
       "      <td>999.000000</td>\n",
       "      <td>999.000000</td>\n",
       "      <td>999.000000</td>\n",
       "      <td>999.000000</td>\n",
       "      <td>999.000000</td>\n",
       "      <td>999.00000</td>\n",
       "      <td>999.000000</td>\n",
       "    </tr>\n",
       "  </tbody>\n",
       "</table>\n",
       "<p>1250500 rows × 126 columns</p>\n",
       "</div>"
      ],
      "text/plain": [
       "         m_avg_PelvisPosX  m_avg_PelvisPosY  m_avg_PelvisPosZ  \\\n",
       "0                0.586219          0.625759          0.428094   \n",
       "1                0.586219          0.625759          0.428094   \n",
       "2                0.586219          0.625759          0.428094   \n",
       "3                0.586219          0.625759          0.428094   \n",
       "4                0.586219          0.625759          0.428094   \n",
       "...                   ...               ...               ...   \n",
       "1250495          0.372546          0.563683          0.446105   \n",
       "1250496          0.372546          0.563683          0.446105   \n",
       "1250497          0.372546          0.563683          0.446105   \n",
       "1250498          0.372510          0.563243          0.446288   \n",
       "1250499        999.000000        999.000000        999.000000   \n",
       "\n",
       "         m_avg_PelvisRotX  m_avg_PelvisRotY  m_avg_PelvisRotZ  \\\n",
       "0                -1.17500          0.679502           -0.1588   \n",
       "1                -1.17500          0.679502           -0.1588   \n",
       "2                -1.17500          0.679502           -0.1588   \n",
       "3                -1.17500          0.679492           -0.1588   \n",
       "4                -1.17500          0.679492           -0.1588   \n",
       "...                   ...               ...               ...   \n",
       "1250495          18.35563        179.608500           -2.3751   \n",
       "1250496          18.35563        179.608500           -2.3751   \n",
       "1250497          18.35563        179.608500           -2.3751   \n",
       "1250498          18.44855        179.665600           -2.5074   \n",
       "1250499         999.00000        999.000000          999.0000   \n",
       "\n",
       "         m_avg_L_HipPosX  m_avg_L_HipPosY  m_avg_L_HipPosZ  m_avg_L_HipRotX  \\\n",
       "0               0.563147         0.614554         0.427315          -0.2778   \n",
       "1               0.563147         0.614554         0.427315          -0.2778   \n",
       "2               0.563147         0.614554         0.427315          -0.2778   \n",
       "3               0.563147         0.614554         0.427315          -0.2778   \n",
       "4               0.563147         0.614554         0.427315          -0.2778   \n",
       "...                  ...              ...              ...              ...   \n",
       "1250495         0.383035         0.563848         0.453434          -0.4831   \n",
       "1250496         0.383035         0.563848         0.453434          -0.4831   \n",
       "1250497         0.383035         0.563848         0.453434          -0.4831   \n",
       "1250498         0.383066         0.563565         0.453621          -0.7340   \n",
       "1250499       999.000000       999.000000       999.000000         999.0000   \n",
       "\n",
       "         ...  m_avg_R_ElbowPosZ  m_avg_R_ElbowRotX  m_avg_R_ElbowRotY  \\\n",
       "0        ...           0.425514           8.262754            -7.7778   \n",
       "1        ...           0.425524           8.274371            -7.7271   \n",
       "2        ...           0.425540           8.273871            -7.7082   \n",
       "3        ...           0.425547           8.267890            -7.7246   \n",
       "4        ...           0.425527           8.257694            -7.7715   \n",
       "...      ...                ...                ...                ...   \n",
       "1250495  ...           0.455031          11.131550          -161.6278   \n",
       "1250496  ...           0.455031          11.133720          -161.5798   \n",
       "1250497  ...           0.455031          11.135700          -161.5301   \n",
       "1250498  ...           0.455199          11.140010          -161.4855   \n",
       "1250499  ...         999.000000         999.000000           999.0000   \n",
       "\n",
       "         m_avg_R_ElbowRotZ  m_avg_R_WristPosX  m_avg_R_WristPosY  \\\n",
       "0                -9.260900           0.754464           0.705660   \n",
       "1                -9.227700           0.754483           0.705789   \n",
       "2                -9.194000           0.754499           0.705913   \n",
       "3                -9.186000           0.754499           0.705914   \n",
       "4                -9.153100           0.754494           0.706012   \n",
       "...                    ...                ...                ...   \n",
       "1250495           3.791916           0.200521           0.752044   \n",
       "1250496           3.836214           0.200541           0.752139   \n",
       "1250497           3.866319           0.200561           0.752204   \n",
       "1250498           3.896140           0.200642           0.751381   \n",
       "1250499         999.000000         999.000000         999.000000   \n",
       "\n",
       "         m_avg_R_WristPosZ  m_avg_R_WristRotX  m_avg_R_WristRotY  \\\n",
       "0                 0.437026           0.200809           -0.44160   \n",
       "1                 0.437009           0.114945           -0.46430   \n",
       "2                 0.437017           0.151095           -0.47290   \n",
       "3                 0.437034           0.239347           -0.46150   \n",
       "4                 0.437045           0.385812           -0.42820   \n",
       "...                    ...                ...                ...   \n",
       "1250495           0.473122          47.211770           37.32508   \n",
       "1250496           0.473142          47.288450           37.23001   \n",
       "1250497           0.473165          47.363370           37.13769   \n",
       "1250498           0.473349          47.438840           37.06465   \n",
       "1250499         999.000000         999.000000          999.00000   \n",
       "\n",
       "         m_avg_R_WristRotZ  \n",
       "0                 0.846429  \n",
       "1                 0.884086  \n",
       "2                 0.923961  \n",
       "3                 0.959352  \n",
       "4                 0.958712  \n",
       "...                    ...  \n",
       "1250495         178.617100  \n",
       "1250496         178.460700  \n",
       "1250497         178.286900  \n",
       "1250498         178.126200  \n",
       "1250499         999.000000  \n",
       "\n",
       "[1250500 rows x 126 columns]"
      ]
     },
     "execution_count": 15,
     "metadata": {},
     "output_type": "execute_result"
    }
   ],
   "source": [
    "# Position 컬럼은 그대로 두고, 다시 합치기\n",
    "posrot_df"
   ]
  },
  {
   "cell_type": "markdown",
   "metadata": {},
   "source": [
    "# Transformer Learning"
   ]
  },
  {
   "cell_type": "code",
   "execution_count": 16,
   "metadata": {},
   "outputs": [],
   "source": [
    "import torch\n",
    "import torch.nn as nn\n",
    "import torch.nn.functional as F\n",
    "import torch.optim as optim\n",
    "import math\n",
    "from torch_geometric.nn import GCNConv\n",
    "from torch.utils.data import DataLoader, Dataset, random_split\n",
    "from torchsummary import summary\n",
    "from sklearn.model_selection import train_test_split\n",
    "from tqdm import tqdm"
   ]
  },
  {
   "cell_type": "code",
   "execution_count": 17,
   "metadata": {},
   "outputs": [],
   "source": [
    "# 변환된 데이터를 DataFrame으로 변환\n",
    "posrot_df = pd.DataFrame(posrot_df, columns=posrot_df.columns)"
   ]
  },
  {
   "cell_type": "code",
   "execution_count": 18,
   "metadata": {},
   "outputs": [
    {
     "data": {
      "text/html": [
       "<div>\n",
       "<style scoped>\n",
       "    .dataframe tbody tr th:only-of-type {\n",
       "        vertical-align: middle;\n",
       "    }\n",
       "\n",
       "    .dataframe tbody tr th {\n",
       "        vertical-align: top;\n",
       "    }\n",
       "\n",
       "    .dataframe thead th {\n",
       "        text-align: right;\n",
       "    }\n",
       "</style>\n",
       "<table border=\"1\" class=\"dataframe\">\n",
       "  <thead>\n",
       "    <tr style=\"text-align: right;\">\n",
       "      <th></th>\n",
       "      <th>m_avg_PelvisPosX</th>\n",
       "      <th>m_avg_PelvisPosY</th>\n",
       "      <th>m_avg_PelvisPosZ</th>\n",
       "      <th>m_avg_PelvisRotX</th>\n",
       "      <th>m_avg_PelvisRotY</th>\n",
       "      <th>m_avg_PelvisRotZ</th>\n",
       "      <th>m_avg_L_HipPosX</th>\n",
       "      <th>m_avg_L_HipPosY</th>\n",
       "      <th>m_avg_L_HipPosZ</th>\n",
       "      <th>m_avg_L_HipRotX</th>\n",
       "      <th>...</th>\n",
       "      <th>m_avg_R_ElbowPosZ</th>\n",
       "      <th>m_avg_R_ElbowRotX</th>\n",
       "      <th>m_avg_R_ElbowRotY</th>\n",
       "      <th>m_avg_R_ElbowRotZ</th>\n",
       "      <th>m_avg_R_WristPosX</th>\n",
       "      <th>m_avg_R_WristPosY</th>\n",
       "      <th>m_avg_R_WristPosZ</th>\n",
       "      <th>m_avg_R_WristRotX</th>\n",
       "      <th>m_avg_R_WristRotY</th>\n",
       "      <th>m_avg_R_WristRotZ</th>\n",
       "    </tr>\n",
       "  </thead>\n",
       "  <tbody>\n",
       "    <tr>\n",
       "      <th>0</th>\n",
       "      <td>0.586219</td>\n",
       "      <td>0.625759</td>\n",
       "      <td>0.428094</td>\n",
       "      <td>-1.17500</td>\n",
       "      <td>0.679502</td>\n",
       "      <td>-0.1588</td>\n",
       "      <td>0.563147</td>\n",
       "      <td>0.614554</td>\n",
       "      <td>0.427315</td>\n",
       "      <td>-0.2778</td>\n",
       "      <td>...</td>\n",
       "      <td>0.425514</td>\n",
       "      <td>8.262754</td>\n",
       "      <td>-7.7778</td>\n",
       "      <td>-9.260900</td>\n",
       "      <td>0.754464</td>\n",
       "      <td>0.705660</td>\n",
       "      <td>0.437026</td>\n",
       "      <td>0.200809</td>\n",
       "      <td>-0.44160</td>\n",
       "      <td>0.846429</td>\n",
       "    </tr>\n",
       "    <tr>\n",
       "      <th>1</th>\n",
       "      <td>0.586219</td>\n",
       "      <td>0.625759</td>\n",
       "      <td>0.428094</td>\n",
       "      <td>-1.17500</td>\n",
       "      <td>0.679502</td>\n",
       "      <td>-0.1588</td>\n",
       "      <td>0.563147</td>\n",
       "      <td>0.614554</td>\n",
       "      <td>0.427315</td>\n",
       "      <td>-0.2778</td>\n",
       "      <td>...</td>\n",
       "      <td>0.425524</td>\n",
       "      <td>8.274371</td>\n",
       "      <td>-7.7271</td>\n",
       "      <td>-9.227700</td>\n",
       "      <td>0.754483</td>\n",
       "      <td>0.705789</td>\n",
       "      <td>0.437009</td>\n",
       "      <td>0.114945</td>\n",
       "      <td>-0.46430</td>\n",
       "      <td>0.884086</td>\n",
       "    </tr>\n",
       "    <tr>\n",
       "      <th>2</th>\n",
       "      <td>0.586219</td>\n",
       "      <td>0.625759</td>\n",
       "      <td>0.428094</td>\n",
       "      <td>-1.17500</td>\n",
       "      <td>0.679502</td>\n",
       "      <td>-0.1588</td>\n",
       "      <td>0.563147</td>\n",
       "      <td>0.614554</td>\n",
       "      <td>0.427315</td>\n",
       "      <td>-0.2778</td>\n",
       "      <td>...</td>\n",
       "      <td>0.425540</td>\n",
       "      <td>8.273871</td>\n",
       "      <td>-7.7082</td>\n",
       "      <td>-9.194000</td>\n",
       "      <td>0.754499</td>\n",
       "      <td>0.705913</td>\n",
       "      <td>0.437017</td>\n",
       "      <td>0.151095</td>\n",
       "      <td>-0.47290</td>\n",
       "      <td>0.923961</td>\n",
       "    </tr>\n",
       "    <tr>\n",
       "      <th>3</th>\n",
       "      <td>0.586219</td>\n",
       "      <td>0.625759</td>\n",
       "      <td>0.428094</td>\n",
       "      <td>-1.17500</td>\n",
       "      <td>0.679492</td>\n",
       "      <td>-0.1588</td>\n",
       "      <td>0.563147</td>\n",
       "      <td>0.614554</td>\n",
       "      <td>0.427315</td>\n",
       "      <td>-0.2778</td>\n",
       "      <td>...</td>\n",
       "      <td>0.425547</td>\n",
       "      <td>8.267890</td>\n",
       "      <td>-7.7246</td>\n",
       "      <td>-9.186000</td>\n",
       "      <td>0.754499</td>\n",
       "      <td>0.705914</td>\n",
       "      <td>0.437034</td>\n",
       "      <td>0.239347</td>\n",
       "      <td>-0.46150</td>\n",
       "      <td>0.959352</td>\n",
       "    </tr>\n",
       "    <tr>\n",
       "      <th>4</th>\n",
       "      <td>0.586219</td>\n",
       "      <td>0.625759</td>\n",
       "      <td>0.428094</td>\n",
       "      <td>-1.17500</td>\n",
       "      <td>0.679492</td>\n",
       "      <td>-0.1588</td>\n",
       "      <td>0.563147</td>\n",
       "      <td>0.614554</td>\n",
       "      <td>0.427315</td>\n",
       "      <td>-0.2778</td>\n",
       "      <td>...</td>\n",
       "      <td>0.425527</td>\n",
       "      <td>8.257694</td>\n",
       "      <td>-7.7715</td>\n",
       "      <td>-9.153100</td>\n",
       "      <td>0.754494</td>\n",
       "      <td>0.706012</td>\n",
       "      <td>0.437045</td>\n",
       "      <td>0.385812</td>\n",
       "      <td>-0.42820</td>\n",
       "      <td>0.958712</td>\n",
       "    </tr>\n",
       "    <tr>\n",
       "      <th>...</th>\n",
       "      <td>...</td>\n",
       "      <td>...</td>\n",
       "      <td>...</td>\n",
       "      <td>...</td>\n",
       "      <td>...</td>\n",
       "      <td>...</td>\n",
       "      <td>...</td>\n",
       "      <td>...</td>\n",
       "      <td>...</td>\n",
       "      <td>...</td>\n",
       "      <td>...</td>\n",
       "      <td>...</td>\n",
       "      <td>...</td>\n",
       "      <td>...</td>\n",
       "      <td>...</td>\n",
       "      <td>...</td>\n",
       "      <td>...</td>\n",
       "      <td>...</td>\n",
       "      <td>...</td>\n",
       "      <td>...</td>\n",
       "      <td>...</td>\n",
       "    </tr>\n",
       "    <tr>\n",
       "      <th>1250495</th>\n",
       "      <td>0.372546</td>\n",
       "      <td>0.563683</td>\n",
       "      <td>0.446105</td>\n",
       "      <td>18.35563</td>\n",
       "      <td>179.608500</td>\n",
       "      <td>-2.3751</td>\n",
       "      <td>0.383035</td>\n",
       "      <td>0.563848</td>\n",
       "      <td>0.453434</td>\n",
       "      <td>-0.4831</td>\n",
       "      <td>...</td>\n",
       "      <td>0.455031</td>\n",
       "      <td>11.131550</td>\n",
       "      <td>-161.6278</td>\n",
       "      <td>3.791916</td>\n",
       "      <td>0.200521</td>\n",
       "      <td>0.752044</td>\n",
       "      <td>0.473122</td>\n",
       "      <td>47.211770</td>\n",
       "      <td>37.32508</td>\n",
       "      <td>178.617100</td>\n",
       "    </tr>\n",
       "    <tr>\n",
       "      <th>1250496</th>\n",
       "      <td>0.372546</td>\n",
       "      <td>0.563683</td>\n",
       "      <td>0.446105</td>\n",
       "      <td>18.35563</td>\n",
       "      <td>179.608500</td>\n",
       "      <td>-2.3751</td>\n",
       "      <td>0.383035</td>\n",
       "      <td>0.563848</td>\n",
       "      <td>0.453434</td>\n",
       "      <td>-0.4831</td>\n",
       "      <td>...</td>\n",
       "      <td>0.455031</td>\n",
       "      <td>11.133720</td>\n",
       "      <td>-161.5798</td>\n",
       "      <td>3.836214</td>\n",
       "      <td>0.200541</td>\n",
       "      <td>0.752139</td>\n",
       "      <td>0.473142</td>\n",
       "      <td>47.288450</td>\n",
       "      <td>37.23001</td>\n",
       "      <td>178.460700</td>\n",
       "    </tr>\n",
       "    <tr>\n",
       "      <th>1250497</th>\n",
       "      <td>0.372546</td>\n",
       "      <td>0.563683</td>\n",
       "      <td>0.446105</td>\n",
       "      <td>18.35563</td>\n",
       "      <td>179.608500</td>\n",
       "      <td>-2.3751</td>\n",
       "      <td>0.383035</td>\n",
       "      <td>0.563848</td>\n",
       "      <td>0.453434</td>\n",
       "      <td>-0.4831</td>\n",
       "      <td>...</td>\n",
       "      <td>0.455031</td>\n",
       "      <td>11.135700</td>\n",
       "      <td>-161.5301</td>\n",
       "      <td>3.866319</td>\n",
       "      <td>0.200561</td>\n",
       "      <td>0.752204</td>\n",
       "      <td>0.473165</td>\n",
       "      <td>47.363370</td>\n",
       "      <td>37.13769</td>\n",
       "      <td>178.286900</td>\n",
       "    </tr>\n",
       "    <tr>\n",
       "      <th>1250498</th>\n",
       "      <td>0.372510</td>\n",
       "      <td>0.563243</td>\n",
       "      <td>0.446288</td>\n",
       "      <td>18.44855</td>\n",
       "      <td>179.665600</td>\n",
       "      <td>-2.5074</td>\n",
       "      <td>0.383066</td>\n",
       "      <td>0.563565</td>\n",
       "      <td>0.453621</td>\n",
       "      <td>-0.7340</td>\n",
       "      <td>...</td>\n",
       "      <td>0.455199</td>\n",
       "      <td>11.140010</td>\n",
       "      <td>-161.4855</td>\n",
       "      <td>3.896140</td>\n",
       "      <td>0.200642</td>\n",
       "      <td>0.751381</td>\n",
       "      <td>0.473349</td>\n",
       "      <td>47.438840</td>\n",
       "      <td>37.06465</td>\n",
       "      <td>178.126200</td>\n",
       "    </tr>\n",
       "    <tr>\n",
       "      <th>1250499</th>\n",
       "      <td>999.000000</td>\n",
       "      <td>999.000000</td>\n",
       "      <td>999.000000</td>\n",
       "      <td>999.00000</td>\n",
       "      <td>999.000000</td>\n",
       "      <td>999.0000</td>\n",
       "      <td>999.000000</td>\n",
       "      <td>999.000000</td>\n",
       "      <td>999.000000</td>\n",
       "      <td>999.0000</td>\n",
       "      <td>...</td>\n",
       "      <td>999.000000</td>\n",
       "      <td>999.000000</td>\n",
       "      <td>999.0000</td>\n",
       "      <td>999.000000</td>\n",
       "      <td>999.000000</td>\n",
       "      <td>999.000000</td>\n",
       "      <td>999.000000</td>\n",
       "      <td>999.000000</td>\n",
       "      <td>999.00000</td>\n",
       "      <td>999.000000</td>\n",
       "    </tr>\n",
       "  </tbody>\n",
       "</table>\n",
       "<p>1250500 rows × 126 columns</p>\n",
       "</div>"
      ],
      "text/plain": [
       "         m_avg_PelvisPosX  m_avg_PelvisPosY  m_avg_PelvisPosZ  \\\n",
       "0                0.586219          0.625759          0.428094   \n",
       "1                0.586219          0.625759          0.428094   \n",
       "2                0.586219          0.625759          0.428094   \n",
       "3                0.586219          0.625759          0.428094   \n",
       "4                0.586219          0.625759          0.428094   \n",
       "...                   ...               ...               ...   \n",
       "1250495          0.372546          0.563683          0.446105   \n",
       "1250496          0.372546          0.563683          0.446105   \n",
       "1250497          0.372546          0.563683          0.446105   \n",
       "1250498          0.372510          0.563243          0.446288   \n",
       "1250499        999.000000        999.000000        999.000000   \n",
       "\n",
       "         m_avg_PelvisRotX  m_avg_PelvisRotY  m_avg_PelvisRotZ  \\\n",
       "0                -1.17500          0.679502           -0.1588   \n",
       "1                -1.17500          0.679502           -0.1588   \n",
       "2                -1.17500          0.679502           -0.1588   \n",
       "3                -1.17500          0.679492           -0.1588   \n",
       "4                -1.17500          0.679492           -0.1588   \n",
       "...                   ...               ...               ...   \n",
       "1250495          18.35563        179.608500           -2.3751   \n",
       "1250496          18.35563        179.608500           -2.3751   \n",
       "1250497          18.35563        179.608500           -2.3751   \n",
       "1250498          18.44855        179.665600           -2.5074   \n",
       "1250499         999.00000        999.000000          999.0000   \n",
       "\n",
       "         m_avg_L_HipPosX  m_avg_L_HipPosY  m_avg_L_HipPosZ  m_avg_L_HipRotX  \\\n",
       "0               0.563147         0.614554         0.427315          -0.2778   \n",
       "1               0.563147         0.614554         0.427315          -0.2778   \n",
       "2               0.563147         0.614554         0.427315          -0.2778   \n",
       "3               0.563147         0.614554         0.427315          -0.2778   \n",
       "4               0.563147         0.614554         0.427315          -0.2778   \n",
       "...                  ...              ...              ...              ...   \n",
       "1250495         0.383035         0.563848         0.453434          -0.4831   \n",
       "1250496         0.383035         0.563848         0.453434          -0.4831   \n",
       "1250497         0.383035         0.563848         0.453434          -0.4831   \n",
       "1250498         0.383066         0.563565         0.453621          -0.7340   \n",
       "1250499       999.000000       999.000000       999.000000         999.0000   \n",
       "\n",
       "         ...  m_avg_R_ElbowPosZ  m_avg_R_ElbowRotX  m_avg_R_ElbowRotY  \\\n",
       "0        ...           0.425514           8.262754            -7.7778   \n",
       "1        ...           0.425524           8.274371            -7.7271   \n",
       "2        ...           0.425540           8.273871            -7.7082   \n",
       "3        ...           0.425547           8.267890            -7.7246   \n",
       "4        ...           0.425527           8.257694            -7.7715   \n",
       "...      ...                ...                ...                ...   \n",
       "1250495  ...           0.455031          11.131550          -161.6278   \n",
       "1250496  ...           0.455031          11.133720          -161.5798   \n",
       "1250497  ...           0.455031          11.135700          -161.5301   \n",
       "1250498  ...           0.455199          11.140010          -161.4855   \n",
       "1250499  ...         999.000000         999.000000           999.0000   \n",
       "\n",
       "         m_avg_R_ElbowRotZ  m_avg_R_WristPosX  m_avg_R_WristPosY  \\\n",
       "0                -9.260900           0.754464           0.705660   \n",
       "1                -9.227700           0.754483           0.705789   \n",
       "2                -9.194000           0.754499           0.705913   \n",
       "3                -9.186000           0.754499           0.705914   \n",
       "4                -9.153100           0.754494           0.706012   \n",
       "...                    ...                ...                ...   \n",
       "1250495           3.791916           0.200521           0.752044   \n",
       "1250496           3.836214           0.200541           0.752139   \n",
       "1250497           3.866319           0.200561           0.752204   \n",
       "1250498           3.896140           0.200642           0.751381   \n",
       "1250499         999.000000         999.000000         999.000000   \n",
       "\n",
       "         m_avg_R_WristPosZ  m_avg_R_WristRotX  m_avg_R_WristRotY  \\\n",
       "0                 0.437026           0.200809           -0.44160   \n",
       "1                 0.437009           0.114945           -0.46430   \n",
       "2                 0.437017           0.151095           -0.47290   \n",
       "3                 0.437034           0.239347           -0.46150   \n",
       "4                 0.437045           0.385812           -0.42820   \n",
       "...                    ...                ...                ...   \n",
       "1250495           0.473122          47.211770           37.32508   \n",
       "1250496           0.473142          47.288450           37.23001   \n",
       "1250497           0.473165          47.363370           37.13769   \n",
       "1250498           0.473349          47.438840           37.06465   \n",
       "1250499         999.000000         999.000000          999.00000   \n",
       "\n",
       "         m_avg_R_WristRotZ  \n",
       "0                 0.846429  \n",
       "1                 0.884086  \n",
       "2                 0.923961  \n",
       "3                 0.959352  \n",
       "4                 0.958712  \n",
       "...                    ...  \n",
       "1250495         178.617100  \n",
       "1250496         178.460700  \n",
       "1250497         178.286900  \n",
       "1250498         178.126200  \n",
       "1250499         999.000000  \n",
       "\n",
       "[1250500 rows x 126 columns]"
      ]
     },
     "execution_count": 18,
     "metadata": {},
     "output_type": "execute_result"
    }
   ],
   "source": [
    "posrot_df"
   ]
  },
  {
   "cell_type": "code",
   "execution_count": 19,
   "metadata": {},
   "outputs": [],
   "source": [
    "train = posrot_df.iloc[:1000400]\n",
    "test = posrot_df.iloc[1000400:]"
   ]
  },
  {
   "cell_type": "code",
   "execution_count": 20,
   "metadata": {},
   "outputs": [],
   "source": [
    "X_train, X_val = train_test_split(train, test_size=0.2, random_state=42, shuffle=False)"
   ]
  },
  {
   "cell_type": "code",
   "execution_count": 21,
   "metadata": {},
   "outputs": [],
   "source": [
    "batch_size = 128\n",
    "n_input = 30 # 시퀀스 수"
   ]
  },
  {
   "cell_type": "code",
   "execution_count": 22,
   "metadata": {},
   "outputs": [],
   "source": [
    "class TimeseriesDataset(Dataset):\n",
    "    def __init__(self, data, sequence_length):\n",
    "        self.data = data\n",
    "        self.sequence_length = sequence_length\n",
    "\n",
    "    def __len__(self):\n",
    "        return len(self.data) - self.sequence_length + 1\n",
    "\n",
    "    def __getitem__(self, index):\n",
    "        x = self.data[index:index+self.sequence_length] # : 입력 시퀀스 (30개의 데이터)\n",
    "        y = self.data[index+self.sequence_length-1] # : 예측 시퀀스 (1개의 데이터)\n",
    "        return torch.from_numpy(x).float(), torch.from_numpy(y).float()\n",
    "\n",
    "# 데이터셋과 데이터 로더를 생성\n",
    "train_dataset = TimeseriesDataset(X_train.values, n_input)\n",
    "val_dataset = TimeseriesDataset(X_val.values, n_input)\n",
    "\n",
    "train_loader = DataLoader(train_dataset, batch_size=batch_size, shuffle=False, drop_last=True)\n",
    "val_loader = DataLoader(val_dataset, batch_size=batch_size, shuffle=False, drop_last=True)"
   ]
  },
  {
   "cell_type": "code",
   "execution_count": 23,
   "metadata": {},
   "outputs": [
    {
     "name": "stdout",
     "output_type": "stream",
     "text": [
      "X batch shape: torch.Size([128, 30, 126])\n",
      "y batch shape: torch.Size([128, 126])\n"
     ]
    }
   ],
   "source": [
    "# 데이터 로더에서 첫 번째 배치를 가져와서 형태를 확인\n",
    "first_batch = next(iter(train_loader))\n",
    "X, y = first_batch\n",
    "\n",
    "print(\"X batch shape:\", X.shape)\n",
    "print(\"y batch shape:\", y.shape)"
   ]
  },
  {
   "cell_type": "markdown",
   "metadata": {},
   "source": [
    "# GCN skeleton joint learning"
   ]
  },
  {
   "cell_type": "code",
   "execution_count": 24,
   "metadata": {},
   "outputs": [],
   "source": [
    "joint_names = ['Pelvis', 'L_Hip', 'L_Knee', 'L_Ankle', 'L_Foot', \n",
    "                'R_Hip', 'R_Knee', 'R_Ankle', 'R_Foot', 'Spine1', 'Spine2',\n",
    "               'L_Collar', 'L_Shoulder', 'L_Elbow', 'L_Wrist', 'Neck', 'Head',\n",
    "               'R_Collar', 'R_Shoulder', 'R_Elbow', 'R_Wrist']\n",
    "               "
   ]
  },
  {
   "cell_type": "code",
   "execution_count": 25,
   "metadata": {},
   "outputs": [],
   "source": [
    "connections = [\n",
    "    ('Pelvis', 'L_Hip'), ('Pelvis', 'R_Hip'),\n",
    "    ('L_Hip', 'L_Knee'), ('R_Hip', 'R_Knee'),\n",
    "    ('L_Knee', 'L_Ankle'), ('R_Knee', 'R_Ankle'),\n",
    "    ('L_Ankle', 'L_Foot'), ('R_Ankle', 'R_Foot'),\n",
    "    ('Spine1', 'Spine2'), ('Spine2', 'Pelvis'),\n",
    "    ('Spine1', 'Neck'), ('Neck', 'Head'),\n",
    "    ('Spine1', 'L_Collar'), ('Spine1', 'R_Collar'),\n",
    "    ('L_Collar', 'L_Shoulder'), ('R_Collar', 'R_Shoulder'),\n",
    "    ('L_Shoulder', 'L_Elbow'), ('R_Shoulder', 'R_Elbow'),\n",
    "    ('L_Elbow', 'L_Wrist'), ('R_Elbow', 'R_Wrist')\n",
    "]"
   ]
  },
  {
   "cell_type": "code",
   "execution_count": 26,
   "metadata": {},
   "outputs": [],
   "source": [
    "# 조인트 이름을 인덱스로 매핑\n",
    "joint_to_index = {joint: idx for idx, joint in enumerate(joint_names)}\n",
    "\n",
    "# 연결 정보를 인덱스 쌍으로 변환\n",
    "edge_pairs = [(joint_to_index[joint_from], joint_to_index[joint_to]) for joint_from, joint_to in connections]\n",
    "\n",
    "# edge_index 생성\n",
    "edge_index = torch.tensor(edge_pairs, dtype=torch.long).t().contiguous()"
   ]
  },
  {
   "cell_type": "code",
   "execution_count": 27,
   "metadata": {},
   "outputs": [
    {
     "data": {
      "text/plain": [
       "tensor([[ 0,  0,  1,  5,  2,  6,  3,  7,  9, 10,  9, 15,  9,  9, 11, 17, 12, 18,\n",
       "         13, 19],\n",
       "        [ 1,  5,  2,  6,  3,  7,  4,  8, 10,  0, 15, 16, 11, 17, 12, 18, 13, 19,\n",
       "         14, 20]])"
      ]
     },
     "execution_count": 27,
     "metadata": {},
     "output_type": "execute_result"
    }
   ],
   "source": [
    "edge_index"
   ]
  },
  {
   "cell_type": "code",
   "execution_count": 28,
   "metadata": {},
   "outputs": [
    {
     "name": "stdout",
     "output_type": "stream",
     "text": [
      "Available GPUs: 1\n",
      "Current device: NVIDIA GeForce RTX 4090\n"
     ]
    }
   ],
   "source": [
    "# 사용 가능한 GPU 목록을 출력\n",
    "available_gpus = torch.cuda.device_count()\n",
    "print(\"Available GPUs:\", available_gpus)\n",
    "\n",
    "# 현재 장치를 출력 (GPU 사용 가능시 CUDA 장치, 그렇지 않으면 CPU)\n",
    "current_device = torch.cuda.current_device() if torch.cuda.is_available() else 'CPU'\n",
    "print(\"Current device:\", torch.cuda.get_device_name(current_device) if torch.cuda.is_available() else current_device)"
   ]
  },
  {
   "cell_type": "code",
   "execution_count": 29,
   "metadata": {},
   "outputs": [],
   "source": [
    "# 하이퍼파라미터 설정\n",
    "batch_size = 128\n",
    "num_nodes = 21  # 노드 수 (신체 관절 수)\n",
    "num_node_features = 6  # 각 노드의 특성 수 (위치 및 회전 정보)\n",
    "num_classes = 126  # 출력 클래스 수 (전체 특성 수)\n",
    "sequence_length = 30  # 시퀀스 길이\n",
    "in_channels = 30\n",
    "out_channels = 256\n",
    "\n",
    "lr = 0.0001\n",
    "patience = 10\n",
    "min_delta = 0.001\n",
    "epochs = 100"
   ]
  },
  {
   "cell_type": "code",
   "execution_count": 30,
   "metadata": {},
   "outputs": [],
   "source": [
    "class TemporalLayer(nn.Module):\n",
    "    \"\"\" 시간적 특성을 처리하기 위한 레이어 \"\"\"\n",
    "    def __init__(self, in_channels, out_channels):\n",
    "        super(TemporalLayer, self).__init__()\n",
    "        self.conv1 = nn.Conv1d(in_channels, out_channels, kernel_size=3, padding=1)\n",
    "        self.conv2 = nn.Conv1d(out_channels, out_channels, kernel_size=3, padding=1)\n",
    "        print(\"TemporalLayer Initialized:\")\n",
    "        print(self)\n",
    "\n",
    "    def forward(self, x):\n",
    "        x = x.permute(0, 2, 1)  # [batch_size, num_nodes * num_node_features, sequence_length]\n",
    "        x = F.relu(self.conv1(x))\n",
    "        x = F.relu(self.conv2(x))\n",
    "        return x\n",
    "\n",
    "class GCNWithTemporal(nn.Module):\n",
    "    \"\"\" 공간적 및 시간적 특성을 모두 고려하는 GCN 모델 \"\"\"\n",
    "    def __init__(self, num_node_features, num_classes, sequence_length, num_nodes):\n",
    "        super(GCNWithTemporal, self).__init__()\n",
    "        self.conv1 = GCNConv(num_node_features, 64)\n",
    "        self.conv2 = GCNConv(64, 128)\n",
    "        self.conv3 = GCNConv(128, 256)\n",
    "        self.temporal_layer = TemporalLayer(num_nodes * 256, 256)\n",
    "        self.out = nn.Linear(7680, num_classes) # [batch_size, 256 * 30] = [batch_size, 7680]\n",
    "        print(\"GCNWithTemporal Initialized:\")\n",
    "        print(self)\n",
    "\n",
    "    def forward(self, x, edge_index):\n",
    "        # 입력 데이터의 형태 확인 (4차원으로 처리)\n",
    "        # print(\"Original input shape to GCNWithTemporal:\", x.shape) [128, 30, 21, 6])\n",
    "        \n",
    "        # x의 형태를 [batch_size, sequence_length, num_nodes, num_node_features]에서\n",
    "        # [batch_size * sequence_length, num_nodes, num_node_features]로 변환\n",
    "        batch_size, sequence_length, num_nodes, num_node_features = x.shape\n",
    "        x = x.reshape(batch_size * sequence_length, num_nodes, num_node_features)\n",
    "\n",
    "        # GCN 적용\n",
    "        x = F.relu(self.conv1(x, edge_index))\n",
    "        x = F.dropout(x, training=self.training)\n",
    "        x = F.relu(self.conv2(x, edge_index))\n",
    "        x = F.dropout(x, training=self.training)\n",
    "        x = F.relu(self.conv3(x, edge_index))\n",
    "        # print(\"Shape after GCN layers in GCNWithTemporal:\", x.shape) [3840, 21, 256])\n",
    "\n",
    "        # 원래 형태로 복원 (배치 사이즈와 시퀀스 길이를 유지하며 차원 재구성)\n",
    "        x = x.view(batch_size, sequence_length, -1)\n",
    "        # print(\"Shape before TemporalLayer in GCNWithTemporal:\", x.shape) [128, 30, 5376])\n",
    "       \n",
    "        # 시간 차원을 처리합니다.\n",
    "        x = self.temporal_layer(x)\n",
    "        # print(\"Shape after TemporalLayer in GCNWithTemporal:\", x.shape) [128, 256, 30])\n",
    "\n",
    "        # 최종 출력 차원을 확인\n",
    "        x = x.reshape(x.size(0), -1)\n",
    "        # print(\"Shape before final linear layer in GCNWithTemporal:\", x.shape) [128, 7680])\n",
    "\n",
    "        x = self.out(x)\n",
    "        return x\n"
   ]
  },
  {
   "cell_type": "code",
   "execution_count": 31,
   "metadata": {},
   "outputs": [
    {
     "name": "stdout",
     "output_type": "stream",
     "text": [
      "TemporalLayer Initialized:\n",
      "TemporalLayer(\n",
      "  (conv1): Conv1d(5376, 256, kernel_size=(3,), stride=(1,), padding=(1,))\n",
      "  (conv2): Conv1d(256, 256, kernel_size=(3,), stride=(1,), padding=(1,))\n",
      ")\n",
      "GCNWithTemporal Initialized:\n",
      "GCNWithTemporal(\n",
      "  (conv1): GCNConv(6, 64)\n",
      "  (conv2): GCNConv(64, 128)\n",
      "  (conv3): GCNConv(128, 256)\n",
      "  (temporal_layer): TemporalLayer(\n",
      "    (conv1): Conv1d(5376, 256, kernel_size=(3,), stride=(1,), padding=(1,))\n",
      "    (conv2): Conv1d(256, 256, kernel_size=(3,), stride=(1,), padding=(1,))\n",
      "  )\n",
      "  (out): Linear(in_features=7680, out_features=126, bias=True)\n",
      ")\n"
     ]
    }
   ],
   "source": [
    "# 모델, 손실 함수, 최적화 알고리즘 초기화\n",
    "gcn_model = GCNWithTemporal(num_node_features, num_classes, sequence_length, num_nodes)\n",
    "optimizer = optim.Adam(gcn_model.parameters(), lr=0.0001)\n",
    "loss_function = torch.nn.MSELoss()\n",
    "scheduler = torch.optim.lr_scheduler.ReduceLROnPlateau(optimizer, 'min', patience=5)"
   ]
  },
  {
   "cell_type": "code",
   "execution_count": 32,
   "metadata": {},
   "outputs": [
    {
     "data": {
      "text/plain": [
       "GCNWithTemporal(\n",
       "  (conv1): GCNConv(6, 64)\n",
       "  (conv2): GCNConv(64, 128)\n",
       "  (conv3): GCNConv(128, 256)\n",
       "  (temporal_layer): TemporalLayer(\n",
       "    (conv1): Conv1d(5376, 256, kernel_size=(3,), stride=(1,), padding=(1,))\n",
       "    (conv2): Conv1d(256, 256, kernel_size=(3,), stride=(1,), padding=(1,))\n",
       "  )\n",
       "  (out): Linear(in_features=7680, out_features=126, bias=True)\n",
       ")"
      ]
     },
     "execution_count": 32,
     "metadata": {},
     "output_type": "execute_result"
    }
   ],
   "source": [
    "# 모델을 현재 장치로 이동합니다.\n",
    "gcn_model.to(current_device)"
   ]
  },
  {
   "cell_type": "code",
   "execution_count": 33,
   "metadata": {},
   "outputs": [],
   "source": [
    "# 손실을 저장할 리스트 초기화\n",
    "train_losses = []\n",
    "val_losses = []\n",
    "\n",
    "# 가장 좋은 손실 값 초기화\n",
    "best_loss = float('inf')\n",
    "early_stopping_counter = 0\n"
   ]
  },
  {
   "cell_type": "code",
   "execution_count": 34,
   "metadata": {},
   "outputs": [],
   "source": [
    "# 학습 루프 함수\n",
    "def train_loop(gcn_model, dataloader, optimizer, loss_function, device, edge_index, num_nodes, num_node_features, sequence_length):\n",
    "    gcn_model.train()\n",
    "    total_loss = 0.0\n",
    "    progress_bar = tqdm(dataloader, desc=\"Training\", leave=False)\n",
    "    for data, target in progress_bar:\n",
    "        # 데이터 형태와 edge_index 검증을 위한 출력\n",
    "        # print(\"Original data shape:\", data.shape)\n",
    "        # print(\"Edge index shape:\", edge_index.shape)\n",
    "        # print(\"Edge index:\", edge_index)\n",
    "\n",
    "        # 데이터 차원 변경\n",
    "        edge_index = edge_index.to(device)\n",
    "        data, target = data.to(device), target.to(device)\n",
    "        data = data.view(-1, num_nodes, num_node_features, sequence_length)  \n",
    "        # print(\"View applied data shape:\", data.shape)\n",
    "        data = data.permute(0, 3, 1, 2)  \n",
    "        # print(\"Permute applied data shape:\", data.shape)\n",
    "        target = target.view(-1, num_classes)\n",
    "\n",
    "        # 데이터 형태 출력\n",
    "        # print(\"Transformed data shape:\", data.shape)\n",
    "        \n",
    "        optimizer.zero_grad()\n",
    "        output = gcn_model(data, edge_index)\n",
    "        loss = loss_function(output, target)\n",
    "        loss.backward()\n",
    "        optimizer.step()\n",
    "\n",
    "        total_loss += loss.item() * data.size(0)\n",
    "        progress_bar.set_postfix(loss=loss.item())\n",
    "\n",
    "    avg_loss = total_loss / len(dataloader.dataset)\n",
    "    return avg_loss\n",
    "\n",
    "# 검증 루프 함수\n",
    "def val_loop(gcn_model, dataloader, loss_function, device, edge_index, num_nodes, num_node_features, sequence_length):\n",
    "    gcn_model.eval()\n",
    "    total_loss = 0.0\n",
    "    progress_bar = tqdm(dataloader, desc=\"Validation\", leave=False)\n",
    "    with torch.no_grad():\n",
    "        for data, target in progress_bar:\n",
    "            edge_index = edge_index.to(device)\n",
    "            data, target = data.to(device), target.to(device)\n",
    "            data = data.view(-1, num_nodes, num_node_features, sequence_length)  \n",
    "            data = data.permute(0, 3, 1, 2)  \n",
    "            target = target.view(-1, num_classes)\n",
    "\n",
    "            output = gcn_model(data, edge_index)\n",
    "            loss = loss_function(output, target)\n",
    "\n",
    "            total_loss += loss.item() * data.size(0)\n",
    "            progress_bar.set_postfix(loss=loss.item())\n",
    "\n",
    "        avg_loss = total_loss / len(dataloader.dataset)\n",
    "        return avg_loss"
   ]
  },
  {
   "cell_type": "code",
   "execution_count": 35,
   "metadata": {},
   "outputs": [
    {
     "name": "stdout",
     "output_type": "stream",
     "text": [
      "Epoch 1/100\n"
     ]
    },
    {
     "name": "stderr",
     "output_type": "stream",
     "text": [
      "                                                                             \r"
     ]
    },
    {
     "name": "stdout",
     "output_type": "stream",
     "text": [
      "Training Loss: 715.9440377836244, Validation Loss: 817.335742368179\n",
      "Epoch 2/100\n"
     ]
    },
    {
     "name": "stderr",
     "output_type": "stream",
     "text": [
      "                                                                             \r"
     ]
    },
    {
     "name": "stdout",
     "output_type": "stream",
     "text": [
      "Training Loss: 357.20652895590285, Validation Loss: 502.71787789267546\n",
      "Epoch 3/100\n"
     ]
    },
    {
     "name": "stderr",
     "output_type": "stream",
     "text": [
      "                                                                             \r"
     ]
    },
    {
     "name": "stdout",
     "output_type": "stream",
     "text": [
      "Training Loss: 278.9751689594684, Validation Loss: 431.00315927647677\n",
      "Epoch 4/100\n"
     ]
    },
    {
     "name": "stderr",
     "output_type": "stream",
     "text": [
      "                                                                             \r"
     ]
    },
    {
     "name": "stdout",
     "output_type": "stream",
     "text": [
      "Training Loss: 242.07406179579297, Validation Loss: 410.93592286020896\n",
      "Epoch 5/100\n"
     ]
    },
    {
     "name": "stderr",
     "output_type": "stream",
     "text": [
      "                                                                             \r"
     ]
    },
    {
     "name": "stdout",
     "output_type": "stream",
     "text": [
      "Training Loss: 217.85849436608407, Validation Loss: 388.1225982813531\n",
      "Epoch 6/100\n"
     ]
    },
    {
     "name": "stderr",
     "output_type": "stream",
     "text": [
      "                                                                             \r"
     ]
    },
    {
     "name": "stdout",
     "output_type": "stream",
     "text": [
      "Training Loss: 201.05172759954814, Validation Loss: 400.9586761938511\n",
      "Epoch 7/100\n"
     ]
    },
    {
     "name": "stderr",
     "output_type": "stream",
     "text": [
      "                                                                             \r"
     ]
    },
    {
     "name": "stdout",
     "output_type": "stream",
     "text": [
      "Training Loss: 188.91452693492457, Validation Loss: 386.92799722362304\n",
      "Epoch 8/100\n"
     ]
    },
    {
     "name": "stderr",
     "output_type": "stream",
     "text": [
      "                                                                             \r"
     ]
    },
    {
     "name": "stdout",
     "output_type": "stream",
     "text": [
      "Training Loss: 178.8890902444322, Validation Loss: 378.0759460365927\n",
      "Epoch 9/100\n"
     ]
    },
    {
     "name": "stderr",
     "output_type": "stream",
     "text": [
      "                                                                             \r"
     ]
    },
    {
     "name": "stdout",
     "output_type": "stream",
     "text": [
      "Training Loss: 170.63632872270966, Validation Loss: 351.8209939212388\n",
      "Epoch 10/100\n"
     ]
    },
    {
     "name": "stderr",
     "output_type": "stream",
     "text": [
      "                                                                             \r"
     ]
    },
    {
     "name": "stdout",
     "output_type": "stream",
     "text": [
      "Training Loss: 164.33290517144135, Validation Loss: 385.81663503016205\n",
      "Epoch 11/100\n"
     ]
    },
    {
     "name": "stderr",
     "output_type": "stream",
     "text": [
      "                                                                             \r"
     ]
    },
    {
     "name": "stdout",
     "output_type": "stream",
     "text": [
      "Training Loss: 159.47867532227357, Validation Loss: 400.7667867072437\n",
      "Epoch 12/100\n"
     ]
    },
    {
     "name": "stderr",
     "output_type": "stream",
     "text": [
      "                                                                             \r"
     ]
    },
    {
     "name": "stdout",
     "output_type": "stream",
     "text": [
      "Training Loss: 154.19442340572158, Validation Loss: 349.32876591276965\n",
      "Epoch 13/100\n"
     ]
    },
    {
     "name": "stderr",
     "output_type": "stream",
     "text": [
      "                                                                             \r"
     ]
    },
    {
     "name": "stdout",
     "output_type": "stream",
     "text": [
      "Training Loss: 150.01891910606733, Validation Loss: 364.9558488328579\n",
      "Epoch 14/100\n"
     ]
    },
    {
     "name": "stderr",
     "output_type": "stream",
     "text": [
      "                                                                             \r"
     ]
    },
    {
     "name": "stdout",
     "output_type": "stream",
     "text": [
      "Training Loss: 146.40691624877903, Validation Loss: 366.0155408289587\n",
      "Epoch 15/100\n"
     ]
    },
    {
     "name": "stderr",
     "output_type": "stream",
     "text": [
      "                                                                             \r"
     ]
    },
    {
     "name": "stdout",
     "output_type": "stream",
     "text": [
      "Training Loss: 143.82127628001737, Validation Loss: 335.6931422257832\n",
      "Epoch 16/100\n"
     ]
    },
    {
     "name": "stderr",
     "output_type": "stream",
     "text": [
      "                                                                             \r"
     ]
    },
    {
     "name": "stdout",
     "output_type": "stream",
     "text": [
      "Training Loss: 140.12984032738177, Validation Loss: 345.4780934520755\n",
      "Epoch 17/100\n"
     ]
    },
    {
     "name": "stderr",
     "output_type": "stream",
     "text": [
      "                                                                             \r"
     ]
    },
    {
     "name": "stdout",
     "output_type": "stream",
     "text": [
      "Training Loss: 137.80440973147043, Validation Loss: 376.61390483762824\n",
      "Epoch 18/100\n"
     ]
    },
    {
     "name": "stderr",
     "output_type": "stream",
     "text": [
      "                                                                             \r"
     ]
    },
    {
     "name": "stdout",
     "output_type": "stream",
     "text": [
      "Training Loss: 134.83544031478513, Validation Loss: 383.48103133755825\n",
      "Epoch 19/100\n"
     ]
    },
    {
     "name": "stderr",
     "output_type": "stream",
     "text": [
      "                                                                             \r"
     ]
    },
    {
     "name": "stdout",
     "output_type": "stream",
     "text": [
      "Training Loss: 133.258629555625, Validation Loss: 366.5241945801989\n",
      "Epoch 20/100\n"
     ]
    },
    {
     "name": "stderr",
     "output_type": "stream",
     "text": [
      "                                                                             \r"
     ]
    },
    {
     "name": "stdout",
     "output_type": "stream",
     "text": [
      "Training Loss: 131.3126437831481, Validation Loss: 356.8179919619765\n",
      "Epoch 21/100\n"
     ]
    },
    {
     "name": "stderr",
     "output_type": "stream",
     "text": [
      "                                                                             \r"
     ]
    },
    {
     "name": "stdout",
     "output_type": "stream",
     "text": [
      "Training Loss: 129.08644227110906, Validation Loss: 289.58334876559604\n",
      "Epoch 22/100\n"
     ]
    },
    {
     "name": "stderr",
     "output_type": "stream",
     "text": [
      "                                                                             \r"
     ]
    },
    {
     "name": "stdout",
     "output_type": "stream",
     "text": [
      "Training Loss: 126.76848076049538, Validation Loss: 337.96071303605913\n",
      "Epoch 23/100\n"
     ]
    },
    {
     "name": "stderr",
     "output_type": "stream",
     "text": [
      "                                                                             \r"
     ]
    },
    {
     "name": "stdout",
     "output_type": "stream",
     "text": [
      "Training Loss: 125.22080178113043, Validation Loss: 320.35071855169366\n",
      "Epoch 24/100\n"
     ]
    },
    {
     "name": "stderr",
     "output_type": "stream",
     "text": [
      "                                                                             \r"
     ]
    },
    {
     "name": "stdout",
     "output_type": "stream",
     "text": [
      "Training Loss: 123.1520020020574, Validation Loss: 321.7664495651265\n",
      "Epoch 25/100\n"
     ]
    },
    {
     "name": "stderr",
     "output_type": "stream",
     "text": [
      "                                                                             \r"
     ]
    },
    {
     "name": "stdout",
     "output_type": "stream",
     "text": [
      "Training Loss: 122.08989389361787, Validation Loss: 300.4675555014355\n",
      "Epoch 26/100\n"
     ]
    },
    {
     "name": "stderr",
     "output_type": "stream",
     "text": [
      "                                                                             \r"
     ]
    },
    {
     "name": "stdout",
     "output_type": "stream",
     "text": [
      "Training Loss: 120.28135404864675, Validation Loss: 323.10025272931625\n",
      "Epoch 27/100\n"
     ]
    },
    {
     "name": "stderr",
     "output_type": "stream",
     "text": [
      "                                                                             \r"
     ]
    },
    {
     "name": "stdout",
     "output_type": "stream",
     "text": [
      "Training Loss: 118.75675747433412, Validation Loss: 296.0401055165015\n",
      "Epoch 28/100\n"
     ]
    },
    {
     "name": "stderr",
     "output_type": "stream",
     "text": [
      "                                                                             \r"
     ]
    },
    {
     "name": "stdout",
     "output_type": "stream",
     "text": [
      "Training Loss: 117.22237492601629, Validation Loss: 293.6482528534813\n",
      "Epoch 29/100\n"
     ]
    },
    {
     "name": "stderr",
     "output_type": "stream",
     "text": [
      "                                                                             \r"
     ]
    },
    {
     "name": "stdout",
     "output_type": "stream",
     "text": [
      "Training Loss: 113.35235082385816, Validation Loss: 290.5416431682236\n",
      "Epoch 30/100\n"
     ]
    },
    {
     "name": "stderr",
     "output_type": "stream",
     "text": [
      "                                                                             \r"
     ]
    },
    {
     "name": "stdout",
     "output_type": "stream",
     "text": [
      "Training Loss: 111.86988175975489, Validation Loss: 288.33930777857944\n",
      "Epoch 31/100\n"
     ]
    },
    {
     "name": "stderr",
     "output_type": "stream",
     "text": [
      "                                                                             \r"
     ]
    },
    {
     "name": "stdout",
     "output_type": "stream",
     "text": [
      "Training Loss: 110.59252068977634, Validation Loss: 290.67635969075445\n",
      "Epoch 32/100\n"
     ]
    },
    {
     "name": "stderr",
     "output_type": "stream",
     "text": [
      "                                                                             \r"
     ]
    },
    {
     "name": "stdout",
     "output_type": "stream",
     "text": [
      "Training Loss: 109.8937016759641, Validation Loss: 288.8195075969129\n",
      "Epoch 33/100\n"
     ]
    },
    {
     "name": "stderr",
     "output_type": "stream",
     "text": [
      "                                                                             \r"
     ]
    },
    {
     "name": "stdout",
     "output_type": "stream",
     "text": [
      "Training Loss: 109.23254678462699, Validation Loss: 293.2174083795278\n",
      "Epoch 34/100\n"
     ]
    },
    {
     "name": "stderr",
     "output_type": "stream",
     "text": [
      "                                                                             \r"
     ]
    },
    {
     "name": "stdout",
     "output_type": "stream",
     "text": [
      "Training Loss: 108.44282469976002, Validation Loss: 291.22905566490215\n",
      "Epoch 35/100\n"
     ]
    },
    {
     "name": "stderr",
     "output_type": "stream",
     "text": [
      "                                                                             \r"
     ]
    },
    {
     "name": "stdout",
     "output_type": "stream",
     "text": [
      "Training Loss: 107.86446553921601, Validation Loss: 292.6669775077106\n",
      "Epoch 36/100\n"
     ]
    },
    {
     "name": "stderr",
     "output_type": "stream",
     "text": [
      "                                                                             \r"
     ]
    },
    {
     "name": "stdout",
     "output_type": "stream",
     "text": [
      "Training Loss: 107.4263184112894, Validation Loss: 292.75412709975024\n",
      "Epoch 37/100\n"
     ]
    },
    {
     "name": "stderr",
     "output_type": "stream",
     "text": [
      "                                                                             \r"
     ]
    },
    {
     "name": "stdout",
     "output_type": "stream",
     "text": [
      "Training Loss: 107.958405917163, Validation Loss: 281.7318684473984\n",
      "Epoch 38/100\n"
     ]
    },
    {
     "name": "stderr",
     "output_type": "stream",
     "text": [
      "                                                                             \r"
     ]
    },
    {
     "name": "stdout",
     "output_type": "stream",
     "text": [
      "Training Loss: 107.4097722665203, Validation Loss: 282.33331846021355\n",
      "Epoch 39/100\n"
     ]
    },
    {
     "name": "stderr",
     "output_type": "stream",
     "text": [
      "                                                                             \r"
     ]
    },
    {
     "name": "stdout",
     "output_type": "stream",
     "text": [
      "Training Loss: 106.99358426560052, Validation Loss: 281.8776157273377\n",
      "Epoch 40/100\n"
     ]
    },
    {
     "name": "stderr",
     "output_type": "stream",
     "text": [
      "                                                                             \r"
     ]
    },
    {
     "name": "stdout",
     "output_type": "stream",
     "text": [
      "Training Loss: 107.06917363405772, Validation Loss: 282.14519710224135\n",
      "Epoch 41/100\n"
     ]
    },
    {
     "name": "stderr",
     "output_type": "stream",
     "text": [
      "                                                                             \r"
     ]
    },
    {
     "name": "stdout",
     "output_type": "stream",
     "text": [
      "Training Loss: 106.9199261337048, Validation Loss: 282.33062756100463\n",
      "Epoch 42/100\n"
     ]
    },
    {
     "name": "stderr",
     "output_type": "stream",
     "text": [
      "                                                                             \r"
     ]
    },
    {
     "name": "stdout",
     "output_type": "stream",
     "text": [
      "Training Loss: 106.81819042690287, Validation Loss: 281.19425085970755\n",
      "Epoch 43/100\n"
     ]
    },
    {
     "name": "stderr",
     "output_type": "stream",
     "text": [
      "                                                                             \r"
     ]
    },
    {
     "name": "stdout",
     "output_type": "stream",
     "text": [
      "Training Loss: 106.84939523494454, Validation Loss: 281.3119256798989\n",
      "Epoch 44/100\n"
     ]
    },
    {
     "name": "stderr",
     "output_type": "stream",
     "text": [
      "                                                                             \r"
     ]
    },
    {
     "name": "stdout",
     "output_type": "stream",
     "text": [
      "Training Loss: 106.7462742736671, Validation Loss: 282.2319861557251\n",
      "Epoch 45/100\n"
     ]
    },
    {
     "name": "stderr",
     "output_type": "stream",
     "text": [
      "                                                                             \r"
     ]
    },
    {
     "name": "stdout",
     "output_type": "stream",
     "text": [
      "Training Loss: 106.66925747804066, Validation Loss: 282.4936502907457\n",
      "Epoch 46/100\n"
     ]
    },
    {
     "name": "stderr",
     "output_type": "stream",
     "text": [
      "                                                                             \r"
     ]
    },
    {
     "name": "stdout",
     "output_type": "stream",
     "text": [
      "Training Loss: 106.33652859819756, Validation Loss: 283.0020414813754\n",
      "Epoch 47/100\n"
     ]
    },
    {
     "name": "stderr",
     "output_type": "stream",
     "text": [
      "                                                                             \r"
     ]
    },
    {
     "name": "stdout",
     "output_type": "stream",
     "text": [
      "Training Loss: 106.4683137216235, Validation Loss: 283.5235573022141\n",
      "Epoch 48/100\n"
     ]
    },
    {
     "name": "stderr",
     "output_type": "stream",
     "text": [
      "                                                                             \r"
     ]
    },
    {
     "name": "stdout",
     "output_type": "stream",
     "text": [
      "Training Loss: 106.31699106107868, Validation Loss: 282.91866475293915\n",
      "Epoch 49/100\n"
     ]
    },
    {
     "name": "stderr",
     "output_type": "stream",
     "text": [
      "                                                                             \r"
     ]
    },
    {
     "name": "stdout",
     "output_type": "stream",
     "text": [
      "Training Loss: 106.22441994622406, Validation Loss: 281.9281605291481\n",
      "Epoch 50/100\n"
     ]
    },
    {
     "name": "stderr",
     "output_type": "stream",
     "text": [
      "                                                                             \r"
     ]
    },
    {
     "name": "stdout",
     "output_type": "stream",
     "text": [
      "Training Loss: 106.29370783227881, Validation Loss: 281.9653971589906\n",
      "Epoch 51/100\n"
     ]
    },
    {
     "name": "stderr",
     "output_type": "stream",
     "text": [
      "                                                                             \r"
     ]
    },
    {
     "name": "stdout",
     "output_type": "stream",
     "text": [
      "Training Loss: 106.2728372354437, Validation Loss: 282.13926699973246\n",
      "Epoch 52/100\n"
     ]
    },
    {
     "name": "stderr",
     "output_type": "stream",
     "text": [
      "                                                                             "
     ]
    },
    {
     "name": "stdout",
     "output_type": "stream",
     "text": [
      "Training Loss: 106.37762254096192, Validation Loss: 282.15647639216013\n",
      "Early stopping\n"
     ]
    },
    {
     "name": "stderr",
     "output_type": "stream",
     "text": [
      "\r"
     ]
    },
    {
     "data": {
      "text/plain": [
       "<All keys matched successfully>"
      ]
     },
     "execution_count": 35,
     "metadata": {},
     "output_type": "execute_result"
    }
   ],
   "source": [
    "# Early Stopping 준비\n",
    "best_loss = float('inf')\n",
    "early_stopping_counter = 0\n",
    "\n",
    "# 메인 학습 루프\n",
    "for epoch in range(epochs):\n",
    "    print(f'Epoch {epoch+1}/{epochs}')\n",
    "    # train_loop 함수 호출 시 sequence_length 추가\n",
    "    avg_train_loss = train_loop(gcn_model, train_loader, optimizer, loss_function, current_device, edge_index, num_nodes, num_node_features, sequence_length)\n",
    "    # val_loop 함수 호출 시 sequence_length 추가\n",
    "    avg_val_loss = val_loop(gcn_model, val_loader, loss_function, current_device, edge_index, num_nodes, num_node_features, sequence_length)\n",
    "\n",
    "    print(f'Training Loss: {avg_train_loss}, Validation Loss: {avg_val_loss}')\n",
    "\n",
    "    scheduler.step(avg_val_loss)\n",
    "\n",
    "    if avg_val_loss < best_loss - min_delta:\n",
    "        best_loss = avg_val_loss\n",
    "        best_model_wts = copy.deepcopy(gcn_model.state_dict())\n",
    "        torch.save(gcn_model.state_dict(), 'best_model.pth')\n",
    "        early_stopping_counter = 0\n",
    "    else:\n",
    "        early_stopping_counter += 1\n",
    "        if early_stopping_counter >= patience:\n",
    "            print(\"Early stopping\")\n",
    "            break\n",
    "\n",
    "# 최적 모델 가중치 로드\n",
    "gcn_model.load_state_dict(torch.load('best_model.pth'))"
   ]
  },
  {
   "cell_type": "markdown",
   "metadata": {},
   "source": [
    "### Transformer Model"
   ]
  },
  {
   "cell_type": "code",
   "execution_count": 36,
   "metadata": {},
   "outputs": [],
   "source": [
    "batch_size = 128\n",
    "n_input = 30  # Sequence length\n",
    "n_features = 126  # Number of features\n",
    "output_units = (21 * 6)  # Output shape\n",
    "head_size = 256  # Size of attention head\n",
    "num_heads = 7  # Number of attention heads\n",
    "ff_dim = 512  # Hidden layer size in feed forward network inside transformer\n",
    "num_blocks = 4  # Number of transformer blocks\n",
    "mlp_units = [512, 256, 128]  # Size of the dense layers of the final classifier\n",
    "dropout_rate = 0.3\n",
    "pad_value = 0  # 패딩에 사용할 값"
   ]
  },
  {
   "cell_type": "code",
   "execution_count": null,
   "metadata": {},
   "outputs": [],
   "source": [
    "# GCN 모델의 출력을 저장할 리스트 초기화\n",
    "gcn_outputs = []\n",
    "targets_list = []\n",
    "\n",
    "for data, target in train_loader:\n",
    "    data = data.to(current_device)\n",
    "    target = target.to(current_device)\n",
    "    edge_index = edge_index.to(current_device)\n",
    "\n",
    "    batch_size, seq_len, total_features = data.shape\n",
    "    if total_features == num_nodes * num_node_features:\n",
    "        data = data.view(batch_size, seq_len, num_node_features, num_nodes)\n",
    "        data = data.permute(0, 1, 3, 2)\n",
    "\n",
    "        try:\n",
    "            gcn_output = gcn_model(data, edge_index)\n",
    "            gcn_outputs.append(gcn_output.detach())\n",
    "            targets_list.append(target)  # 해당 배치의 타겟 데이터 저장\n",
    "        except RuntimeError as e:\n",
    "            print(f\"An error occurred: {e}\")\n",
    "            break\n",
    "\n",
    "# GCN 모델의 출력 텐서들의 차원을 확인\n",
    "for i, output in enumerate(gcn_outputs):\n",
    "    print(f\"Output {i} shape: {output.shape}\")\n",
    "\n",
    "# 모든 배치에 대한 GCN 모델의 출력을 하나의 텐서로 결합\n",
    "gcn_outputs_tensor = torch.cat(gcn_outputs, dim=0)\n",
    "print(\"Combined GCN outputs tensor shape:\", gcn_outputs_tensor.shape)\n",
    "\n",
    "# 시퀀스 분할 및 패딩 추가\n",
    "transformer_inputs = []\n",
    "for i in range(0, gcn_outputs_tensor.size(0), n_input):\n",
    "    seq = gcn_outputs_tensor[i:i+n_input]  # n_input 길이의 시퀀스 추출\n",
    "    if seq.size(0) < n_input:\n",
    "        # 패딩이 필요한 경우\n",
    "        padding = torch.full((n_input - seq.size(0), n_features), pad_value, device=seq.device)\n",
    "        seq = torch.cat([seq, padding], dim=0)  # 시퀀스 끝에 패딩 추가\n",
    "    transformer_inputs.append(seq.unsqueeze(0))  # 배치 차원 추가\n",
    "\n",
    "# transformer_inputs 리스트를 하나의 텐서로 결합\n",
    "transformer_inputs_tensor = torch.cat(transformer_inputs, dim=0)\n",
    "print(\"Transformer inputs tensor shape:\", transformer_inputs_tensor.shape)"
   ]
  },
  {
   "cell_type": "code",
   "execution_count": 38,
   "metadata": {},
   "outputs": [],
   "source": [
    "targets_tensor = torch.cat(targets_list, dim=0)\n",
    "\n",
    "# Custom Dataset class to handle inputs and targets together\n",
    "class CustomDataset(Dataset):\n",
    "    def __init__(self, inputs, targets):\n",
    "        self.inputs = inputs\n",
    "        self.targets = targets\n",
    "\n",
    "    def __len__(self):\n",
    "        return len(self.inputs)\n",
    "\n",
    "    def __getitem__(self, idx):\n",
    "        return self.inputs[idx], self.targets[idx]\n",
    "    \n",
    "# 데이터셋 인스턴스 생성\n",
    "dataset = CustomDataset(transformer_inputs_tensor, targets_tensor)\n",
    "\n",
    "# 데이터셋을 훈련 세트와 검증 세트로 분할\n",
    "train_size = int(0.8 * len(dataset))\n",
    "val_size = len(dataset) - train_size\n",
    "train_dataset, val_dataset = random_split(dataset, [train_size, val_size])\n",
    "\n",
    "# DataLoader 설정\n",
    "train_loader = DataLoader(train_dataset, batch_size=batch_size, shuffle=True)\n",
    "val_loader = DataLoader(val_dataset, batch_size=batch_size, shuffle=False)"
   ]
  },
  {
   "cell_type": "code",
   "execution_count": 39,
   "metadata": {},
   "outputs": [],
   "source": [
    "# Positional Encoding 정의\n",
    "class PositionalEncoding(nn.Module):\n",
    "    def __init__(self, n_features, n_input):\n",
    "        super(PositionalEncoding, self).__init__() # 상속받은 nn.Module 클래스의 __init__() 메서드 호출\n",
    "        pe = torch.zeros(n_input, n_features) # 가장 큰 시퀀스 길이인 max_len을 기준으로 모두 0으로 채워진 크기가 (max_len, n_features)인 텐서 생성\n",
    "        position = torch.arange(0, n_input, dtype=torch.float).unsqueeze(1) # position 텐서 생성\n",
    "\n",
    "        # div_term을 계산하는 방식 수정\n",
    "        div_term = torch.exp(torch.arange(0, n_features, 2).float() * (-math.log(10000.0) / n_features)) # div_term 계산\n",
    "        \n",
    "        # div_term의 길이를 n_features의 절반으로 조정\n",
    "        div_term = div_term.repeat_interleave(2)[:n_features] # div_term 텐서 생성\n",
    "\n",
    "        pe[:, 0::2] = torch.sin(position * div_term[0::2]) # 짝수 인덱스에는 sin 함수 적용\n",
    "        pe[:, 1::2] = torch.cos(position * div_term[1::2]) # 홀수 인덱스에는 cos 함수 적용\n",
    "        pe = pe.unsqueeze(0) # pe = [bs, seq_len, n_feautres]\n",
    "        self.register_buffer('pe', pe) # pe 텐서를 모델의 버퍼로 등록\n",
    "\n",
    "    def forward(self, x):\n",
    "        pe = self.pe[:, :x.size(1), :].to(x.device)\n",
    "        # print(f\"x.size(): {x.size()}, pe.size(): {pe.size()}\")\n",
    "        x = x + pe\n",
    "        return x\n",
    "\n",
    "# Transformer Block 정의\n",
    "class TransformerBlock(nn.Module):\n",
    "    def __init__(self, n_features, num_heads, ff_dim, dropout):\n",
    "        super(TransformerBlock, self).__init__()\n",
    "        self.attention = nn.MultiheadAttention(n_features, num_heads, dropout=dropout)\n",
    "        self.ffn = nn.Sequential(\n",
    "            nn.Linear(n_features, ff_dim),\n",
    "            nn.ReLU(),\n",
    "            nn.Linear(ff_dim, n_features)\n",
    "        )\n",
    "        self.norm1 = nn.LayerNorm(n_features)\n",
    "        self.norm2 = nn.LayerNorm(n_features)\n",
    "        self.dropout = nn.Dropout(dropout)\n",
    "\n",
    "    def forward(self, x):\n",
    "        attention_output, _ = self.attention(x, x, x)\n",
    "        x = self.norm1(x + self.dropout(attention_output))\n",
    "        ffn_output = self.ffn(x)\n",
    "        x = self.norm2(x + self.dropout(ffn_output))\n",
    "        return x\n",
    "    \n",
    "# 모델 정의\n",
    "class TransformerModel(nn.Module):\n",
    "    def __init__(self, n_features, num_heads, ff_dim, num_blocks, mlp_units, dropout, n_input):\n",
    "        super(TransformerModel, self).__init__()\n",
    "        self.pos_encoder = PositionalEncoding(n_features, n_input)\n",
    "        self.transformer_blocks = nn.ModuleList([TransformerBlock(n_features, num_heads, ff_dim, dropout) for _ in range(num_blocks)])\n",
    "        \n",
    "        self.layers = nn.Sequential()\n",
    "        # 첫 번째 nn.Linear 층의 입력 차원을 n_features로 설정\n",
    "        self.layers.add_module(\"dense_0\", nn.Linear(n_features, mlp_units[0]))\n",
    "        self.layers.add_module(\"relu_0\", nn.ReLU())\n",
    "        self.layers.add_module(\"dropout_0\", nn.Dropout(dropout))\n",
    "        self.layers.add_module(\"norm_0\", nn.LayerNorm(mlp_units[0]))\n",
    "\n",
    "        # 이후 층들에 대한 설정\n",
    "        for i in range(1, len(mlp_units)):\n",
    "            self.layers.add_module(f\"dense_{i}\", nn.Linear(mlp_units[i-1], mlp_units[i]))\n",
    "            self.layers.add_module(f\"relu_{i}\", nn.ReLU())\n",
    "            self.layers.add_module(f\"dropout_{i}\", nn.Dropout(dropout))\n",
    "            self.layers.add_module(f\"norm_{i}\", nn.LayerNorm(mlp_units[i]))\n",
    "\n",
    "        # 최종 출력 층\n",
    "        self.out = nn.Linear(mlp_units[-1], n_features)\n",
    "\n",
    "    def forward(self, x):\n",
    "        x = self.pos_encoder(x)\n",
    "        for block in self.transformer_blocks:\n",
    "            x = block(x)\n",
    "        x = torch.mean(x, dim=1)\n",
    "        x = self.layers(x)\n",
    "        return self.out(x)\n",
    "\n",
    "transformer_model = TransformerModel(n_features, num_heads, ff_dim, num_blocks, mlp_units, dropout_rate, n_input)\n"
   ]
  },
  {
   "cell_type": "code",
   "execution_count": 40,
   "metadata": {},
   "outputs": [],
   "source": [
    "# Positional Encoding 적용\n",
    "pos_encoder = PositionalEncoding(n_features=n_features, n_input=n_input)\n",
    "# transformer_input_sequences = pos_encoder(transformer_input_sequences)"
   ]
  },
  {
   "cell_type": "code",
   "execution_count": 41,
   "metadata": {},
   "outputs": [],
   "source": [
    "column_order = [\n",
    "    'm_avg_PelvisPosX', 'm_avg_PelvisPosY', 'm_avg_PelvisPosZ',\n",
    "    'm_avg_PelvisRotX', 'm_avg_PelvisRotY', 'm_avg_PelvisRotZ',\n",
    "\n",
    "    'm_avg_L_HipPosX', 'm_avg_L_HipPosY', 'm_avg_L_HipPosZ',\n",
    "    'm_avg_L_HipRotX', 'm_avg_L_HipRotY', 'm_avg_L_HipRotZ',\n",
    "\n",
    "    'm_avg_L_KneePosX', 'm_avg_L_KneePosY', 'm_avg_L_KneePosZ',\n",
    "    'm_avg_L_KneeRotX', 'm_avg_L_KneeRotY', 'm_avg_L_KneeRotZ',\n",
    "\n",
    "    'm_avg_L_AnklePosX', 'm_avg_L_AnklePosY', 'm_avg_L_AnklePosZ',\n",
    "    'm_avg_L_AnkleRotX', 'm_avg_L_AnkleRotY', 'm_avg_L_AnkleRotZ',\n",
    "\n",
    "    'm_avg_L_FootPosX', 'm_avg_L_FootPosY', 'm_avg_L_FootPosZ',\n",
    "    'm_avg_L_FootRotX', 'm_avg_L_FootRotY', 'm_avg_L_FootRotZ',\n",
    "\n",
    "    'm_avg_R_HipPosX', 'm_avg_R_HipPosY', 'm_avg_R_HipPosZ',\n",
    "    'm_avg_R_HipRotX', 'm_avg_R_HipRotY', 'm_avg_R_HipRotZ',\n",
    "\n",
    "    'm_avg_R_KneePosX', 'm_avg_R_KneePosY', 'm_avg_R_KneePosZ',\n",
    "    'm_avg_R_KneeRotX', 'm_avg_R_KneeRotY', 'm_avg_R_KneeRotZ',\n",
    "\n",
    "    'm_avg_R_AnklePosX', 'm_avg_R_AnklePosY', 'm_avg_R_AnklePosZ',\n",
    "    'm_avg_R_AnkleRotX', 'm_avg_R_AnkleRotY', 'm_avg_R_AnkleRotZ',\n",
    "\n",
    "    'm_avg_R_FootPosX', 'm_avg_R_FootPosY', 'm_avg_R_FootPosZ',\n",
    "    'm_avg_R_FootRotX', 'm_avg_R_FootRotY', 'm_avg_R_FootRotZ',\n",
    "\n",
    "    'm_avg_Spine1PosX', 'm_avg_Spine1PosY', 'm_avg_Spine1PosZ',\n",
    "    'm_avg_Spine1RotX', 'm_avg_Spine1RotY', 'm_avg_Spine1RotZ',\n",
    "\n",
    "    'm_avg_Spine2PosX', 'm_avg_Spine2PosY', 'm_avg_Spine2PosZ',\n",
    "    'm_avg_Spine2RotX', 'm_avg_Spine2RotY', 'm_avg_Spine2RotZ',\n",
    "\n",
    "    'm_avg_L_CollarPosX', 'm_avg_L_CollarPosY', 'm_avg_L_CollarPosZ',\n",
    "    'm_avg_L_CollarRotX', 'm_avg_L_CollarRotY', 'm_avg_L_CollarRotZ',\n",
    "\n",
    "    'm_avg_L_ShoulderPosX', 'm_avg_L_ShoulderPosY', 'm_avg_L_ShoulderPosZ',\n",
    "    'm_avg_L_ShoulderRotX', 'm_avg_L_ShoulderRotY', 'm_avg_L_ShoulderRotZ',\n",
    "\n",
    "    'm_avg_L_ElbowPosX', 'm_avg_L_ElbowPosY', 'm_avg_L_ElbowPosZ',\n",
    "    'm_avg_L_ElbowRotX', 'm_avg_L_ElbowRotY', 'm_avg_L_ElbowRotZ',\n",
    "\n",
    "    'm_avg_L_WristPosX', 'm_avg_L_WristPosY', 'm_avg_L_WristPosZ',\n",
    "    'm_avg_L_WristRotX', 'm_avg_L_WristRotY', 'm_avg_L_WristRotZ',\n",
    "\n",
    "    'm_avg_NeckPosX', 'm_avg_NeckPosY', 'm_avg_NeckPosZ',\n",
    "    'm_avg_NeckRotX', 'm_avg_NeckRotY', 'm_avg_NeckRotZ',\n",
    "\n",
    "    'm_avg_HeadPosX', 'm_avg_HeadPosY', 'm_avg_HeadPosZ',\n",
    "    'm_avg_HeadRotX', 'm_avg_HeadRotY', 'm_avg_HeadRotZ',\n",
    "\n",
    "    'm_avg_R_CollarPosX', 'm_avg_R_CollarPosY', 'm_avg_R_CollarPosZ',\n",
    "    'm_avg_R_CollarRotX', 'm_avg_R_CollarRotY', 'm_avg_R_CollarRotZ',\n",
    "\n",
    "    'm_avg_R_ShoulderPosX', 'm_avg_R_ShoulderPosY', 'm_avg_R_ShoulderPosZ',\n",
    "    'm_avg_R_ShoulderRotX', 'm_avg_R_ShoulderRotY', 'm_avg_R_ShoulderRotZ',\n",
    "\n",
    "    'm_avg_R_ElbowPosX', 'm_avg_R_ElbowPosY', 'm_avg_R_ElbowPosZ',\n",
    "    'm_avg_R_ElbowRotX', 'm_avg_R_ElbowRotY', 'm_avg_R_ElbowRotZ',\n",
    "    \n",
    "    'm_avg_R_WristPosX', 'm_avg_R_WristPosY', 'm_avg_R_WristPosZ',\n",
    "    'm_avg_R_WristRotX', 'm_avg_R_WristRotY', 'm_avg_R_WristRotZ'\n",
    "    ]"
   ]
  },
  {
   "cell_type": "code",
   "execution_count": 42,
   "metadata": {},
   "outputs": [
    {
     "name": "stdout",
     "output_type": "stream",
     "text": [
      "[96, 97, 98, 84, 85, 86, 120, 121, 122, 24, 25, 26, 48, 49, 50, 99, 100, 101, 87, 88, 89, 123, 124, 125, 27, 28, 29, 51, 52, 53]\n"
     ]
    }
   ],
   "source": [
    "column_names = [\n",
    "    'm_avg_HeadPosX', 'm_avg_HeadPosY', 'm_avg_HeadPosZ',\n",
    "    'm_avg_L_WristPosX', 'm_avg_L_WristPosY', 'm_avg_L_WristPosZ',\n",
    "    'm_avg_R_WristPosX', 'm_avg_R_WristPosY', 'm_avg_R_WristPosZ',\n",
    "    'm_avg_L_FootPosX', 'm_avg_L_FootPosY', 'm_avg_L_FootPosZ',\n",
    "    'm_avg_R_FootPosX', 'm_avg_R_FootPosY', 'm_avg_R_FootPosZ',\n",
    "    'm_avg_HeadRotX', 'm_avg_HeadRotY', 'm_avg_HeadRotZ',\n",
    "    'm_avg_L_WristRotX', 'm_avg_L_WristRotY', 'm_avg_L_WristRotZ',\n",
    "    'm_avg_R_WristRotX', 'm_avg_R_WristRotY', 'm_avg_R_WristRotZ',\n",
    "    'm_avg_L_FootRotX', 'm_avg_L_FootRotY', 'm_avg_L_FootRotZ',\n",
    "    'm_avg_R_FootRotX', 'm_avg_R_FootRotY', 'm_avg_R_FootRotZ',\n",
    "]\n",
    "\n",
    "weighted_columns_indices = [column_order.index(name) for name in column_names]\n",
    "print(weighted_columns_indices)"
   ]
  },
  {
   "cell_type": "code",
   "execution_count": 43,
   "metadata": {},
   "outputs": [],
   "source": [
    "class CustomLoss(nn.Module):\n",
    "    def __init__(self, weighted_columns_indices, weight_for_weighted_columns, threshold, penalty_weight):\n",
    "        super(CustomLoss, self).__init__()\n",
    "        self.weighted_columns_indices = torch.tensor(weighted_columns_indices)\n",
    "        self.weight_for_weighted_columns = weight_for_weighted_columns\n",
    "        self.threshold = threshold  # 신체 움직임의 임계값\n",
    "        self.penalty_weight = penalty_weight  # 비정상적 움직임에 대한 패널티 가중치\n",
    "\n",
    "    def forward(self, y_true, y_pred):\n",
    "        # 각 조인트의 6개 특성에 대한 손실을 계산하기 위해 y_true와 y_pred의 마지막 차원을 제거\n",
    "        y_pred_values = y_pred[:, :]\n",
    "\n",
    "        # MSE 계산\n",
    "        mse = F.mse_loss(y_true[:, :], y_pred_values, reduction='none')\n",
    "        mse = mse.mean(axis=-1)\n",
    "\n",
    "        # 특정 joint에 대한 가중치 적용\n",
    "        weighted_mse = y_pred[:, self.weighted_columns_indices]\n",
    "        weighted_mse = (weighted_mse ** 2) * self.weight_for_weighted_columns\n",
    "        mse += weighted_mse.mean(axis=-1)\n",
    "\n",
    "        # 과도한 움직임에 대한 패널티 적용\n",
    "        excessive_movement_penalty = (y_pred - y_true).abs() > self.threshold\n",
    "        penalty = excessive_movement_penalty.type(torch.float32) * self.penalty_weight\n",
    "        mse += penalty.mean(axis=-1)\n",
    "\n",
    "        return mse.mean()  # 전체 배치에 대한 평균 손실 반환\n",
    "\n",
    "# 가중치를 적용할 열 인덱스와 가중치 값\n",
    "weighted_columns_indices = weighted_columns_indices\n",
    "weight_for_weighted_columns = 2.0\n",
    "\n",
    "# 임계값과 패널티 가중치 설정\n",
    "threshold = 10.0  # 예시 임계값\n",
    "penalty_weight = 0.8  # 예시 패널티 가중치\n",
    "\n",
    "# CustomLoss 인스턴스 생성\n",
    "custom_loss_instance = CustomLoss(\n",
    "    weighted_columns_indices=weighted_columns_indices,\n",
    "    weight_for_weighted_columns=weight_for_weighted_columns,\n",
    "    threshold=threshold,\n",
    "    penalty_weight=penalty_weight\n",
    ")"
   ]
  },
  {
   "cell_type": "code",
   "execution_count": 44,
   "metadata": {},
   "outputs": [],
   "source": [
    "# 최적화기와 손실 함수\n",
    "optimizer = optim.Adam(transformer_model.parameters(), lr=0.0001)\n",
    "criterion = custom_loss_instance"
   ]
  },
  {
   "cell_type": "code",
   "execution_count": 45,
   "metadata": {},
   "outputs": [],
   "source": [
    "# 설정\n",
    "epochs = 500\n",
    "patience = 7  # Early Stopping patience\n",
    "best_loss = np.inf\n",
    "early_stopping_counter = 0"
   ]
  },
  {
   "cell_type": "code",
   "execution_count": 46,
   "metadata": {},
   "outputs": [],
   "source": [
    "# Learning Rate Scheduler 설정\n",
    "scheduler = torch.optim.lr_scheduler.ReduceLROnPlateau(optimizer, 'min', factor=0.2, patience=7, min_lr=0.00001)"
   ]
  },
  {
   "cell_type": "code",
   "execution_count": 47,
   "metadata": {},
   "outputs": [
    {
     "name": "stdout",
     "output_type": "stream",
     "text": [
      "Available GPUs: 1\n",
      "Current device: NVIDIA GeForce RTX 4090\n"
     ]
    }
   ],
   "source": [
    "# 사용 가능한 GPU 목록을 출력\n",
    "available_gpus = torch.cuda.device_count()\n",
    "print(\"Available GPUs:\", available_gpus)\n",
    "\n",
    "# 현재 장치를 출력 (GPU 사용 가능시 CUDA 장치, 그렇지 않으면 CPU)\n",
    "current_device = torch.cuda.current_device() if torch.cuda.is_available() else 'CPU'\n",
    "print(\"Current device:\", torch.cuda.get_device_name(current_device) if torch.cuda.is_available() else current_device)"
   ]
  },
  {
   "cell_type": "code",
   "execution_count": 48,
   "metadata": {},
   "outputs": [],
   "source": [
    "transformer_model = transformer_model.to(current_device)"
   ]
  },
  {
   "cell_type": "code",
   "execution_count": 49,
   "metadata": {},
   "outputs": [
    {
     "name": "stdout",
     "output_type": "stream",
     "text": [
      "----------------------------------------------------------------\n",
      "        Layer (type)               Output Shape         Param #\n",
      "================================================================\n",
      "PositionalEncoding-1              [-1, 30, 126]               0\n",
      "MultiheadAttention-2  [[-1, 30, 126], [-1, 2, 2]]               0\n",
      "           Dropout-3              [-1, 30, 126]               0\n",
      "         LayerNorm-4              [-1, 30, 126]             252\n",
      "            Linear-5              [-1, 30, 512]          65,024\n",
      "              ReLU-6              [-1, 30, 512]               0\n",
      "            Linear-7              [-1, 30, 126]          64,638\n",
      "           Dropout-8              [-1, 30, 126]               0\n",
      "         LayerNorm-9              [-1, 30, 126]             252\n",
      " TransformerBlock-10              [-1, 30, 126]               0\n",
      "MultiheadAttention-11  [[-1, 30, 126], [-1, 2, 2]]               0\n",
      "          Dropout-12              [-1, 30, 126]               0\n",
      "        LayerNorm-13              [-1, 30, 126]             252\n",
      "           Linear-14              [-1, 30, 512]          65,024\n",
      "             ReLU-15              [-1, 30, 512]               0\n",
      "           Linear-16              [-1, 30, 126]          64,638\n",
      "          Dropout-17              [-1, 30, 126]               0\n",
      "        LayerNorm-18              [-1, 30, 126]             252\n",
      " TransformerBlock-19              [-1, 30, 126]               0\n",
      "MultiheadAttention-20  [[-1, 30, 126], [-1, 2, 2]]               0\n",
      "          Dropout-21              [-1, 30, 126]               0\n",
      "        LayerNorm-22              [-1, 30, 126]             252\n",
      "           Linear-23              [-1, 30, 512]          65,024\n",
      "             ReLU-24              [-1, 30, 512]               0\n",
      "           Linear-25              [-1, 30, 126]          64,638\n",
      "          Dropout-26              [-1, 30, 126]               0\n",
      "        LayerNorm-27              [-1, 30, 126]             252\n",
      " TransformerBlock-28              [-1, 30, 126]               0\n",
      "MultiheadAttention-29  [[-1, 30, 126], [-1, 2, 2]]               0\n",
      "          Dropout-30              [-1, 30, 126]               0\n",
      "        LayerNorm-31              [-1, 30, 126]             252\n",
      "           Linear-32              [-1, 30, 512]          65,024\n",
      "             ReLU-33              [-1, 30, 512]               0\n",
      "           Linear-34              [-1, 30, 126]          64,638\n",
      "          Dropout-35              [-1, 30, 126]               0\n",
      "        LayerNorm-36              [-1, 30, 126]             252\n",
      " TransformerBlock-37              [-1, 30, 126]               0\n",
      "           Linear-38                  [-1, 512]          65,024\n",
      "             ReLU-39                  [-1, 512]               0\n",
      "          Dropout-40                  [-1, 512]               0\n",
      "        LayerNorm-41                  [-1, 512]           1,024\n",
      "           Linear-42                  [-1, 256]         131,328\n",
      "             ReLU-43                  [-1, 256]               0\n",
      "          Dropout-44                  [-1, 256]               0\n",
      "        LayerNorm-45                  [-1, 256]             512\n",
      "           Linear-46                  [-1, 128]          32,896\n",
      "             ReLU-47                  [-1, 128]               0\n",
      "          Dropout-48                  [-1, 128]               0\n",
      "        LayerNorm-49                  [-1, 128]             256\n",
      "           Linear-50                  [-1, 126]          16,254\n",
      "================================================================\n",
      "Total params: 767,958\n",
      "Trainable params: 767,958\n",
      "Non-trainable params: 0\n",
      "----------------------------------------------------------------\n",
      "Input size (MB): 0.01\n",
      "Forward/backward pass size (MB): 1.23\n",
      "Params size (MB): 2.93\n",
      "Estimated Total Size (MB): 4.17\n",
      "----------------------------------------------------------------\n"
     ]
    }
   ],
   "source": [
    "summary(transformer_model, input_size=(n_input, n_features))"
   ]
  },
  {
   "cell_type": "code",
   "execution_count": 50,
   "metadata": {},
   "outputs": [
    {
     "name": "stderr",
     "output_type": "stream",
     "text": [
      "                                                                        \r"
     ]
    },
    {
     "name": "stdout",
     "output_type": "stream",
     "text": [
      "Epoch 1/500 - Training Loss: 5082.1315, Validation Loss: 5134.9440\n"
     ]
    },
    {
     "name": "stderr",
     "output_type": "stream",
     "text": [
      "                                                                        \r"
     ]
    },
    {
     "name": "stdout",
     "output_type": "stream",
     "text": [
      "Epoch 2/500 - Training Loss: 5064.8968, Validation Loss: 5115.2584\n"
     ]
    },
    {
     "name": "stderr",
     "output_type": "stream",
     "text": [
      "                                                                        \r"
     ]
    },
    {
     "name": "stdout",
     "output_type": "stream",
     "text": [
      "Epoch 3/500 - Training Loss: 5048.8190, Validation Loss: 5097.0040\n"
     ]
    },
    {
     "name": "stderr",
     "output_type": "stream",
     "text": [
      "                                                                        \r"
     ]
    },
    {
     "name": "stdout",
     "output_type": "stream",
     "text": [
      "Epoch 4/500 - Training Loss: 5033.5535, Validation Loss: 5080.2452\n"
     ]
    },
    {
     "name": "stderr",
     "output_type": "stream",
     "text": [
      "                                                                        \r"
     ]
    },
    {
     "name": "stdout",
     "output_type": "stream",
     "text": [
      "Epoch 5/500 - Training Loss: 5019.1310, Validation Loss: 5064.7904\n"
     ]
    },
    {
     "name": "stderr",
     "output_type": "stream",
     "text": [
      "                                                                        \r"
     ]
    },
    {
     "name": "stdout",
     "output_type": "stream",
     "text": [
      "Epoch 6/500 - Training Loss: 5005.5333, Validation Loss: 5050.6018\n"
     ]
    },
    {
     "name": "stderr",
     "output_type": "stream",
     "text": [
      "                                                                        \r"
     ]
    },
    {
     "name": "stdout",
     "output_type": "stream",
     "text": [
      "Epoch 7/500 - Training Loss: 4992.8021, Validation Loss: 5037.5146\n"
     ]
    },
    {
     "name": "stderr",
     "output_type": "stream",
     "text": [
      "                                                                        \r"
     ]
    },
    {
     "name": "stdout",
     "output_type": "stream",
     "text": [
      "Epoch 8/500 - Training Loss: 4980.7487, Validation Loss: 5025.5307\n"
     ]
    },
    {
     "name": "stderr",
     "output_type": "stream",
     "text": [
      "                                                                        \r"
     ]
    },
    {
     "name": "stdout",
     "output_type": "stream",
     "text": [
      "Epoch 9/500 - Training Loss: 4969.5291, Validation Loss: 5014.5609\n"
     ]
    },
    {
     "name": "stderr",
     "output_type": "stream",
     "text": [
      "                                                                         \r"
     ]
    },
    {
     "name": "stdout",
     "output_type": "stream",
     "text": [
      "Epoch 10/500 - Training Loss: 4958.9451, Validation Loss: 5004.6536\n"
     ]
    },
    {
     "name": "stderr",
     "output_type": "stream",
     "text": [
      "                                                                         \r"
     ]
    },
    {
     "name": "stdout",
     "output_type": "stream",
     "text": [
      "Epoch 11/500 - Training Loss: 4949.3232, Validation Loss: 4995.8103\n"
     ]
    },
    {
     "name": "stderr",
     "output_type": "stream",
     "text": [
      "                                                                         \r"
     ]
    },
    {
     "name": "stdout",
     "output_type": "stream",
     "text": [
      "Epoch 12/500 - Training Loss: 4940.6165, Validation Loss: 4988.0695\n"
     ]
    },
    {
     "name": "stderr",
     "output_type": "stream",
     "text": [
      "                                                                         \r"
     ]
    },
    {
     "name": "stdout",
     "output_type": "stream",
     "text": [
      "Epoch 13/500 - Training Loss: 4932.4997, Validation Loss: 4981.4030\n"
     ]
    },
    {
     "name": "stderr",
     "output_type": "stream",
     "text": [
      "                                                                         \r"
     ]
    },
    {
     "name": "stdout",
     "output_type": "stream",
     "text": [
      "Epoch 14/500 - Training Loss: 4925.3142, Validation Loss: 4975.7317\n"
     ]
    },
    {
     "name": "stderr",
     "output_type": "stream",
     "text": [
      "                                                                         \r"
     ]
    },
    {
     "name": "stdout",
     "output_type": "stream",
     "text": [
      "Epoch 15/500 - Training Loss: 4918.9503, Validation Loss: 4971.1818\n"
     ]
    },
    {
     "name": "stderr",
     "output_type": "stream",
     "text": [
      "                                                                         \r"
     ]
    },
    {
     "name": "stdout",
     "output_type": "stream",
     "text": [
      "Epoch 16/500 - Training Loss: 4913.5197, Validation Loss: 4967.8346\n"
     ]
    },
    {
     "name": "stderr",
     "output_type": "stream",
     "text": [
      "                                                                         \r"
     ]
    },
    {
     "name": "stdout",
     "output_type": "stream",
     "text": [
      "Epoch 17/500 - Training Loss: 4908.8169, Validation Loss: 4964.4898\n"
     ]
    },
    {
     "name": "stderr",
     "output_type": "stream",
     "text": [
      "                                                                         \r"
     ]
    },
    {
     "name": "stdout",
     "output_type": "stream",
     "text": [
      "Epoch 18/500 - Training Loss: 4904.6516, Validation Loss: 4962.0836\n"
     ]
    },
    {
     "name": "stderr",
     "output_type": "stream",
     "text": [
      "                                                                         \r"
     ]
    },
    {
     "name": "stdout",
     "output_type": "stream",
     "text": [
      "Epoch 19/500 - Training Loss: 4901.4340, Validation Loss: 4960.2257\n"
     ]
    },
    {
     "name": "stderr",
     "output_type": "stream",
     "text": [
      "                                                                         \r"
     ]
    },
    {
     "name": "stdout",
     "output_type": "stream",
     "text": [
      "Epoch 20/500 - Training Loss: 4898.2001, Validation Loss: 4959.0664\n"
     ]
    },
    {
     "name": "stderr",
     "output_type": "stream",
     "text": [
      "                                                                         \r"
     ]
    },
    {
     "name": "stdout",
     "output_type": "stream",
     "text": [
      "Epoch 21/500 - Training Loss: 4895.5004, Validation Loss: 4958.8825\n"
     ]
    },
    {
     "name": "stderr",
     "output_type": "stream",
     "text": [
      "                                                                         \r"
     ]
    },
    {
     "name": "stdout",
     "output_type": "stream",
     "text": [
      "Epoch 22/500 - Training Loss: 4893.4786, Validation Loss: 4958.1949\n"
     ]
    },
    {
     "name": "stderr",
     "output_type": "stream",
     "text": [
      "                                                                         \r"
     ]
    },
    {
     "name": "stdout",
     "output_type": "stream",
     "text": [
      "Epoch 23/500 - Training Loss: 4891.5164, Validation Loss: 4957.0721\n"
     ]
    },
    {
     "name": "stderr",
     "output_type": "stream",
     "text": [
      "                                                                         \r"
     ]
    },
    {
     "name": "stdout",
     "output_type": "stream",
     "text": [
      "Epoch 24/500 - Training Loss: 4889.8329, Validation Loss: 4957.3378\n"
     ]
    },
    {
     "name": "stderr",
     "output_type": "stream",
     "text": [
      "                                                                         \r"
     ]
    },
    {
     "name": "stdout",
     "output_type": "stream",
     "text": [
      "Epoch 25/500 - Training Loss: 4888.5850, Validation Loss: 4954.1260\n"
     ]
    },
    {
     "name": "stderr",
     "output_type": "stream",
     "text": [
      "                                                                         \r"
     ]
    },
    {
     "name": "stdout",
     "output_type": "stream",
     "text": [
      "Epoch 26/500 - Training Loss: 4886.7806, Validation Loss: 4954.9314\n"
     ]
    },
    {
     "name": "stderr",
     "output_type": "stream",
     "text": [
      "                                                                         \r"
     ]
    },
    {
     "name": "stdout",
     "output_type": "stream",
     "text": [
      "Epoch 27/500 - Training Loss: 4885.2189, Validation Loss: 4954.0729\n"
     ]
    },
    {
     "name": "stderr",
     "output_type": "stream",
     "text": [
      "                                                                         \r"
     ]
    },
    {
     "name": "stdout",
     "output_type": "stream",
     "text": [
      "Epoch 28/500 - Training Loss: 4883.7789, Validation Loss: 4950.1397\n"
     ]
    },
    {
     "name": "stderr",
     "output_type": "stream",
     "text": [
      "                                                                         \r"
     ]
    },
    {
     "name": "stdout",
     "output_type": "stream",
     "text": [
      "Epoch 29/500 - Training Loss: 4882.5381, Validation Loss: 4949.2034\n"
     ]
    },
    {
     "name": "stderr",
     "output_type": "stream",
     "text": [
      "                                                                         \r"
     ]
    },
    {
     "name": "stdout",
     "output_type": "stream",
     "text": [
      "Epoch 30/500 - Training Loss: 4880.3849, Validation Loss: 4950.2541\n"
     ]
    },
    {
     "name": "stderr",
     "output_type": "stream",
     "text": [
      "                                                                         \r"
     ]
    },
    {
     "name": "stdout",
     "output_type": "stream",
     "text": [
      "Epoch 31/500 - Training Loss: 4878.8259, Validation Loss: 4946.4905\n"
     ]
    },
    {
     "name": "stderr",
     "output_type": "stream",
     "text": [
      "                                                                         \r"
     ]
    },
    {
     "name": "stdout",
     "output_type": "stream",
     "text": [
      "Epoch 32/500 - Training Loss: 4876.7361, Validation Loss: 4943.7262\n"
     ]
    },
    {
     "name": "stderr",
     "output_type": "stream",
     "text": [
      "                                                                         \r"
     ]
    },
    {
     "name": "stdout",
     "output_type": "stream",
     "text": [
      "Epoch 33/500 - Training Loss: 4874.5242, Validation Loss: 4942.2131\n"
     ]
    },
    {
     "name": "stderr",
     "output_type": "stream",
     "text": [
      "                                                                         \r"
     ]
    },
    {
     "name": "stdout",
     "output_type": "stream",
     "text": [
      "Epoch 34/500 - Training Loss: 4872.8166, Validation Loss: 4939.1973\n"
     ]
    },
    {
     "name": "stderr",
     "output_type": "stream",
     "text": [
      "                                                                         \r"
     ]
    },
    {
     "name": "stdout",
     "output_type": "stream",
     "text": [
      "Epoch 35/500 - Training Loss: 4869.6477, Validation Loss: 4934.7818\n"
     ]
    },
    {
     "name": "stderr",
     "output_type": "stream",
     "text": [
      "                                                                         \r"
     ]
    },
    {
     "name": "stdout",
     "output_type": "stream",
     "text": [
      "Epoch 36/500 - Training Loss: 4866.4489, Validation Loss: 4931.5628\n"
     ]
    },
    {
     "name": "stderr",
     "output_type": "stream",
     "text": [
      "                                                                         \r"
     ]
    },
    {
     "name": "stdout",
     "output_type": "stream",
     "text": [
      "Epoch 37/500 - Training Loss: 4864.4845, Validation Loss: 4931.0897\n"
     ]
    },
    {
     "name": "stderr",
     "output_type": "stream",
     "text": [
      "                                                                         \r"
     ]
    },
    {
     "name": "stdout",
     "output_type": "stream",
     "text": [
      "Epoch 38/500 - Training Loss: 4861.3513, Validation Loss: 4926.7329\n"
     ]
    },
    {
     "name": "stderr",
     "output_type": "stream",
     "text": [
      "                                                                         \r"
     ]
    },
    {
     "name": "stdout",
     "output_type": "stream",
     "text": [
      "Epoch 39/500 - Training Loss: 4857.4087, Validation Loss: 4922.2518\n"
     ]
    },
    {
     "name": "stderr",
     "output_type": "stream",
     "text": [
      "                                                                         \r"
     ]
    },
    {
     "name": "stdout",
     "output_type": "stream",
     "text": [
      "Epoch 40/500 - Training Loss: 4853.9434, Validation Loss: 4919.4805\n"
     ]
    },
    {
     "name": "stderr",
     "output_type": "stream",
     "text": [
      "                                                                         \r"
     ]
    },
    {
     "name": "stdout",
     "output_type": "stream",
     "text": [
      "Epoch 41/500 - Training Loss: 4850.7182, Validation Loss: 4915.4374\n"
     ]
    },
    {
     "name": "stderr",
     "output_type": "stream",
     "text": [
      "                                                                         \r"
     ]
    },
    {
     "name": "stdout",
     "output_type": "stream",
     "text": [
      "Epoch 42/500 - Training Loss: 4847.7702, Validation Loss: 4912.0027\n"
     ]
    },
    {
     "name": "stderr",
     "output_type": "stream",
     "text": [
      "                                                                         \r"
     ]
    },
    {
     "name": "stdout",
     "output_type": "stream",
     "text": [
      "Epoch 43/500 - Training Loss: 4844.3171, Validation Loss: 4911.2583\n"
     ]
    },
    {
     "name": "stderr",
     "output_type": "stream",
     "text": [
      "                                                                         \r"
     ]
    },
    {
     "name": "stdout",
     "output_type": "stream",
     "text": [
      "Epoch 44/500 - Training Loss: 4841.6534, Validation Loss: 4911.6578\n"
     ]
    },
    {
     "name": "stderr",
     "output_type": "stream",
     "text": [
      "                                                                         \r"
     ]
    },
    {
     "name": "stdout",
     "output_type": "stream",
     "text": [
      "Epoch 45/500 - Training Loss: 4838.4960, Validation Loss: 4908.2422\n"
     ]
    },
    {
     "name": "stderr",
     "output_type": "stream",
     "text": [
      "                                                                         \r"
     ]
    },
    {
     "name": "stdout",
     "output_type": "stream",
     "text": [
      "Epoch 46/500 - Training Loss: 4833.4313, Validation Loss: 4902.3791\n"
     ]
    },
    {
     "name": "stderr",
     "output_type": "stream",
     "text": [
      "                                                                         \r"
     ]
    },
    {
     "name": "stdout",
     "output_type": "stream",
     "text": [
      "Epoch 47/500 - Training Loss: 4831.8384, Validation Loss: 4897.2215\n"
     ]
    },
    {
     "name": "stderr",
     "output_type": "stream",
     "text": [
      "                                                                         \r"
     ]
    },
    {
     "name": "stdout",
     "output_type": "stream",
     "text": [
      "Epoch 48/500 - Training Loss: 4827.9291, Validation Loss: 4894.8306\n"
     ]
    },
    {
     "name": "stderr",
     "output_type": "stream",
     "text": [
      "                                                                         \r"
     ]
    },
    {
     "name": "stdout",
     "output_type": "stream",
     "text": [
      "Epoch 49/500 - Training Loss: 4823.2710, Validation Loss: 4893.1566\n"
     ]
    },
    {
     "name": "stderr",
     "output_type": "stream",
     "text": [
      "                                                                         \r"
     ]
    },
    {
     "name": "stdout",
     "output_type": "stream",
     "text": [
      "Epoch 50/500 - Training Loss: 4820.1780, Validation Loss: 4888.5701\n"
     ]
    },
    {
     "name": "stderr",
     "output_type": "stream",
     "text": [
      "                                                                         \r"
     ]
    },
    {
     "name": "stdout",
     "output_type": "stream",
     "text": [
      "Epoch 51/500 - Training Loss: 4815.5518, Validation Loss: 4889.6507\n"
     ]
    },
    {
     "name": "stderr",
     "output_type": "stream",
     "text": [
      "                                                                         \r"
     ]
    },
    {
     "name": "stdout",
     "output_type": "stream",
     "text": [
      "Epoch 52/500 - Training Loss: 4812.7226, Validation Loss: 4881.4471\n"
     ]
    },
    {
     "name": "stderr",
     "output_type": "stream",
     "text": [
      "                                                                         \r"
     ]
    },
    {
     "name": "stdout",
     "output_type": "stream",
     "text": [
      "Epoch 53/500 - Training Loss: 4809.0223, Validation Loss: 4881.4111\n"
     ]
    },
    {
     "name": "stderr",
     "output_type": "stream",
     "text": [
      "                                                                         \r"
     ]
    },
    {
     "name": "stdout",
     "output_type": "stream",
     "text": [
      "Epoch 54/500 - Training Loss: 4804.4305, Validation Loss: 4876.7449\n"
     ]
    },
    {
     "name": "stderr",
     "output_type": "stream",
     "text": [
      "                                                                         \r"
     ]
    },
    {
     "name": "stdout",
     "output_type": "stream",
     "text": [
      "Epoch 55/500 - Training Loss: 4801.9843, Validation Loss: 4878.7673\n"
     ]
    },
    {
     "name": "stderr",
     "output_type": "stream",
     "text": [
      "                                                                         \r"
     ]
    },
    {
     "name": "stdout",
     "output_type": "stream",
     "text": [
      "Epoch 56/500 - Training Loss: 4799.7973, Validation Loss: 4877.2220\n"
     ]
    },
    {
     "name": "stderr",
     "output_type": "stream",
     "text": [
      "                                                                         \r"
     ]
    },
    {
     "name": "stdout",
     "output_type": "stream",
     "text": [
      "Epoch 57/500 - Training Loss: 4794.6716, Validation Loss: 4874.7016\n"
     ]
    },
    {
     "name": "stderr",
     "output_type": "stream",
     "text": [
      "                                                                         \r"
     ]
    },
    {
     "name": "stdout",
     "output_type": "stream",
     "text": [
      "Epoch 58/500 - Training Loss: 4791.2934, Validation Loss: 4867.2002\n"
     ]
    },
    {
     "name": "stderr",
     "output_type": "stream",
     "text": [
      "                                                                         \r"
     ]
    },
    {
     "name": "stdout",
     "output_type": "stream",
     "text": [
      "Epoch 59/500 - Training Loss: 4787.5818, Validation Loss: 4868.4579\n"
     ]
    },
    {
     "name": "stderr",
     "output_type": "stream",
     "text": [
      "                                                                         \r"
     ]
    },
    {
     "name": "stdout",
     "output_type": "stream",
     "text": [
      "Epoch 60/500 - Training Loss: 4783.6105, Validation Loss: 4864.2611\n"
     ]
    },
    {
     "name": "stderr",
     "output_type": "stream",
     "text": [
      "                                                                         \r"
     ]
    },
    {
     "name": "stdout",
     "output_type": "stream",
     "text": [
      "Epoch 61/500 - Training Loss: 4780.7710, Validation Loss: 4865.0612\n"
     ]
    },
    {
     "name": "stderr",
     "output_type": "stream",
     "text": [
      "                                                                         \r"
     ]
    },
    {
     "name": "stdout",
     "output_type": "stream",
     "text": [
      "Epoch 62/500 - Training Loss: 4778.6784, Validation Loss: 4865.0566\n"
     ]
    },
    {
     "name": "stderr",
     "output_type": "stream",
     "text": [
      "                                                                         \r"
     ]
    },
    {
     "name": "stdout",
     "output_type": "stream",
     "text": [
      "Epoch 63/500 - Training Loss: 4773.9425, Validation Loss: 4853.5390\n"
     ]
    },
    {
     "name": "stderr",
     "output_type": "stream",
     "text": [
      "                                                                         \r"
     ]
    },
    {
     "name": "stdout",
     "output_type": "stream",
     "text": [
      "Epoch 64/500 - Training Loss: 4770.0073, Validation Loss: 4852.3977\n"
     ]
    },
    {
     "name": "stderr",
     "output_type": "stream",
     "text": [
      "                                                                         \r"
     ]
    },
    {
     "name": "stdout",
     "output_type": "stream",
     "text": [
      "Epoch 65/500 - Training Loss: 4765.6607, Validation Loss: 4861.5157\n"
     ]
    },
    {
     "name": "stderr",
     "output_type": "stream",
     "text": [
      "                                                                         \r"
     ]
    },
    {
     "name": "stdout",
     "output_type": "stream",
     "text": [
      "Epoch 66/500 - Training Loss: 4762.9952, Validation Loss: 4849.1126\n"
     ]
    },
    {
     "name": "stderr",
     "output_type": "stream",
     "text": [
      "                                                                         \r"
     ]
    },
    {
     "name": "stdout",
     "output_type": "stream",
     "text": [
      "Epoch 67/500 - Training Loss: 4759.0088, Validation Loss: 4847.3689\n"
     ]
    },
    {
     "name": "stderr",
     "output_type": "stream",
     "text": [
      "                                                                         \r"
     ]
    },
    {
     "name": "stdout",
     "output_type": "stream",
     "text": [
      "Epoch 68/500 - Training Loss: 4754.4748, Validation Loss: 4849.4406\n"
     ]
    },
    {
     "name": "stderr",
     "output_type": "stream",
     "text": [
      "                                                                         \r"
     ]
    },
    {
     "name": "stdout",
     "output_type": "stream",
     "text": [
      "Epoch 69/500 - Training Loss: 4752.5677, Validation Loss: 4846.6739\n"
     ]
    },
    {
     "name": "stderr",
     "output_type": "stream",
     "text": [
      "                                                                         \r"
     ]
    },
    {
     "name": "stdout",
     "output_type": "stream",
     "text": [
      "Epoch 70/500 - Training Loss: 4749.8374, Validation Loss: 4841.1600\n"
     ]
    },
    {
     "name": "stderr",
     "output_type": "stream",
     "text": [
      "                                                                         \r"
     ]
    },
    {
     "name": "stdout",
     "output_type": "stream",
     "text": [
      "Epoch 71/500 - Training Loss: 4742.7926, Validation Loss: 4836.7425\n"
     ]
    },
    {
     "name": "stderr",
     "output_type": "stream",
     "text": [
      "                                                                         \r"
     ]
    },
    {
     "name": "stdout",
     "output_type": "stream",
     "text": [
      "Epoch 72/500 - Training Loss: 4739.9437, Validation Loss: 4837.2739\n"
     ]
    },
    {
     "name": "stderr",
     "output_type": "stream",
     "text": [
      "                                                                         \r"
     ]
    },
    {
     "name": "stdout",
     "output_type": "stream",
     "text": [
      "Epoch 73/500 - Training Loss: 4736.7647, Validation Loss: 4837.3636\n"
     ]
    },
    {
     "name": "stderr",
     "output_type": "stream",
     "text": [
      "                                                                         \r"
     ]
    },
    {
     "name": "stdout",
     "output_type": "stream",
     "text": [
      "Epoch 74/500 - Training Loss: 4733.1611, Validation Loss: 4837.4053\n"
     ]
    },
    {
     "name": "stderr",
     "output_type": "stream",
     "text": [
      "                                                                         \r"
     ]
    },
    {
     "name": "stdout",
     "output_type": "stream",
     "text": [
      "Epoch 75/500 - Training Loss: 4729.8890, Validation Loss: 4829.2966\n"
     ]
    },
    {
     "name": "stderr",
     "output_type": "stream",
     "text": [
      "                                                                         \r"
     ]
    },
    {
     "name": "stdout",
     "output_type": "stream",
     "text": [
      "Epoch 76/500 - Training Loss: 4725.0035, Validation Loss: 4830.8070\n"
     ]
    },
    {
     "name": "stderr",
     "output_type": "stream",
     "text": [
      "                                                                         \r"
     ]
    },
    {
     "name": "stdout",
     "output_type": "stream",
     "text": [
      "Epoch 77/500 - Training Loss: 4722.5466, Validation Loss: 4825.9959\n"
     ]
    },
    {
     "name": "stderr",
     "output_type": "stream",
     "text": [
      "                                                                         \r"
     ]
    },
    {
     "name": "stdout",
     "output_type": "stream",
     "text": [
      "Epoch 78/500 - Training Loss: 4719.6296, Validation Loss: 4822.0447\n"
     ]
    },
    {
     "name": "stderr",
     "output_type": "stream",
     "text": [
      "                                                                         \r"
     ]
    },
    {
     "name": "stdout",
     "output_type": "stream",
     "text": [
      "Epoch 79/500 - Training Loss: 4717.9467, Validation Loss: 4822.7480\n"
     ]
    },
    {
     "name": "stderr",
     "output_type": "stream",
     "text": [
      "                                                                         \r"
     ]
    },
    {
     "name": "stdout",
     "output_type": "stream",
     "text": [
      "Epoch 80/500 - Training Loss: 4710.7656, Validation Loss: 4819.2747\n"
     ]
    },
    {
     "name": "stderr",
     "output_type": "stream",
     "text": [
      "                                                                         \r"
     ]
    },
    {
     "name": "stdout",
     "output_type": "stream",
     "text": [
      "Epoch 81/500 - Training Loss: 4708.1663, Validation Loss: 4822.6014\n"
     ]
    },
    {
     "name": "stderr",
     "output_type": "stream",
     "text": [
      "                                                                         \r"
     ]
    },
    {
     "name": "stdout",
     "output_type": "stream",
     "text": [
      "Epoch 82/500 - Training Loss: 4703.9910, Validation Loss: 4816.5613\n"
     ]
    },
    {
     "name": "stderr",
     "output_type": "stream",
     "text": [
      "                                                                         \r"
     ]
    },
    {
     "name": "stdout",
     "output_type": "stream",
     "text": [
      "Epoch 83/500 - Training Loss: 4701.0150, Validation Loss: 4818.4504\n"
     ]
    },
    {
     "name": "stderr",
     "output_type": "stream",
     "text": [
      "                                                                         \r"
     ]
    },
    {
     "name": "stdout",
     "output_type": "stream",
     "text": [
      "Epoch 84/500 - Training Loss: 4700.4367, Validation Loss: 4816.7323\n"
     ]
    },
    {
     "name": "stderr",
     "output_type": "stream",
     "text": [
      "                                                                         \r"
     ]
    },
    {
     "name": "stdout",
     "output_type": "stream",
     "text": [
      "Epoch 85/500 - Training Loss: 4694.7419, Validation Loss: 4811.5103\n"
     ]
    },
    {
     "name": "stderr",
     "output_type": "stream",
     "text": [
      "                                                                         \r"
     ]
    },
    {
     "name": "stdout",
     "output_type": "stream",
     "text": [
      "Epoch 86/500 - Training Loss: 4689.8250, Validation Loss: 4807.4323\n"
     ]
    },
    {
     "name": "stderr",
     "output_type": "stream",
     "text": [
      "                                                                         \r"
     ]
    },
    {
     "name": "stdout",
     "output_type": "stream",
     "text": [
      "Epoch 87/500 - Training Loss: 4686.3633, Validation Loss: 4812.6377\n"
     ]
    },
    {
     "name": "stderr",
     "output_type": "stream",
     "text": [
      "                                                                         \r"
     ]
    },
    {
     "name": "stdout",
     "output_type": "stream",
     "text": [
      "Epoch 88/500 - Training Loss: 4683.0959, Validation Loss: 4813.1182\n"
     ]
    },
    {
     "name": "stderr",
     "output_type": "stream",
     "text": [
      "                                                                         \r"
     ]
    },
    {
     "name": "stdout",
     "output_type": "stream",
     "text": [
      "Epoch 89/500 - Training Loss: 4681.8726, Validation Loss: 4814.7705\n"
     ]
    },
    {
     "name": "stderr",
     "output_type": "stream",
     "text": [
      "                                                                         \r"
     ]
    },
    {
     "name": "stdout",
     "output_type": "stream",
     "text": [
      "Epoch 90/500 - Training Loss: 4674.3272, Validation Loss: 4811.1727\n"
     ]
    },
    {
     "name": "stderr",
     "output_type": "stream",
     "text": [
      "                                                                         \r"
     ]
    },
    {
     "name": "stdout",
     "output_type": "stream",
     "text": [
      "Epoch 91/500 - Training Loss: 4671.7959, Validation Loss: 4807.9807\n"
     ]
    },
    {
     "name": "stderr",
     "output_type": "stream",
     "text": [
      "                                                                         \r"
     ]
    },
    {
     "name": "stdout",
     "output_type": "stream",
     "text": [
      "Epoch 92/500 - Training Loss: 4671.6134, Validation Loss: 4808.1075\n"
     ]
    },
    {
     "name": "stderr",
     "output_type": "stream",
     "text": [
      "                                                                         \r"
     ]
    },
    {
     "name": "stdout",
     "output_type": "stream",
     "text": [
      "Epoch 93/500 - Training Loss: 4664.3137, Validation Loss: 4798.7664\n"
     ]
    },
    {
     "name": "stderr",
     "output_type": "stream",
     "text": [
      "                                                                         \r"
     ]
    },
    {
     "name": "stdout",
     "output_type": "stream",
     "text": [
      "Epoch 94/500 - Training Loss: 4661.8811, Validation Loss: 4806.2871\n"
     ]
    },
    {
     "name": "stderr",
     "output_type": "stream",
     "text": [
      "                                                                         \r"
     ]
    },
    {
     "name": "stdout",
     "output_type": "stream",
     "text": [
      "Epoch 95/500 - Training Loss: 4659.5294, Validation Loss: 4802.2761\n"
     ]
    },
    {
     "name": "stderr",
     "output_type": "stream",
     "text": [
      "                                                                         \r"
     ]
    },
    {
     "name": "stdout",
     "output_type": "stream",
     "text": [
      "Epoch 96/500 - Training Loss: 4657.6521, Validation Loss: 4803.9468\n"
     ]
    },
    {
     "name": "stderr",
     "output_type": "stream",
     "text": [
      "                                                                         \r"
     ]
    },
    {
     "name": "stdout",
     "output_type": "stream",
     "text": [
      "Epoch 97/500 - Training Loss: 4650.2311, Validation Loss: 4804.0748\n"
     ]
    },
    {
     "name": "stderr",
     "output_type": "stream",
     "text": [
      "                                                                         \r"
     ]
    },
    {
     "name": "stdout",
     "output_type": "stream",
     "text": [
      "Epoch 98/500 - Training Loss: 4647.5274, Validation Loss: 4805.9632\n"
     ]
    },
    {
     "name": "stderr",
     "output_type": "stream",
     "text": [
      "                                                                         \r"
     ]
    },
    {
     "name": "stdout",
     "output_type": "stream",
     "text": [
      "Epoch 99/500 - Training Loss: 4647.9545, Validation Loss: 4800.1848\n"
     ]
    },
    {
     "name": "stderr",
     "output_type": "stream",
     "text": [
      "                                                                          "
     ]
    },
    {
     "name": "stdout",
     "output_type": "stream",
     "text": [
      "Epoch 100/500 - Training Loss: 4640.3070, Validation Loss: 4799.3655\n",
      "Early stopping triggered\n"
     ]
    },
    {
     "name": "stderr",
     "output_type": "stream",
     "text": [
      "\r"
     ]
    },
    {
     "data": {
      "text/plain": [
       "<All keys matched successfully>"
      ]
     },
     "execution_count": 50,
     "metadata": {},
     "output_type": "execute_result"
    }
   ],
   "source": [
    "for epoch in range(epochs):\n",
    "    transformer_model.train()\n",
    "    total_train_loss = 0.0\n",
    "\n",
    "    train_progress_bar = tqdm(train_loader, desc=f'Train Epoch {epoch+1}/{epochs}', leave=False)\n",
    "    for batch_inputs, batch_targets in train_progress_bar:\n",
    "        batch_inputs = batch_inputs.to(current_device)\n",
    "        batch_targets = batch_targets.to(current_device)\n",
    "\n",
    "        optimizer.zero_grad()\n",
    "        outputs = transformer_model(batch_inputs)\n",
    "        loss = criterion(outputs, batch_targets)\n",
    "        loss.backward()\n",
    "        optimizer.step()\n",
    "\n",
    "        total_train_loss += loss.item() * batch_inputs.size(0)\n",
    "\n",
    "    avg_train_loss = total_train_loss / len(train_dataset)\n",
    "    train_losses.append(avg_train_loss)\n",
    "\n",
    "    # Validation phase\n",
    "    transformer_model.eval()\n",
    "    total_val_loss = 0.0\n",
    "    val_progress_bar = tqdm(val_loader, desc=f'Validation Epoch {epoch+1}/{epochs}', leave=False)\n",
    "    with torch.no_grad():\n",
    "        for batch_inputs, batch_targets in val_progress_bar:\n",
    "            batch_inputs = batch_inputs.to(current_device)\n",
    "            batch_targets = batch_targets.to(current_device)\n",
    "\n",
    "            outputs = transformer_model(batch_inputs)\n",
    "            loss = criterion(outputs, batch_targets)\n",
    "            total_val_loss += loss.item() * batch_inputs.size(0)\n",
    "\n",
    "    avg_val_loss = total_val_loss / len(val_dataset)\n",
    "    val_losses.append(avg_val_loss)\n",
    "\n",
    "    print(f'Epoch {epoch+1}/{epochs} - Training Loss: {avg_train_loss:.4f}, Validation Loss: {avg_val_loss:.4f}')\n",
    "\n",
    "    scheduler.step(avg_val_loss)\n",
    "\n",
    "    if avg_val_loss < best_loss:\n",
    "        best_loss = avg_val_loss\n",
    "        best_model_wts = copy.deepcopy(transformer_model.state_dict())\n",
    "        torch.save({'transformer_model': transformer_model.state_dict(), 'gcn_model': gcn_model.state_dict()}, 'best_model.pth')\n",
    "        early_stopping_counter = 0\n",
    "    else:\n",
    "        early_stopping_counter += 1\n",
    "        if early_stopping_counter >= patience:\n",
    "            print(\"Early stopping triggered\")\n",
    "            break\n",
    "\n",
    "# 최고의 모델 가중치 로드\n",
    "transformer_model.load_state_dict(best_model_wts)\n"
   ]
  },
  {
   "cell_type": "code",
   "execution_count": 51,
   "metadata": {},
   "outputs": [],
   "source": [
    "torch.save(transformer_model.state_dict(), 'final_model_Transformer.pth')"
   ]
  },
  {
   "cell_type": "code",
   "execution_count": 52,
   "metadata": {},
   "outputs": [
    {
     "data": {
      "image/png": "[encoded data removed]",
      "text/plain": [
       "<Figure size 640x480 with 1 Axes>"
      ]
     },
     "metadata": {},
     "output_type": "display_data"
    }
   ],
   "source": [
    "plt.plot(train_losses, label='Training Loss', color='blue')\n",
    "plt.plot(val_losses, label='Validation Loss', color='orange')\n",
    "plt.xlabel('Epochs')\n",
    "plt.ylabel('Loss')\n",
    "plt.legend()\n",
    "plt.show()"
   ]
  },
  {
   "cell_type": "markdown",
   "metadata": {},
   "source": [
    "# Test with Real Data"
   ]
  },
  {
   "cell_type": "code",
   "execution_count": 53,
   "metadata": {},
   "outputs": [],
   "source": [
    "test_df = pd.read_csv('./B01_TransformData_FinalAvatar_20230922_171230.csv').iloc[300:-100]"
   ]
  },
  {
   "cell_type": "code",
   "execution_count": 54,
   "metadata": {},
   "outputs": [
    {
     "data": {
      "text/html": [
       "<div>\n",
       "<style scoped>\n",
       "    .dataframe tbody tr th:only-of-type {\n",
       "        vertical-align: middle;\n",
       "    }\n",
       "\n",
       "    .dataframe tbody tr th {\n",
       "        vertical-align: top;\n",
       "    }\n",
       "\n",
       "    .dataframe thead th {\n",
       "        text-align: right;\n",
       "    }\n",
       "</style>\n",
       "<table border=\"1\" class=\"dataframe\">\n",
       "  <thead>\n",
       "    <tr style=\"text-align: right;\">\n",
       "      <th></th>\n",
       "      <th>Frame</th>\n",
       "      <th>Time</th>\n",
       "      <th>m_avg_PelvisPosX</th>\n",
       "      <th>m_avg_PelvisPosY</th>\n",
       "      <th>m_avg_PelvisPosZ</th>\n",
       "      <th>m_avg_PelvisRotX</th>\n",
       "      <th>m_avg_PelvisRotY</th>\n",
       "      <th>m_avg_PelvisRotZ</th>\n",
       "      <th>m_avg_L_HipPosX</th>\n",
       "      <th>m_avg_L_HipPosY</th>\n",
       "      <th>...</th>\n",
       "      <th>m_avg_R_ElbowRotX</th>\n",
       "      <th>m_avg_R_ElbowRotY</th>\n",
       "      <th>m_avg_R_ElbowRotZ</th>\n",
       "      <th>m_avg_R_WristPosX</th>\n",
       "      <th>m_avg_R_WristPosY</th>\n",
       "      <th>m_avg_R_WristPosZ</th>\n",
       "      <th>m_avg_R_WristRotX</th>\n",
       "      <th>m_avg_R_WristRotY</th>\n",
       "      <th>m_avg_R_WristRotZ</th>\n",
       "      <th>Unnamed: 128</th>\n",
       "    </tr>\n",
       "  </thead>\n",
       "  <tbody>\n",
       "    <tr>\n",
       "      <th>300</th>\n",
       "      <td>301</td>\n",
       "      <td>3.516298</td>\n",
       "      <td>0.167637</td>\n",
       "      <td>0.309281</td>\n",
       "      <td>1.707612</td>\n",
       "      <td>357.083</td>\n",
       "      <td>356.5699</td>\n",
       "      <td>359.1780</td>\n",
       "      <td>0.110527</td>\n",
       "      <td>0.229474</td>\n",
       "      <td>...</td>\n",
       "      <td>351.9312</td>\n",
       "      <td>358.1726</td>\n",
       "      <td>282.4885</td>\n",
       "      <td>0.484731</td>\n",
       "      <td>0.254242</td>\n",
       "      <td>1.712456</td>\n",
       "      <td>339.4850</td>\n",
       "      <td>296.8258</td>\n",
       "      <td>305.4126</td>\n",
       "      <td>NaN</td>\n",
       "    </tr>\n",
       "    <tr>\n",
       "      <th>301</th>\n",
       "      <td>302</td>\n",
       "      <td>3.527282</td>\n",
       "      <td>0.167637</td>\n",
       "      <td>0.309281</td>\n",
       "      <td>1.707612</td>\n",
       "      <td>357.083</td>\n",
       "      <td>356.5699</td>\n",
       "      <td>359.1780</td>\n",
       "      <td>0.110527</td>\n",
       "      <td>0.229474</td>\n",
       "      <td>...</td>\n",
       "      <td>350.7178</td>\n",
       "      <td>357.2758</td>\n",
       "      <td>281.4112</td>\n",
       "      <td>0.473791</td>\n",
       "      <td>0.253382</td>\n",
       "      <td>1.724783</td>\n",
       "      <td>337.8150</td>\n",
       "      <td>292.9910</td>\n",
       "      <td>307.2033</td>\n",
       "      <td>NaN</td>\n",
       "    </tr>\n",
       "    <tr>\n",
       "      <th>302</th>\n",
       "      <td>303</td>\n",
       "      <td>3.538654</td>\n",
       "      <td>0.167637</td>\n",
       "      <td>0.309281</td>\n",
       "      <td>1.707612</td>\n",
       "      <td>357.083</td>\n",
       "      <td>356.5699</td>\n",
       "      <td>359.1780</td>\n",
       "      <td>0.110527</td>\n",
       "      <td>0.229474</td>\n",
       "      <td>...</td>\n",
       "      <td>349.4878</td>\n",
       "      <td>356.3683</td>\n",
       "      <td>280.3726</td>\n",
       "      <td>0.462770</td>\n",
       "      <td>0.253029</td>\n",
       "      <td>1.736980</td>\n",
       "      <td>336.0336</td>\n",
       "      <td>289.2522</td>\n",
       "      <td>308.9090</td>\n",
       "      <td>NaN</td>\n",
       "    </tr>\n",
       "    <tr>\n",
       "      <th>303</th>\n",
       "      <td>304</td>\n",
       "      <td>3.549650</td>\n",
       "      <td>0.169145</td>\n",
       "      <td>0.316027</td>\n",
       "      <td>1.705714</td>\n",
       "      <td>357.288</td>\n",
       "      <td>355.9712</td>\n",
       "      <td>359.2451</td>\n",
       "      <td>0.112322</td>\n",
       "      <td>0.236200</td>\n",
       "      <td>...</td>\n",
       "      <td>348.2825</td>\n",
       "      <td>355.5042</td>\n",
       "      <td>279.3825</td>\n",
       "      <td>0.452501</td>\n",
       "      <td>0.258765</td>\n",
       "      <td>1.747534</td>\n",
       "      <td>334.1286</td>\n",
       "      <td>285.3405</td>\n",
       "      <td>310.8063</td>\n",
       "      <td>NaN</td>\n",
       "    </tr>\n",
       "    <tr>\n",
       "      <th>304</th>\n",
       "      <td>305</td>\n",
       "      <td>3.561161</td>\n",
       "      <td>0.169145</td>\n",
       "      <td>0.316027</td>\n",
       "      <td>1.705714</td>\n",
       "      <td>357.288</td>\n",
       "      <td>355.9712</td>\n",
       "      <td>359.2451</td>\n",
       "      <td>0.112322</td>\n",
       "      <td>0.236200</td>\n",
       "      <td>...</td>\n",
       "      <td>346.9774</td>\n",
       "      <td>354.4922</td>\n",
       "      <td>278.4650</td>\n",
       "      <td>0.441532</td>\n",
       "      <td>0.259532</td>\n",
       "      <td>1.759929</td>\n",
       "      <td>332.4753</td>\n",
       "      <td>281.4930</td>\n",
       "      <td>312.3235</td>\n",
       "      <td>NaN</td>\n",
       "    </tr>\n",
       "  </tbody>\n",
       "</table>\n",
       "<p>5 rows × 129 columns</p>\n",
       "</div>"
      ],
      "text/plain": [
       "     Frame      Time  m_avg_PelvisPosX  m_avg_PelvisPosY  m_avg_PelvisPosZ  \\\n",
       "300    301  3.516298          0.167637          0.309281          1.707612   \n",
       "301    302  3.527282          0.167637          0.309281          1.707612   \n",
       "302    303  3.538654          0.167637          0.309281          1.707612   \n",
       "303    304  3.549650          0.169145          0.316027          1.705714   \n",
       "304    305  3.561161          0.169145          0.316027          1.705714   \n",
       "\n",
       "     m_avg_PelvisRotX  m_avg_PelvisRotY  m_avg_PelvisRotZ  m_avg_L_HipPosX  \\\n",
       "300           357.083          356.5699          359.1780         0.110527   \n",
       "301           357.083          356.5699          359.1780         0.110527   \n",
       "302           357.083          356.5699          359.1780         0.110527   \n",
       "303           357.288          355.9712          359.2451         0.112322   \n",
       "304           357.288          355.9712          359.2451         0.112322   \n",
       "\n",
       "     m_avg_L_HipPosY  ...  m_avg_R_ElbowRotX  m_avg_R_ElbowRotY  \\\n",
       "300         0.229474  ...           351.9312           358.1726   \n",
       "301         0.229474  ...           350.7178           357.2758   \n",
       "302         0.229474  ...           349.4878           356.3683   \n",
       "303         0.236200  ...           348.2825           355.5042   \n",
       "304         0.236200  ...           346.9774           354.4922   \n",
       "\n",
       "     m_avg_R_ElbowRotZ  m_avg_R_WristPosX  m_avg_R_WristPosY  \\\n",
       "300           282.4885           0.484731           0.254242   \n",
       "301           281.4112           0.473791           0.253382   \n",
       "302           280.3726           0.462770           0.253029   \n",
       "303           279.3825           0.452501           0.258765   \n",
       "304           278.4650           0.441532           0.259532   \n",
       "\n",
       "     m_avg_R_WristPosZ  m_avg_R_WristRotX  m_avg_R_WristRotY  \\\n",
       "300           1.712456           339.4850           296.8258   \n",
       "301           1.724783           337.8150           292.9910   \n",
       "302           1.736980           336.0336           289.2522   \n",
       "303           1.747534           334.1286           285.3405   \n",
       "304           1.759929           332.4753           281.4930   \n",
       "\n",
       "     m_avg_R_WristRotZ  Unnamed: 128  \n",
       "300           305.4126           NaN  \n",
       "301           307.2033           NaN  \n",
       "302           308.9090           NaN  \n",
       "303           310.8063           NaN  \n",
       "304           312.3235           NaN  \n",
       "\n",
       "[5 rows x 129 columns]"
      ]
     },
     "execution_count": 54,
     "metadata": {},
     "output_type": "execute_result"
    }
   ],
   "source": [
    "test_df.head()"
   ]
  },
  {
   "cell_type": "code",
   "execution_count": 55,
   "metadata": {},
   "outputs": [
    {
     "name": "stderr",
     "output_type": "stream",
     "text": [
      "C:\\Users\\admin\\AppData\\Local\\Temp\\ipykernel_30212\\1301280596.py:19: SettingWithCopyWarning: \n",
      "A value is trying to be set on a copy of a slice from a DataFrame.\n",
      "Try using .loc[row_indexer,col_indexer] = value instead\n",
      "\n",
      "See the caveats in the documentation: https://pandas.pydata.org/pandas-docs/stable/user_guide/indexing.html#returning-a-view-versus-a-copy\n",
      "  df[col] = (df[col] - min_val) / (max_val - min_val)\n"
     ]
    }
   ],
   "source": [
    "test_rotation_columns = [col for col in test_df.columns if 'Rot' in col]\n",
    "\n",
    "test_position_columns = [col for col in test_df.columns if 'Pos' in col]\n",
    "\n",
    "# DataFrame 분리\n",
    "test_rotation_df = test_df[test_rotation_columns]\n",
    "test_position_df = test_df[test_position_columns]\n",
    "\n",
    "# Rotation 컬럼만 -180~180 사이로 정규화\n",
    "normalize_angle = lambda x:x if x == 999 else (x - 360) if x > 180 else (x + 360) if x < -180 else x\n",
    "test_rotation_df = test_rotation_df.apply(lambda col: col.apply(normalize_angle))\n",
    "\n",
    "# Position 컬럼만 0~1 사이로 정규화\n",
    "def normalize_columns(df):\n",
    "    for col in df.columns:\n",
    "        if 'Pos' in col:  # 위치에 대한 컬럼만 정규화\n",
    "            min_val = df[col].min()\n",
    "            max_val = df[col].max()\n",
    "            df[col] = (df[col] - min_val) / (max_val - min_val)\n",
    "    return df\n",
    "\n",
    "test_position_df = normalize_columns(test_position_df)"
   ]
  },
  {
   "cell_type": "code",
   "execution_count": 56,
   "metadata": {},
   "outputs": [
    {
     "name": "stdout",
     "output_type": "stream",
     "text": [
      "범위를 벗어나는 값이 없습니다.\n"
     ]
    }
   ],
   "source": [
    "# -180 ~ 180 범위를 벗어나는 값이 있는지 확인\n",
    "num_values_out_of_range = test_rotation_df.apply(lambda col: col.apply(lambda x: x != 999 and (x > 180 or x < -180))).sum().sum()\n",
    "\n",
    "# 결과 확인\n",
    "if num_values_out_of_range > 0:\n",
    "    print(f\"범위를 벗어나는 값의 수: {num_values_out_of_range}\")\n",
    "else:\n",
    "    print(\"범위를 벗어나는 값이 없습니다.\")"
   ]
  },
  {
   "cell_type": "code",
   "execution_count": 57,
   "metadata": {},
   "outputs": [
    {
     "name": "stderr",
     "output_type": "stream",
     "text": [
      "C:\\Users\\admin\\AppData\\Local\\Temp\\ipykernel_30212\\619901990.py:13: PerformanceWarning: DataFrame is highly fragmented.  This is usually the result of calling `frame.insert` many times, which has poor performance.  Consider joining all columns at once using pd.concat(axis=1) instead. To get a de-fragmented frame, use `newframe = frame.copy()`\n",
      "  test_posrot_df[f'{joint}RotY'] = test_rotation_df[f'{joint}RotY']\n",
      "C:\\Users\\admin\\AppData\\Local\\Temp\\ipykernel_30212\\619901990.py:14: PerformanceWarning: DataFrame is highly fragmented.  This is usually the result of calling `frame.insert` many times, which has poor performance.  Consider joining all columns at once using pd.concat(axis=1) instead. To get a de-fragmented frame, use `newframe = frame.copy()`\n",
      "  test_posrot_df[f'{joint}RotZ'] = test_rotation_df[f'{joint}RotZ']\n",
      "C:\\Users\\admin\\AppData\\Local\\Temp\\ipykernel_30212\\619901990.py:9: PerformanceWarning: DataFrame is highly fragmented.  This is usually the result of calling `frame.insert` many times, which has poor performance.  Consider joining all columns at once using pd.concat(axis=1) instead. To get a de-fragmented frame, use `newframe = frame.copy()`\n",
      "  test_posrot_df[f'{joint}PosX'] = test_position_df[f'{joint}PosX']\n",
      "C:\\Users\\admin\\AppData\\Local\\Temp\\ipykernel_30212\\619901990.py:10: PerformanceWarning: DataFrame is highly fragmented.  This is usually the result of calling `frame.insert` many times, which has poor performance.  Consider joining all columns at once using pd.concat(axis=1) instead. To get a de-fragmented frame, use `newframe = frame.copy()`\n",
      "  test_posrot_df[f'{joint}PosY'] = test_position_df[f'{joint}PosY']\n",
      "C:\\Users\\admin\\AppData\\Local\\Temp\\ipykernel_30212\\619901990.py:11: PerformanceWarning: DataFrame is highly fragmented.  This is usually the result of calling `frame.insert` many times, which has poor performance.  Consider joining all columns at once using pd.concat(axis=1) instead. To get a de-fragmented frame, use `newframe = frame.copy()`\n",
      "  test_posrot_df[f'{joint}PosZ'] = test_position_df[f'{joint}PosZ']\n",
      "C:\\Users\\admin\\AppData\\Local\\Temp\\ipykernel_30212\\619901990.py:12: PerformanceWarning: DataFrame is highly fragmented.  This is usually the result of calling `frame.insert` many times, which has poor performance.  Consider joining all columns at once using pd.concat(axis=1) instead. To get a de-fragmented frame, use `newframe = frame.copy()`\n",
      "  test_posrot_df[f'{joint}RotX'] = test_rotation_df[f'{joint}RotX']\n",
      "C:\\Users\\admin\\AppData\\Local\\Temp\\ipykernel_30212\\619901990.py:13: PerformanceWarning: DataFrame is highly fragmented.  This is usually the result of calling `frame.insert` many times, which has poor performance.  Consider joining all columns at once using pd.concat(axis=1) instead. To get a de-fragmented frame, use `newframe = frame.copy()`\n",
      "  test_posrot_df[f'{joint}RotY'] = test_rotation_df[f'{joint}RotY']\n",
      "C:\\Users\\admin\\AppData\\Local\\Temp\\ipykernel_30212\\619901990.py:14: PerformanceWarning: DataFrame is highly fragmented.  This is usually the result of calling `frame.insert` many times, which has poor performance.  Consider joining all columns at once using pd.concat(axis=1) instead. To get a de-fragmented frame, use `newframe = frame.copy()`\n",
      "  test_posrot_df[f'{joint}RotZ'] = test_rotation_df[f'{joint}RotZ']\n",
      "C:\\Users\\admin\\AppData\\Local\\Temp\\ipykernel_30212\\619901990.py:9: PerformanceWarning: DataFrame is highly fragmented.  This is usually the result of calling `frame.insert` many times, which has poor performance.  Consider joining all columns at once using pd.concat(axis=1) instead. To get a de-fragmented frame, use `newframe = frame.copy()`\n",
      "  test_posrot_df[f'{joint}PosX'] = test_position_df[f'{joint}PosX']\n",
      "C:\\Users\\admin\\AppData\\Local\\Temp\\ipykernel_30212\\619901990.py:10: PerformanceWarning: DataFrame is highly fragmented.  This is usually the result of calling `frame.insert` many times, which has poor performance.  Consider joining all columns at once using pd.concat(axis=1) instead. To get a de-fragmented frame, use `newframe = frame.copy()`\n",
      "  test_posrot_df[f'{joint}PosY'] = test_position_df[f'{joint}PosY']\n",
      "C:\\Users\\admin\\AppData\\Local\\Temp\\ipykernel_30212\\619901990.py:11: PerformanceWarning: DataFrame is highly fragmented.  This is usually the result of calling `frame.insert` many times, which has poor performance.  Consider joining all columns at once using pd.concat(axis=1) instead. To get a de-fragmented frame, use `newframe = frame.copy()`\n",
      "  test_posrot_df[f'{joint}PosZ'] = test_position_df[f'{joint}PosZ']\n",
      "C:\\Users\\admin\\AppData\\Local\\Temp\\ipykernel_30212\\619901990.py:12: PerformanceWarning: DataFrame is highly fragmented.  This is usually the result of calling `frame.insert` many times, which has poor performance.  Consider joining all columns at once using pd.concat(axis=1) instead. To get a de-fragmented frame, use `newframe = frame.copy()`\n",
      "  test_posrot_df[f'{joint}RotX'] = test_rotation_df[f'{joint}RotX']\n",
      "C:\\Users\\admin\\AppData\\Local\\Temp\\ipykernel_30212\\619901990.py:13: PerformanceWarning: DataFrame is highly fragmented.  This is usually the result of calling `frame.insert` many times, which has poor performance.  Consider joining all columns at once using pd.concat(axis=1) instead. To get a de-fragmented frame, use `newframe = frame.copy()`\n",
      "  test_posrot_df[f'{joint}RotY'] = test_rotation_df[f'{joint}RotY']\n",
      "C:\\Users\\admin\\AppData\\Local\\Temp\\ipykernel_30212\\619901990.py:14: PerformanceWarning: DataFrame is highly fragmented.  This is usually the result of calling `frame.insert` many times, which has poor performance.  Consider joining all columns at once using pd.concat(axis=1) instead. To get a de-fragmented frame, use `newframe = frame.copy()`\n",
      "  test_posrot_df[f'{joint}RotZ'] = test_rotation_df[f'{joint}RotZ']\n",
      "C:\\Users\\admin\\AppData\\Local\\Temp\\ipykernel_30212\\619901990.py:9: PerformanceWarning: DataFrame is highly fragmented.  This is usually the result of calling `frame.insert` many times, which has poor performance.  Consider joining all columns at once using pd.concat(axis=1) instead. To get a de-fragmented frame, use `newframe = frame.copy()`\n",
      "  test_posrot_df[f'{joint}PosX'] = test_position_df[f'{joint}PosX']\n",
      "C:\\Users\\admin\\AppData\\Local\\Temp\\ipykernel_30212\\619901990.py:10: PerformanceWarning: DataFrame is highly fragmented.  This is usually the result of calling `frame.insert` many times, which has poor performance.  Consider joining all columns at once using pd.concat(axis=1) instead. To get a de-fragmented frame, use `newframe = frame.copy()`\n",
      "  test_posrot_df[f'{joint}PosY'] = test_position_df[f'{joint}PosY']\n",
      "C:\\Users\\admin\\AppData\\Local\\Temp\\ipykernel_30212\\619901990.py:11: PerformanceWarning: DataFrame is highly fragmented.  This is usually the result of calling `frame.insert` many times, which has poor performance.  Consider joining all columns at once using pd.concat(axis=1) instead. To get a de-fragmented frame, use `newframe = frame.copy()`\n",
      "  test_posrot_df[f'{joint}PosZ'] = test_position_df[f'{joint}PosZ']\n",
      "C:\\Users\\admin\\AppData\\Local\\Temp\\ipykernel_30212\\619901990.py:12: PerformanceWarning: DataFrame is highly fragmented.  This is usually the result of calling `frame.insert` many times, which has poor performance.  Consider joining all columns at once using pd.concat(axis=1) instead. To get a de-fragmented frame, use `newframe = frame.copy()`\n",
      "  test_posrot_df[f'{joint}RotX'] = test_rotation_df[f'{joint}RotX']\n",
      "C:\\Users\\admin\\AppData\\Local\\Temp\\ipykernel_30212\\619901990.py:13: PerformanceWarning: DataFrame is highly fragmented.  This is usually the result of calling `frame.insert` many times, which has poor performance.  Consider joining all columns at once using pd.concat(axis=1) instead. To get a de-fragmented frame, use `newframe = frame.copy()`\n",
      "  test_posrot_df[f'{joint}RotY'] = test_rotation_df[f'{joint}RotY']\n",
      "C:\\Users\\admin\\AppData\\Local\\Temp\\ipykernel_30212\\619901990.py:14: PerformanceWarning: DataFrame is highly fragmented.  This is usually the result of calling `frame.insert` many times, which has poor performance.  Consider joining all columns at once using pd.concat(axis=1) instead. To get a de-fragmented frame, use `newframe = frame.copy()`\n",
      "  test_posrot_df[f'{joint}RotZ'] = test_rotation_df[f'{joint}RotZ']\n",
      "C:\\Users\\admin\\AppData\\Local\\Temp\\ipykernel_30212\\619901990.py:9: PerformanceWarning: DataFrame is highly fragmented.  This is usually the result of calling `frame.insert` many times, which has poor performance.  Consider joining all columns at once using pd.concat(axis=1) instead. To get a de-fragmented frame, use `newframe = frame.copy()`\n",
      "  test_posrot_df[f'{joint}PosX'] = test_position_df[f'{joint}PosX']\n",
      "C:\\Users\\admin\\AppData\\Local\\Temp\\ipykernel_30212\\619901990.py:10: PerformanceWarning: DataFrame is highly fragmented.  This is usually the result of calling `frame.insert` many times, which has poor performance.  Consider joining all columns at once using pd.concat(axis=1) instead. To get a de-fragmented frame, use `newframe = frame.copy()`\n",
      "  test_posrot_df[f'{joint}PosY'] = test_position_df[f'{joint}PosY']\n",
      "C:\\Users\\admin\\AppData\\Local\\Temp\\ipykernel_30212\\619901990.py:11: PerformanceWarning: DataFrame is highly fragmented.  This is usually the result of calling `frame.insert` many times, which has poor performance.  Consider joining all columns at once using pd.concat(axis=1) instead. To get a de-fragmented frame, use `newframe = frame.copy()`\n",
      "  test_posrot_df[f'{joint}PosZ'] = test_position_df[f'{joint}PosZ']\n",
      "C:\\Users\\admin\\AppData\\Local\\Temp\\ipykernel_30212\\619901990.py:12: PerformanceWarning: DataFrame is highly fragmented.  This is usually the result of calling `frame.insert` many times, which has poor performance.  Consider joining all columns at once using pd.concat(axis=1) instead. To get a de-fragmented frame, use `newframe = frame.copy()`\n",
      "  test_posrot_df[f'{joint}RotX'] = test_rotation_df[f'{joint}RotX']\n",
      "C:\\Users\\admin\\AppData\\Local\\Temp\\ipykernel_30212\\619901990.py:13: PerformanceWarning: DataFrame is highly fragmented.  This is usually the result of calling `frame.insert` many times, which has poor performance.  Consider joining all columns at once using pd.concat(axis=1) instead. To get a de-fragmented frame, use `newframe = frame.copy()`\n",
      "  test_posrot_df[f'{joint}RotY'] = test_rotation_df[f'{joint}RotY']\n",
      "C:\\Users\\admin\\AppData\\Local\\Temp\\ipykernel_30212\\619901990.py:14: PerformanceWarning: DataFrame is highly fragmented.  This is usually the result of calling `frame.insert` many times, which has poor performance.  Consider joining all columns at once using pd.concat(axis=1) instead. To get a de-fragmented frame, use `newframe = frame.copy()`\n",
      "  test_posrot_df[f'{joint}RotZ'] = test_rotation_df[f'{joint}RotZ']\n"
     ]
    }
   ],
   "source": [
    "# 조인트 이름 추출\n",
    "joint_names = [col.split('PosX')[0] for col in test_position_df.columns if 'PosX' in col]\n",
    "\n",
    "# 빈 데이터 프레임 생성\n",
    "test_posrot_df = pd.DataFrame()\n",
    "\n",
    "# 각 조인트에 대해 위치 데이터와 회전 데이터를 순차적으로 배열\n",
    "for joint in joint_names:\n",
    "    test_posrot_df[f'{joint}PosX'] = test_position_df[f'{joint}PosX']\n",
    "    test_posrot_df[f'{joint}PosY'] = test_position_df[f'{joint}PosY']\n",
    "    test_posrot_df[f'{joint}PosZ'] = test_position_df[f'{joint}PosZ']\n",
    "    test_posrot_df[f'{joint}RotX'] = test_rotation_df[f'{joint}RotX']\n",
    "    test_posrot_df[f'{joint}RotY'] = test_rotation_df[f'{joint}RotY']\n",
    "    test_posrot_df[f'{joint}RotZ'] = test_rotation_df[f'{joint}RotZ']"
   ]
  },
  {
   "cell_type": "code",
   "execution_count": 58,
   "metadata": {},
   "outputs": [
    {
     "data": {
      "text/html": [
       "<div>\n",
       "<style scoped>\n",
       "    .dataframe tbody tr th:only-of-type {\n",
       "        vertical-align: middle;\n",
       "    }\n",
       "\n",
       "    .dataframe tbody tr th {\n",
       "        vertical-align: top;\n",
       "    }\n",
       "\n",
       "    .dataframe thead th {\n",
       "        text-align: right;\n",
       "    }\n",
       "</style>\n",
       "<table border=\"1\" class=\"dataframe\">\n",
       "  <thead>\n",
       "    <tr style=\"text-align: right;\">\n",
       "      <th></th>\n",
       "      <th>m_avg_PelvisPosX</th>\n",
       "      <th>m_avg_PelvisPosY</th>\n",
       "      <th>m_avg_PelvisPosZ</th>\n",
       "      <th>m_avg_PelvisRotX</th>\n",
       "      <th>m_avg_PelvisRotY</th>\n",
       "      <th>m_avg_PelvisRotZ</th>\n",
       "      <th>m_avg_L_HipPosX</th>\n",
       "      <th>m_avg_L_HipPosY</th>\n",
       "      <th>m_avg_L_HipPosZ</th>\n",
       "      <th>m_avg_L_HipRotX</th>\n",
       "      <th>...</th>\n",
       "      <th>m_avg_R_ElbowPosZ</th>\n",
       "      <th>m_avg_R_ElbowRotX</th>\n",
       "      <th>m_avg_R_ElbowRotY</th>\n",
       "      <th>m_avg_R_ElbowRotZ</th>\n",
       "      <th>m_avg_R_WristPosX</th>\n",
       "      <th>m_avg_R_WristPosY</th>\n",
       "      <th>m_avg_R_WristPosZ</th>\n",
       "      <th>m_avg_R_WristRotX</th>\n",
       "      <th>m_avg_R_WristRotY</th>\n",
       "      <th>m_avg_R_WristRotZ</th>\n",
       "    </tr>\n",
       "  </thead>\n",
       "  <tbody>\n",
       "    <tr>\n",
       "      <th>300</th>\n",
       "      <td>0.680884</td>\n",
       "      <td>0.700545</td>\n",
       "      <td>0.176077</td>\n",
       "      <td>-2.917000</td>\n",
       "      <td>-3.4301</td>\n",
       "      <td>-0.8220</td>\n",
       "      <td>0.608099</td>\n",
       "      <td>0.673699</td>\n",
       "      <td>0.211484</td>\n",
       "      <td>3.120952</td>\n",
       "      <td>...</td>\n",
       "      <td>0.197403</td>\n",
       "      <td>-8.06880</td>\n",
       "      <td>-1.82740</td>\n",
       "      <td>-77.511500</td>\n",
       "      <td>0.729534</td>\n",
       "      <td>0.267148</td>\n",
       "      <td>0.294202</td>\n",
       "      <td>-20.5150</td>\n",
       "      <td>-63.1742</td>\n",
       "      <td>-54.58740</td>\n",
       "    </tr>\n",
       "    <tr>\n",
       "      <th>301</th>\n",
       "      <td>0.680884</td>\n",
       "      <td>0.700545</td>\n",
       "      <td>0.176077</td>\n",
       "      <td>-2.917000</td>\n",
       "      <td>-3.4301</td>\n",
       "      <td>-0.8220</td>\n",
       "      <td>0.608099</td>\n",
       "      <td>0.673699</td>\n",
       "      <td>0.211484</td>\n",
       "      <td>3.120952</td>\n",
       "      <td>...</td>\n",
       "      <td>0.205596</td>\n",
       "      <td>-9.28220</td>\n",
       "      <td>-2.72420</td>\n",
       "      <td>-78.588800</td>\n",
       "      <td>0.720036</td>\n",
       "      <td>0.265812</td>\n",
       "      <td>0.308725</td>\n",
       "      <td>-22.1850</td>\n",
       "      <td>-67.0090</td>\n",
       "      <td>-52.79670</td>\n",
       "    </tr>\n",
       "    <tr>\n",
       "      <th>302</th>\n",
       "      <td>0.680884</td>\n",
       "      <td>0.700545</td>\n",
       "      <td>0.176077</td>\n",
       "      <td>-2.917000</td>\n",
       "      <td>-3.4301</td>\n",
       "      <td>-0.8220</td>\n",
       "      <td>0.608099</td>\n",
       "      <td>0.673699</td>\n",
       "      <td>0.211484</td>\n",
       "      <td>3.120952</td>\n",
       "      <td>...</td>\n",
       "      <td>0.213703</td>\n",
       "      <td>-10.51220</td>\n",
       "      <td>-3.63170</td>\n",
       "      <td>-79.627400</td>\n",
       "      <td>0.710469</td>\n",
       "      <td>0.265263</td>\n",
       "      <td>0.323094</td>\n",
       "      <td>-23.9664</td>\n",
       "      <td>-70.7478</td>\n",
       "      <td>-51.09100</td>\n",
       "    </tr>\n",
       "    <tr>\n",
       "      <th>303</th>\n",
       "      <td>0.686855</td>\n",
       "      <td>0.742945</td>\n",
       "      <td>0.172705</td>\n",
       "      <td>-2.712000</td>\n",
       "      <td>-4.0288</td>\n",
       "      <td>-0.7549</td>\n",
       "      <td>0.614379</td>\n",
       "      <td>0.714597</td>\n",
       "      <td>0.207032</td>\n",
       "      <td>1.685574</td>\n",
       "      <td>...</td>\n",
       "      <td>0.219996</td>\n",
       "      <td>-11.71750</td>\n",
       "      <td>-4.49580</td>\n",
       "      <td>-80.617500</td>\n",
       "      <td>0.701554</td>\n",
       "      <td>0.274174</td>\n",
       "      <td>0.335528</td>\n",
       "      <td>-25.8714</td>\n",
       "      <td>-74.6595</td>\n",
       "      <td>-49.19370</td>\n",
       "    </tr>\n",
       "    <tr>\n",
       "      <th>304</th>\n",
       "      <td>0.686855</td>\n",
       "      <td>0.742945</td>\n",
       "      <td>0.172705</td>\n",
       "      <td>-2.712000</td>\n",
       "      <td>-4.0288</td>\n",
       "      <td>-0.7549</td>\n",
       "      <td>0.614379</td>\n",
       "      <td>0.714597</td>\n",
       "      <td>0.207032</td>\n",
       "      <td>1.685574</td>\n",
       "      <td>...</td>\n",
       "      <td>0.228235</td>\n",
       "      <td>-13.02260</td>\n",
       "      <td>-5.50780</td>\n",
       "      <td>-81.535000</td>\n",
       "      <td>0.692031</td>\n",
       "      <td>0.275365</td>\n",
       "      <td>0.350130</td>\n",
       "      <td>-27.5247</td>\n",
       "      <td>-78.5070</td>\n",
       "      <td>-47.67650</td>\n",
       "    </tr>\n",
       "    <tr>\n",
       "      <th>...</th>\n",
       "      <td>...</td>\n",
       "      <td>...</td>\n",
       "      <td>...</td>\n",
       "      <td>...</td>\n",
       "      <td>...</td>\n",
       "      <td>...</td>\n",
       "      <td>...</td>\n",
       "      <td>...</td>\n",
       "      <td>...</td>\n",
       "      <td>...</td>\n",
       "      <td>...</td>\n",
       "      <td>...</td>\n",
       "      <td>...</td>\n",
       "      <td>...</td>\n",
       "      <td>...</td>\n",
       "      <td>...</td>\n",
       "      <td>...</td>\n",
       "      <td>...</td>\n",
       "      <td>...</td>\n",
       "      <td>...</td>\n",
       "      <td>...</td>\n",
       "    </tr>\n",
       "    <tr>\n",
       "      <th>4671</th>\n",
       "      <td>0.519385</td>\n",
       "      <td>0.139780</td>\n",
       "      <td>0.930466</td>\n",
       "      <td>0.638496</td>\n",
       "      <td>-4.9859</td>\n",
       "      <td>-3.3039</td>\n",
       "      <td>0.456880</td>\n",
       "      <td>0.152755</td>\n",
       "      <td>0.883171</td>\n",
       "      <td>-2.606400</td>\n",
       "      <td>...</td>\n",
       "      <td>0.635778</td>\n",
       "      <td>10.26911</td>\n",
       "      <td>27.53492</td>\n",
       "      <td>2.730536</td>\n",
       "      <td>0.998555</td>\n",
       "      <td>0.969386</td>\n",
       "      <td>0.495864</td>\n",
       "      <td>-4.3464</td>\n",
       "      <td>-4.9749</td>\n",
       "      <td>20.78619</td>\n",
       "    </tr>\n",
       "    <tr>\n",
       "      <th>4672</th>\n",
       "      <td>0.519385</td>\n",
       "      <td>0.139780</td>\n",
       "      <td>0.930466</td>\n",
       "      <td>0.638496</td>\n",
       "      <td>-4.9859</td>\n",
       "      <td>-3.3039</td>\n",
       "      <td>0.456880</td>\n",
       "      <td>0.152755</td>\n",
       "      <td>0.883171</td>\n",
       "      <td>-2.606400</td>\n",
       "      <td>...</td>\n",
       "      <td>0.636200</td>\n",
       "      <td>10.29771</td>\n",
       "      <td>27.43369</td>\n",
       "      <td>2.622310</td>\n",
       "      <td>0.998918</td>\n",
       "      <td>0.967903</td>\n",
       "      <td>0.496610</td>\n",
       "      <td>-4.3793</td>\n",
       "      <td>-5.1034</td>\n",
       "      <td>20.48832</td>\n",
       "    </tr>\n",
       "    <tr>\n",
       "      <th>4673</th>\n",
       "      <td>0.519385</td>\n",
       "      <td>0.139780</td>\n",
       "      <td>0.930466</td>\n",
       "      <td>0.638496</td>\n",
       "      <td>-4.9859</td>\n",
       "      <td>-3.3039</td>\n",
       "      <td>0.456880</td>\n",
       "      <td>0.152755</td>\n",
       "      <td>0.883171</td>\n",
       "      <td>-2.606400</td>\n",
       "      <td>...</td>\n",
       "      <td>0.636689</td>\n",
       "      <td>10.31019</td>\n",
       "      <td>27.33001</td>\n",
       "      <td>2.567600</td>\n",
       "      <td>0.999292</td>\n",
       "      <td>0.967154</td>\n",
       "      <td>0.497477</td>\n",
       "      <td>-4.3998</td>\n",
       "      <td>-5.2624</td>\n",
       "      <td>20.17733</td>\n",
       "    </tr>\n",
       "    <tr>\n",
       "      <th>4674</th>\n",
       "      <td>0.519574</td>\n",
       "      <td>0.141442</td>\n",
       "      <td>0.930329</td>\n",
       "      <td>0.646919</td>\n",
       "      <td>-4.9892</td>\n",
       "      <td>-3.2873</td>\n",
       "      <td>0.457131</td>\n",
       "      <td>0.154270</td>\n",
       "      <td>0.883028</td>\n",
       "      <td>-2.453800</td>\n",
       "      <td>...</td>\n",
       "      <td>0.637043</td>\n",
       "      <td>10.33570</td>\n",
       "      <td>27.22439</td>\n",
       "      <td>2.487622</td>\n",
       "      <td>0.999716</td>\n",
       "      <td>0.965997</td>\n",
       "      <td>0.498215</td>\n",
       "      <td>-4.3402</td>\n",
       "      <td>-5.4903</td>\n",
       "      <td>19.92392</td>\n",
       "    </tr>\n",
       "    <tr>\n",
       "      <th>4675</th>\n",
       "      <td>0.519574</td>\n",
       "      <td>0.141442</td>\n",
       "      <td>0.930329</td>\n",
       "      <td>0.646919</td>\n",
       "      <td>-4.9892</td>\n",
       "      <td>-3.2873</td>\n",
       "      <td>0.457131</td>\n",
       "      <td>0.154270</td>\n",
       "      <td>0.883028</td>\n",
       "      <td>-2.453800</td>\n",
       "      <td>...</td>\n",
       "      <td>0.637420</td>\n",
       "      <td>10.34555</td>\n",
       "      <td>27.14502</td>\n",
       "      <td>2.446991</td>\n",
       "      <td>1.000000</td>\n",
       "      <td>0.965440</td>\n",
       "      <td>0.498884</td>\n",
       "      <td>-4.2443</td>\n",
       "      <td>-5.6042</td>\n",
       "      <td>19.77342</td>\n",
       "    </tr>\n",
       "  </tbody>\n",
       "</table>\n",
       "<p>4376 rows × 126 columns</p>\n",
       "</div>"
      ],
      "text/plain": [
       "      m_avg_PelvisPosX  m_avg_PelvisPosY  m_avg_PelvisPosZ  m_avg_PelvisRotX  \\\n",
       "300           0.680884          0.700545          0.176077         -2.917000   \n",
       "301           0.680884          0.700545          0.176077         -2.917000   \n",
       "302           0.680884          0.700545          0.176077         -2.917000   \n",
       "303           0.686855          0.742945          0.172705         -2.712000   \n",
       "304           0.686855          0.742945          0.172705         -2.712000   \n",
       "...                ...               ...               ...               ...   \n",
       "4671          0.519385          0.139780          0.930466          0.638496   \n",
       "4672          0.519385          0.139780          0.930466          0.638496   \n",
       "4673          0.519385          0.139780          0.930466          0.638496   \n",
       "4674          0.519574          0.141442          0.930329          0.646919   \n",
       "4675          0.519574          0.141442          0.930329          0.646919   \n",
       "\n",
       "      m_avg_PelvisRotY  m_avg_PelvisRotZ  m_avg_L_HipPosX  m_avg_L_HipPosY  \\\n",
       "300            -3.4301           -0.8220         0.608099         0.673699   \n",
       "301            -3.4301           -0.8220         0.608099         0.673699   \n",
       "302            -3.4301           -0.8220         0.608099         0.673699   \n",
       "303            -4.0288           -0.7549         0.614379         0.714597   \n",
       "304            -4.0288           -0.7549         0.614379         0.714597   \n",
       "...                ...               ...              ...              ...   \n",
       "4671           -4.9859           -3.3039         0.456880         0.152755   \n",
       "4672           -4.9859           -3.3039         0.456880         0.152755   \n",
       "4673           -4.9859           -3.3039         0.456880         0.152755   \n",
       "4674           -4.9892           -3.2873         0.457131         0.154270   \n",
       "4675           -4.9892           -3.2873         0.457131         0.154270   \n",
       "\n",
       "      m_avg_L_HipPosZ  m_avg_L_HipRotX  ...  m_avg_R_ElbowPosZ  \\\n",
       "300          0.211484         3.120952  ...           0.197403   \n",
       "301          0.211484         3.120952  ...           0.205596   \n",
       "302          0.211484         3.120952  ...           0.213703   \n",
       "303          0.207032         1.685574  ...           0.219996   \n",
       "304          0.207032         1.685574  ...           0.228235   \n",
       "...               ...              ...  ...                ...   \n",
       "4671         0.883171        -2.606400  ...           0.635778   \n",
       "4672         0.883171        -2.606400  ...           0.636200   \n",
       "4673         0.883171        -2.606400  ...           0.636689   \n",
       "4674         0.883028        -2.453800  ...           0.637043   \n",
       "4675         0.883028        -2.453800  ...           0.637420   \n",
       "\n",
       "      m_avg_R_ElbowRotX  m_avg_R_ElbowRotY  m_avg_R_ElbowRotZ  \\\n",
       "300            -8.06880           -1.82740         -77.511500   \n",
       "301            -9.28220           -2.72420         -78.588800   \n",
       "302           -10.51220           -3.63170         -79.627400   \n",
       "303           -11.71750           -4.49580         -80.617500   \n",
       "304           -13.02260           -5.50780         -81.535000   \n",
       "...                 ...                ...                ...   \n",
       "4671           10.26911           27.53492           2.730536   \n",
       "4672           10.29771           27.43369           2.622310   \n",
       "4673           10.31019           27.33001           2.567600   \n",
       "4674           10.33570           27.22439           2.487622   \n",
       "4675           10.34555           27.14502           2.446991   \n",
       "\n",
       "      m_avg_R_WristPosX  m_avg_R_WristPosY  m_avg_R_WristPosZ  \\\n",
       "300            0.729534           0.267148           0.294202   \n",
       "301            0.720036           0.265812           0.308725   \n",
       "302            0.710469           0.265263           0.323094   \n",
       "303            0.701554           0.274174           0.335528   \n",
       "304            0.692031           0.275365           0.350130   \n",
       "...                 ...                ...                ...   \n",
       "4671           0.998555           0.969386           0.495864   \n",
       "4672           0.998918           0.967903           0.496610   \n",
       "4673           0.999292           0.967154           0.497477   \n",
       "4674           0.999716           0.965997           0.498215   \n",
       "4675           1.000000           0.965440           0.498884   \n",
       "\n",
       "      m_avg_R_WristRotX  m_avg_R_WristRotY  m_avg_R_WristRotZ  \n",
       "300            -20.5150           -63.1742          -54.58740  \n",
       "301            -22.1850           -67.0090          -52.79670  \n",
       "302            -23.9664           -70.7478          -51.09100  \n",
       "303            -25.8714           -74.6595          -49.19370  \n",
       "304            -27.5247           -78.5070          -47.67650  \n",
       "...                 ...                ...                ...  \n",
       "4671            -4.3464            -4.9749           20.78619  \n",
       "4672            -4.3793            -5.1034           20.48832  \n",
       "4673            -4.3998            -5.2624           20.17733  \n",
       "4674            -4.3402            -5.4903           19.92392  \n",
       "4675            -4.2443            -5.6042           19.77342  \n",
       "\n",
       "[4376 rows x 126 columns]"
      ]
     },
     "execution_count": 58,
     "metadata": {},
     "output_type": "execute_result"
    }
   ],
   "source": [
    "test_posrot_df"
   ]
  },
  {
   "cell_type": "code",
   "execution_count": 59,
   "metadata": {},
   "outputs": [],
   "source": [
    "# 결과를 새로운 CSV 파일로 저장합니다.\n",
    "test_posrot_df.to_csv('./test_posrot_df.csv', index=True)"
   ]
  },
  {
   "cell_type": "code",
   "execution_count": 60,
   "metadata": {},
   "outputs": [],
   "source": [
    "# 모델 불러오기\n",
    "model = TransformerModel(\n",
    "    n_features=n_features,\n",
    "    num_heads=num_heads,\n",
    "    ff_dim=ff_dim,\n",
    "    num_blocks=num_blocks,\n",
    "    mlp_units=mlp_units,\n",
    "    dropout=dropout_rate,\n",
    "    n_input=n_input\n",
    ")\n",
    "\n",
    "model.load_state_dict(torch.load('final_model_Transformer.pth'))\n",
    "\n",
    "# 모델을 평가 모드로 설정\n",
    "model.eval()\n",
    "\n",
    "# 예측 값을 넣을 빈 리스트\n",
    "test_predictions = []\n",
    "\n",
    "# 훈련 데이터셋에서 마지막 입력 개수의 값을 가져온 후\n",
    "current_batch = torch.from_numpy(test_posrot_df[-n_input:].values.astype(np.float32)).reshape((1, n_input, n_features))\n",
    "\n",
    "# 모델이 사용하는 디바이스를 확인하고 데이터를 해당 디바이스로 옮깁니다.\n",
    "current_device = 'cuda' if torch.cuda.is_available() else 'cpu'\n",
    "model.to(current_device)\n",
    "current_batch = current_batch.to(current_device)\n",
    "\n",
    "# 예측 과정 반복\n",
    "with torch.no_grad():  # 그래디언트 계산을 비활성화\n",
    "    for i in range(1):\n",
    "        # 현재 배치에서 다음 포인트를 예측\n",
    "        current_pred = model(current_batch).cpu().numpy()[0]  # 마지막 시퀀스 포인트 예측\n",
    "\n",
    "        # 예측된 마지막 프레임을 리스트에 추가\n",
    "        test_predictions.append(current_pred)\n",
    "\n",
    "        # 새로운 배치 생성: 마지막 시퀀스 제외하고 예측값 추가\n",
    "        current_batch = np.roll(current_batch.cpu().numpy(), -1, axis=1)\n",
    "        current_batch[:, -1, :] = current_pred\n",
    "        current_batch = torch.from_numpy(current_batch).to(current_device)"
   ]
  },
  {
   "cell_type": "code",
   "execution_count": 61,
   "metadata": {},
   "outputs": [],
   "source": [
    "test_predictions_array = np.array(test_predictions)"
   ]
  },
  {
   "cell_type": "code",
   "execution_count": 62,
   "metadata": {},
   "outputs": [],
   "source": [
    "# 변환된 배열을 데이터프레임으로 변환합니다. 이때 column_order 리스트를 열 이름으로 사용합니다.\n",
    "test_predictions = pd.DataFrame(test_predictions_array, columns=column_order)\n",
    "\n",
    "# test_predictions 데이터프레임을 CSV 파일로 저장합니다.\n",
    "test_predictions.to_csv('./test_predictions.csv', index=True)\n"
   ]
  },
  {
   "cell_type": "code",
   "execution_count": 63,
   "metadata": {},
   "outputs": [
    {
     "data": {
      "text/html": [
       "<div>\n",
       "<style scoped>\n",
       "    .dataframe tbody tr th:only-of-type {\n",
       "        vertical-align: middle;\n",
       "    }\n",
       "\n",
       "    .dataframe tbody tr th {\n",
       "        vertical-align: top;\n",
       "    }\n",
       "\n",
       "    .dataframe thead th {\n",
       "        text-align: right;\n",
       "    }\n",
       "</style>\n",
       "<table border=\"1\" class=\"dataframe\">\n",
       "  <thead>\n",
       "    <tr style=\"text-align: right;\">\n",
       "      <th></th>\n",
       "      <th>m_avg_PelvisPosX</th>\n",
       "      <th>m_avg_PelvisPosY</th>\n",
       "      <th>m_avg_PelvisPosZ</th>\n",
       "      <th>m_avg_PelvisRotX</th>\n",
       "      <th>m_avg_PelvisRotY</th>\n",
       "      <th>m_avg_PelvisRotZ</th>\n",
       "      <th>m_avg_L_HipPosX</th>\n",
       "      <th>m_avg_L_HipPosY</th>\n",
       "      <th>m_avg_L_HipPosZ</th>\n",
       "      <th>m_avg_L_HipRotX</th>\n",
       "      <th>...</th>\n",
       "      <th>m_avg_R_ElbowPosZ</th>\n",
       "      <th>m_avg_R_ElbowRotX</th>\n",
       "      <th>m_avg_R_ElbowRotY</th>\n",
       "      <th>m_avg_R_ElbowRotZ</th>\n",
       "      <th>m_avg_R_WristPosX</th>\n",
       "      <th>m_avg_R_WristPosY</th>\n",
       "      <th>m_avg_R_WristPosZ</th>\n",
       "      <th>m_avg_R_WristRotX</th>\n",
       "      <th>m_avg_R_WristRotY</th>\n",
       "      <th>m_avg_R_WristRotZ</th>\n",
       "    </tr>\n",
       "  </thead>\n",
       "  <tbody>\n",
       "    <tr>\n",
       "      <th>0</th>\n",
       "      <td>0.353571</td>\n",
       "      <td>0.726626</td>\n",
       "      <td>0.523846</td>\n",
       "      <td>0.495838</td>\n",
       "      <td>-7.051992</td>\n",
       "      <td>-2.221874</td>\n",
       "      <td>0.425822</td>\n",
       "      <td>0.243101</td>\n",
       "      <td>0.333216</td>\n",
       "      <td>-15.737029</td>\n",
       "      <td>...</td>\n",
       "      <td>0.554312</td>\n",
       "      <td>-7.431786</td>\n",
       "      <td>-22.776726</td>\n",
       "      <td>-80.574921</td>\n",
       "      <td>0.726891</td>\n",
       "      <td>0.26719</td>\n",
       "      <td>0.081624</td>\n",
       "      <td>-25.383179</td>\n",
       "      <td>-36.594196</td>\n",
       "      <td>-60.065903</td>\n",
       "    </tr>\n",
       "  </tbody>\n",
       "</table>\n",
       "<p>1 rows × 126 columns</p>\n",
       "</div>"
      ],
      "text/plain": [
       "   m_avg_PelvisPosX  m_avg_PelvisPosY  m_avg_PelvisPosZ  m_avg_PelvisRotX  \\\n",
       "0          0.353571          0.726626          0.523846          0.495838   \n",
       "\n",
       "   m_avg_PelvisRotY  m_avg_PelvisRotZ  m_avg_L_HipPosX  m_avg_L_HipPosY  \\\n",
       "0         -7.051992         -2.221874         0.425822         0.243101   \n",
       "\n",
       "   m_avg_L_HipPosZ  m_avg_L_HipRotX  ...  m_avg_R_ElbowPosZ  \\\n",
       "0         0.333216       -15.737029  ...           0.554312   \n",
       "\n",
       "   m_avg_R_ElbowRotX  m_avg_R_ElbowRotY  m_avg_R_ElbowRotZ  m_avg_R_WristPosX  \\\n",
       "0          -7.431786         -22.776726         -80.574921           0.726891   \n",
       "\n",
       "   m_avg_R_WristPosY  m_avg_R_WristPosZ  m_avg_R_WristRotX  m_avg_R_WristRotY  \\\n",
       "0            0.26719           0.081624         -25.383179         -36.594196   \n",
       "\n",
       "   m_avg_R_WristRotZ  \n",
       "0         -60.065903  \n",
       "\n",
       "[1 rows x 126 columns]"
      ]
     },
     "execution_count": 63,
     "metadata": {},
     "output_type": "execute_result"
    }
   ],
   "source": [
    "test_predictions"
   ]
  },
  {
   "cell_type": "code",
   "execution_count": 64,
   "metadata": {},
   "outputs": [],
   "source": [
    "# input 데이터(test_df)의 마지막 30 프레임과 \n",
    "last_inputs_df = test_posrot_df.iloc[-30:][column_order].reset_index(drop=True)\n",
    "test_predictions_df = pd.DataFrame(test_predictions_array, columns=column_order)\n",
    "\n",
    "test_combined_df = pd.concat([last_inputs_df, test_predictions_df], ignore_index=True)"
   ]
  },
  {
   "cell_type": "code",
   "execution_count": 65,
   "metadata": {},
   "outputs": [
    {
     "data": {
      "text/html": [
       "<div>\n",
       "<style scoped>\n",
       "    .dataframe tbody tr th:only-of-type {\n",
       "        vertical-align: middle;\n",
       "    }\n",
       "\n",
       "    .dataframe tbody tr th {\n",
       "        vertical-align: top;\n",
       "    }\n",
       "\n",
       "    .dataframe thead th {\n",
       "        text-align: right;\n",
       "    }\n",
       "</style>\n",
       "<table border=\"1\" class=\"dataframe\">\n",
       "  <thead>\n",
       "    <tr style=\"text-align: right;\">\n",
       "      <th></th>\n",
       "      <th>m_avg_PelvisPosX</th>\n",
       "      <th>m_avg_PelvisPosY</th>\n",
       "      <th>m_avg_PelvisPosZ</th>\n",
       "      <th>m_avg_PelvisRotX</th>\n",
       "      <th>m_avg_PelvisRotY</th>\n",
       "      <th>m_avg_PelvisRotZ</th>\n",
       "      <th>m_avg_L_HipPosX</th>\n",
       "      <th>m_avg_L_HipPosY</th>\n",
       "      <th>m_avg_L_HipPosZ</th>\n",
       "      <th>m_avg_L_HipRotX</th>\n",
       "      <th>...</th>\n",
       "      <th>m_avg_R_ElbowPosZ</th>\n",
       "      <th>m_avg_R_ElbowRotX</th>\n",
       "      <th>m_avg_R_ElbowRotY</th>\n",
       "      <th>m_avg_R_ElbowRotZ</th>\n",
       "      <th>m_avg_R_WristPosX</th>\n",
       "      <th>m_avg_R_WristPosY</th>\n",
       "      <th>m_avg_R_WristPosZ</th>\n",
       "      <th>m_avg_R_WristRotX</th>\n",
       "      <th>m_avg_R_WristRotY</th>\n",
       "      <th>m_avg_R_WristRotZ</th>\n",
       "    </tr>\n",
       "  </thead>\n",
       "  <tbody>\n",
       "    <tr>\n",
       "      <th>0</th>\n",
       "      <td>0.566909</td>\n",
       "      <td>0.268679</td>\n",
       "      <td>0.931187</td>\n",
       "      <td>1.290940</td>\n",
       "      <td>-2.860700</td>\n",
       "      <td>-1.524100</td>\n",
       "      <td>0.504530</td>\n",
       "      <td>0.267379</td>\n",
       "      <td>0.886133</td>\n",
       "      <td>-2.877000</td>\n",
       "      <td>...</td>\n",
       "      <td>0.603748</td>\n",
       "      <td>9.235965</td>\n",
       "      <td>30.738180</td>\n",
       "      <td>5.799457</td>\n",
       "      <td>0.987371</td>\n",
       "      <td>0.996524</td>\n",
       "      <td>0.455671</td>\n",
       "      <td>-1.586300</td>\n",
       "      <td>-1.084400</td>\n",
       "      <td>28.349760</td>\n",
       "    </tr>\n",
       "    <tr>\n",
       "      <th>1</th>\n",
       "      <td>0.401178</td>\n",
       "      <td>0.032587</td>\n",
       "      <td>0.952377</td>\n",
       "      <td>-10.836900</td>\n",
       "      <td>-133.453700</td>\n",
       "      <td>-3.480000</td>\n",
       "      <td>0.715442</td>\n",
       "      <td>0.037674</td>\n",
       "      <td>0.871273</td>\n",
       "      <td>-10.585300</td>\n",
       "      <td>...</td>\n",
       "      <td>0.831523</td>\n",
       "      <td>9.192002</td>\n",
       "      <td>30.799440</td>\n",
       "      <td>5.990096</td>\n",
       "      <td>0.670248</td>\n",
       "      <td>0.966425</td>\n",
       "      <td>0.654835</td>\n",
       "      <td>-1.953900</td>\n",
       "      <td>-1.223200</td>\n",
       "      <td>28.449170</td>\n",
       "    </tr>\n",
       "    <tr>\n",
       "      <th>2</th>\n",
       "      <td>0.401178</td>\n",
       "      <td>0.032587</td>\n",
       "      <td>0.952377</td>\n",
       "      <td>-10.836900</td>\n",
       "      <td>-133.453700</td>\n",
       "      <td>-3.480000</td>\n",
       "      <td>0.715442</td>\n",
       "      <td>0.037674</td>\n",
       "      <td>0.871273</td>\n",
       "      <td>-10.585300</td>\n",
       "      <td>...</td>\n",
       "      <td>0.831675</td>\n",
       "      <td>9.201011</td>\n",
       "      <td>30.785390</td>\n",
       "      <td>6.051675</td>\n",
       "      <td>0.670294</td>\n",
       "      <td>0.967268</td>\n",
       "      <td>0.655105</td>\n",
       "      <td>-2.252600</td>\n",
       "      <td>-1.385800</td>\n",
       "      <td>28.470040</td>\n",
       "    </tr>\n",
       "    <tr>\n",
       "      <th>3</th>\n",
       "      <td>0.401178</td>\n",
       "      <td>0.032587</td>\n",
       "      <td>0.952377</td>\n",
       "      <td>-10.836900</td>\n",
       "      <td>-133.453700</td>\n",
       "      <td>-3.480000</td>\n",
       "      <td>0.715442</td>\n",
       "      <td>0.037674</td>\n",
       "      <td>0.871273</td>\n",
       "      <td>-10.585300</td>\n",
       "      <td>...</td>\n",
       "      <td>0.831901</td>\n",
       "      <td>9.214252</td>\n",
       "      <td>30.751980</td>\n",
       "      <td>6.089844</td>\n",
       "      <td>0.670425</td>\n",
       "      <td>0.967791</td>\n",
       "      <td>0.655506</td>\n",
       "      <td>-2.550600</td>\n",
       "      <td>-1.553600</td>\n",
       "      <td>28.441560</td>\n",
       "    </tr>\n",
       "    <tr>\n",
       "      <th>4</th>\n",
       "      <td>0.520824</td>\n",
       "      <td>0.085088</td>\n",
       "      <td>0.924211</td>\n",
       "      <td>1.067918</td>\n",
       "      <td>-4.725700</td>\n",
       "      <td>-2.912200</td>\n",
       "      <td>0.459777</td>\n",
       "      <td>0.098134</td>\n",
       "      <td>0.877089</td>\n",
       "      <td>-1.369600</td>\n",
       "      <td>...</td>\n",
       "      <td>0.608386</td>\n",
       "      <td>9.240885</td>\n",
       "      <td>30.682460</td>\n",
       "      <td>6.062983</td>\n",
       "      <td>0.990379</td>\n",
       "      <td>0.966242</td>\n",
       "      <td>0.460271</td>\n",
       "      <td>-2.898700</td>\n",
       "      <td>-1.712400</td>\n",
       "      <td>28.449090</td>\n",
       "    </tr>\n",
       "    <tr>\n",
       "      <th>5</th>\n",
       "      <td>0.520824</td>\n",
       "      <td>0.085088</td>\n",
       "      <td>0.924211</td>\n",
       "      <td>1.067918</td>\n",
       "      <td>-4.725700</td>\n",
       "      <td>-2.912200</td>\n",
       "      <td>0.459777</td>\n",
       "      <td>0.098134</td>\n",
       "      <td>0.877089</td>\n",
       "      <td>-1.369600</td>\n",
       "      <td>...</td>\n",
       "      <td>0.608752</td>\n",
       "      <td>9.271243</td>\n",
       "      <td>30.603280</td>\n",
       "      <td>6.015287</td>\n",
       "      <td>0.990720</td>\n",
       "      <td>0.965589</td>\n",
       "      <td>0.460921</td>\n",
       "      <td>-3.255800</td>\n",
       "      <td>-1.870500</td>\n",
       "      <td>28.500560</td>\n",
       "    </tr>\n",
       "    <tr>\n",
       "      <th>6</th>\n",
       "      <td>0.520824</td>\n",
       "      <td>0.085088</td>\n",
       "      <td>0.924211</td>\n",
       "      <td>1.067918</td>\n",
       "      <td>-4.725700</td>\n",
       "      <td>-2.912200</td>\n",
       "      <td>0.459777</td>\n",
       "      <td>0.098134</td>\n",
       "      <td>0.877089</td>\n",
       "      <td>-1.369600</td>\n",
       "      <td>...</td>\n",
       "      <td>0.609138</td>\n",
       "      <td>9.311271</td>\n",
       "      <td>30.514670</td>\n",
       "      <td>5.937718</td>\n",
       "      <td>0.991109</td>\n",
       "      <td>0.964528</td>\n",
       "      <td>0.461604</td>\n",
       "      <td>-3.594500</td>\n",
       "      <td>-2.076100</td>\n",
       "      <td>28.504830</td>\n",
       "    </tr>\n",
       "    <tr>\n",
       "      <th>7</th>\n",
       "      <td>0.519916</td>\n",
       "      <td>0.132342</td>\n",
       "      <td>0.926505</td>\n",
       "      <td>0.828887</td>\n",
       "      <td>-4.648300</td>\n",
       "      <td>-3.010500</td>\n",
       "      <td>0.458313</td>\n",
       "      <td>0.144020</td>\n",
       "      <td>0.879789</td>\n",
       "      <td>-1.515400</td>\n",
       "      <td>...</td>\n",
       "      <td>0.624965</td>\n",
       "      <td>9.369996</td>\n",
       "      <td>30.333440</td>\n",
       "      <td>5.770970</td>\n",
       "      <td>0.991610</td>\n",
       "      <td>0.988035</td>\n",
       "      <td>0.476136</td>\n",
       "      <td>-3.908900</td>\n",
       "      <td>-2.329500</td>\n",
       "      <td>28.320140</td>\n",
       "    </tr>\n",
       "    <tr>\n",
       "      <th>8</th>\n",
       "      <td>0.519916</td>\n",
       "      <td>0.132342</td>\n",
       "      <td>0.926505</td>\n",
       "      <td>0.828887</td>\n",
       "      <td>-4.648300</td>\n",
       "      <td>-3.010500</td>\n",
       "      <td>0.458313</td>\n",
       "      <td>0.144020</td>\n",
       "      <td>0.879789</td>\n",
       "      <td>-1.515400</td>\n",
       "      <td>...</td>\n",
       "      <td>0.625572</td>\n",
       "      <td>9.437414</td>\n",
       "      <td>30.184760</td>\n",
       "      <td>5.606863</td>\n",
       "      <td>0.992260</td>\n",
       "      <td>0.985791</td>\n",
       "      <td>0.477211</td>\n",
       "      <td>-4.215200</td>\n",
       "      <td>-2.598400</td>\n",
       "      <td>27.988130</td>\n",
       "    </tr>\n",
       "    <tr>\n",
       "      <th>9</th>\n",
       "      <td>0.519916</td>\n",
       "      <td>0.132342</td>\n",
       "      <td>0.926505</td>\n",
       "      <td>0.828887</td>\n",
       "      <td>-4.648300</td>\n",
       "      <td>-3.010500</td>\n",
       "      <td>0.458313</td>\n",
       "      <td>0.144020</td>\n",
       "      <td>0.879789</td>\n",
       "      <td>-1.515400</td>\n",
       "      <td>...</td>\n",
       "      <td>0.626173</td>\n",
       "      <td>9.501136</td>\n",
       "      <td>30.033310</td>\n",
       "      <td>5.427882</td>\n",
       "      <td>0.992914</td>\n",
       "      <td>0.983341</td>\n",
       "      <td>0.478278</td>\n",
       "      <td>-4.474700</td>\n",
       "      <td>-2.938700</td>\n",
       "      <td>27.069070</td>\n",
       "    </tr>\n",
       "    <tr>\n",
       "      <th>10</th>\n",
       "      <td>0.516439</td>\n",
       "      <td>0.146434</td>\n",
       "      <td>0.926243</td>\n",
       "      <td>0.773253</td>\n",
       "      <td>-4.596000</td>\n",
       "      <td>-2.785700</td>\n",
       "      <td>0.456201</td>\n",
       "      <td>0.156096</td>\n",
       "      <td>0.879794</td>\n",
       "      <td>-1.871900</td>\n",
       "      <td>...</td>\n",
       "      <td>0.626772</td>\n",
       "      <td>9.587336</td>\n",
       "      <td>29.837190</td>\n",
       "      <td>5.196345</td>\n",
       "      <td>0.991054</td>\n",
       "      <td>0.986117</td>\n",
       "      <td>0.479505</td>\n",
       "      <td>-4.775300</td>\n",
       "      <td>-3.223400</td>\n",
       "      <td>26.339420</td>\n",
       "    </tr>\n",
       "    <tr>\n",
       "      <th>11</th>\n",
       "      <td>0.516439</td>\n",
       "      <td>0.146434</td>\n",
       "      <td>0.926243</td>\n",
       "      <td>0.773253</td>\n",
       "      <td>-4.596000</td>\n",
       "      <td>-2.785700</td>\n",
       "      <td>0.456201</td>\n",
       "      <td>0.156096</td>\n",
       "      <td>0.879794</td>\n",
       "      <td>-1.871900</td>\n",
       "      <td>...</td>\n",
       "      <td>0.627478</td>\n",
       "      <td>9.652200</td>\n",
       "      <td>29.667190</td>\n",
       "      <td>5.021380</td>\n",
       "      <td>0.991764</td>\n",
       "      <td>0.983722</td>\n",
       "      <td>0.480754</td>\n",
       "      <td>-5.040700</td>\n",
       "      <td>-3.481300</td>\n",
       "      <td>25.635550</td>\n",
       "    </tr>\n",
       "    <tr>\n",
       "      <th>12</th>\n",
       "      <td>0.516439</td>\n",
       "      <td>0.146434</td>\n",
       "      <td>0.926243</td>\n",
       "      <td>0.773253</td>\n",
       "      <td>-4.596000</td>\n",
       "      <td>-2.785700</td>\n",
       "      <td>0.456201</td>\n",
       "      <td>0.156096</td>\n",
       "      <td>0.879794</td>\n",
       "      <td>-1.871900</td>\n",
       "      <td>...</td>\n",
       "      <td>0.628218</td>\n",
       "      <td>9.727895</td>\n",
       "      <td>29.477720</td>\n",
       "      <td>4.786605</td>\n",
       "      <td>0.992553</td>\n",
       "      <td>0.980508</td>\n",
       "      <td>0.482069</td>\n",
       "      <td>-5.258000</td>\n",
       "      <td>-3.675400</td>\n",
       "      <td>25.046420</td>\n",
       "    </tr>\n",
       "    <tr>\n",
       "      <th>13</th>\n",
       "      <td>0.513099</td>\n",
       "      <td>0.148599</td>\n",
       "      <td>0.926235</td>\n",
       "      <td>0.715853</td>\n",
       "      <td>-4.594700</td>\n",
       "      <td>-2.693500</td>\n",
       "      <td>0.453661</td>\n",
       "      <td>0.157487</td>\n",
       "      <td>0.879924</td>\n",
       "      <td>-2.263300</td>\n",
       "      <td>...</td>\n",
       "      <td>0.628823</td>\n",
       "      <td>9.795863</td>\n",
       "      <td>29.296080</td>\n",
       "      <td>4.572053</td>\n",
       "      <td>0.991741</td>\n",
       "      <td>0.980088</td>\n",
       "      <td>0.483244</td>\n",
       "      <td>-5.222000</td>\n",
       "      <td>-3.752200</td>\n",
       "      <td>24.578280</td>\n",
       "    </tr>\n",
       "    <tr>\n",
       "      <th>14</th>\n",
       "      <td>0.513099</td>\n",
       "      <td>0.148599</td>\n",
       "      <td>0.926235</td>\n",
       "      <td>0.715853</td>\n",
       "      <td>-4.594700</td>\n",
       "      <td>-2.693500</td>\n",
       "      <td>0.453661</td>\n",
       "      <td>0.157487</td>\n",
       "      <td>0.879924</td>\n",
       "      <td>-2.263300</td>\n",
       "      <td>...</td>\n",
       "      <td>0.629539</td>\n",
       "      <td>9.862004</td>\n",
       "      <td>29.113910</td>\n",
       "      <td>4.349701</td>\n",
       "      <td>0.992477</td>\n",
       "      <td>0.977044</td>\n",
       "      <td>0.484514</td>\n",
       "      <td>-5.231200</td>\n",
       "      <td>-3.906600</td>\n",
       "      <td>24.102050</td>\n",
       "    </tr>\n",
       "    <tr>\n",
       "      <th>15</th>\n",
       "      <td>0.513099</td>\n",
       "      <td>0.148599</td>\n",
       "      <td>0.926235</td>\n",
       "      <td>0.715853</td>\n",
       "      <td>-4.594700</td>\n",
       "      <td>-2.693500</td>\n",
       "      <td>0.453661</td>\n",
       "      <td>0.157487</td>\n",
       "      <td>0.879924</td>\n",
       "      <td>-2.263300</td>\n",
       "      <td>...</td>\n",
       "      <td>0.630271</td>\n",
       "      <td>9.920325</td>\n",
       "      <td>28.931640</td>\n",
       "      <td>4.141822</td>\n",
       "      <td>0.993199</td>\n",
       "      <td>0.974198</td>\n",
       "      <td>0.485811</td>\n",
       "      <td>-5.034100</td>\n",
       "      <td>-4.057700</td>\n",
       "      <td>23.687760</td>\n",
       "    </tr>\n",
       "    <tr>\n",
       "      <th>16</th>\n",
       "      <td>0.513029</td>\n",
       "      <td>0.148877</td>\n",
       "      <td>0.926329</td>\n",
       "      <td>0.717762</td>\n",
       "      <td>-4.601800</td>\n",
       "      <td>-2.693600</td>\n",
       "      <td>0.453609</td>\n",
       "      <td>0.157760</td>\n",
       "      <td>0.879993</td>\n",
       "      <td>-2.277300</td>\n",
       "      <td>...</td>\n",
       "      <td>0.631387</td>\n",
       "      <td>9.973943</td>\n",
       "      <td>28.743240</td>\n",
       "      <td>3.943647</td>\n",
       "      <td>0.993900</td>\n",
       "      <td>0.971596</td>\n",
       "      <td>0.487483</td>\n",
       "      <td>-4.807000</td>\n",
       "      <td>-4.182100</td>\n",
       "      <td>23.170160</td>\n",
       "    </tr>\n",
       "    <tr>\n",
       "      <th>17</th>\n",
       "      <td>0.513029</td>\n",
       "      <td>0.148877</td>\n",
       "      <td>0.926329</td>\n",
       "      <td>0.717762</td>\n",
       "      <td>-4.601800</td>\n",
       "      <td>-2.693600</td>\n",
       "      <td>0.453609</td>\n",
       "      <td>0.157760</td>\n",
       "      <td>0.879993</td>\n",
       "      <td>-2.277300</td>\n",
       "      <td>...</td>\n",
       "      <td>0.632082</td>\n",
       "      <td>10.023220</td>\n",
       "      <td>28.572960</td>\n",
       "      <td>3.759106</td>\n",
       "      <td>0.994557</td>\n",
       "      <td>0.969069</td>\n",
       "      <td>0.488716</td>\n",
       "      <td>-4.666000</td>\n",
       "      <td>-4.339800</td>\n",
       "      <td>22.575210</td>\n",
       "    </tr>\n",
       "    <tr>\n",
       "      <th>18</th>\n",
       "      <td>0.513029</td>\n",
       "      <td>0.148877</td>\n",
       "      <td>0.926329</td>\n",
       "      <td>0.717762</td>\n",
       "      <td>-4.601800</td>\n",
       "      <td>-2.693600</td>\n",
       "      <td>0.453609</td>\n",
       "      <td>0.157760</td>\n",
       "      <td>0.879993</td>\n",
       "      <td>-2.277300</td>\n",
       "      <td>...</td>\n",
       "      <td>0.632837</td>\n",
       "      <td>10.068070</td>\n",
       "      <td>28.393650</td>\n",
       "      <td>3.586089</td>\n",
       "      <td>0.995240</td>\n",
       "      <td>0.966700</td>\n",
       "      <td>0.490055</td>\n",
       "      <td>-4.517700</td>\n",
       "      <td>-4.502800</td>\n",
       "      <td>22.036460</td>\n",
       "    </tr>\n",
       "    <tr>\n",
       "      <th>19</th>\n",
       "      <td>0.513014</td>\n",
       "      <td>0.148951</td>\n",
       "      <td>0.926265</td>\n",
       "      <td>0.710584</td>\n",
       "      <td>-4.606200</td>\n",
       "      <td>-2.694100</td>\n",
       "      <td>0.453597</td>\n",
       "      <td>0.157821</td>\n",
       "      <td>0.879945</td>\n",
       "      <td>-2.288700</td>\n",
       "      <td>...</td>\n",
       "      <td>0.633350</td>\n",
       "      <td>10.108450</td>\n",
       "      <td>28.232010</td>\n",
       "      <td>3.430336</td>\n",
       "      <td>0.995860</td>\n",
       "      <td>0.964577</td>\n",
       "      <td>0.491117</td>\n",
       "      <td>-4.452600</td>\n",
       "      <td>-4.621000</td>\n",
       "      <td>21.659610</td>\n",
       "    </tr>\n",
       "    <tr>\n",
       "      <th>20</th>\n",
       "      <td>0.513014</td>\n",
       "      <td>0.148951</td>\n",
       "      <td>0.926265</td>\n",
       "      <td>0.710584</td>\n",
       "      <td>-4.606200</td>\n",
       "      <td>-2.694100</td>\n",
       "      <td>0.453597</td>\n",
       "      <td>0.157821</td>\n",
       "      <td>0.879945</td>\n",
       "      <td>-2.288700</td>\n",
       "      <td>...</td>\n",
       "      <td>0.633991</td>\n",
       "      <td>10.147290</td>\n",
       "      <td>28.080420</td>\n",
       "      <td>3.284094</td>\n",
       "      <td>0.996427</td>\n",
       "      <td>0.962574</td>\n",
       "      <td>0.492255</td>\n",
       "      <td>-4.396500</td>\n",
       "      <td>-4.693700</td>\n",
       "      <td>21.353010</td>\n",
       "    </tr>\n",
       "    <tr>\n",
       "      <th>21</th>\n",
       "      <td>0.513014</td>\n",
       "      <td>0.148951</td>\n",
       "      <td>0.926265</td>\n",
       "      <td>0.710584</td>\n",
       "      <td>-4.606200</td>\n",
       "      <td>-2.694100</td>\n",
       "      <td>0.453597</td>\n",
       "      <td>0.157821</td>\n",
       "      <td>0.879945</td>\n",
       "      <td>-2.288700</td>\n",
       "      <td>...</td>\n",
       "      <td>0.634565</td>\n",
       "      <td>10.180890</td>\n",
       "      <td>27.944240</td>\n",
       "      <td>3.150007</td>\n",
       "      <td>0.996932</td>\n",
       "      <td>0.960738</td>\n",
       "      <td>0.493271</td>\n",
       "      <td>-4.326600</td>\n",
       "      <td>-4.751300</td>\n",
       "      <td>21.045610</td>\n",
       "    </tr>\n",
       "    <tr>\n",
       "      <th>22</th>\n",
       "      <td>0.514323</td>\n",
       "      <td>0.141641</td>\n",
       "      <td>0.929391</td>\n",
       "      <td>0.666327</td>\n",
       "      <td>-5.080900</td>\n",
       "      <td>-3.154700</td>\n",
       "      <td>0.453250</td>\n",
       "      <td>0.153638</td>\n",
       "      <td>0.882007</td>\n",
       "      <td>-2.550500</td>\n",
       "      <td>...</td>\n",
       "      <td>0.638531</td>\n",
       "      <td>10.201720</td>\n",
       "      <td>27.822390</td>\n",
       "      <td>3.030129</td>\n",
       "      <td>0.997078</td>\n",
       "      <td>0.969107</td>\n",
       "      <td>0.497198</td>\n",
       "      <td>-4.286800</td>\n",
       "      <td>-4.812800</td>\n",
       "      <td>20.755990</td>\n",
       "    </tr>\n",
       "    <tr>\n",
       "      <th>23</th>\n",
       "      <td>0.514323</td>\n",
       "      <td>0.141641</td>\n",
       "      <td>0.929391</td>\n",
       "      <td>0.666327</td>\n",
       "      <td>-5.080900</td>\n",
       "      <td>-3.154700</td>\n",
       "      <td>0.453250</td>\n",
       "      <td>0.153638</td>\n",
       "      <td>0.882007</td>\n",
       "      <td>-2.550500</td>\n",
       "      <td>...</td>\n",
       "      <td>0.638915</td>\n",
       "      <td>10.227420</td>\n",
       "      <td>27.725690</td>\n",
       "      <td>2.913013</td>\n",
       "      <td>0.997429</td>\n",
       "      <td>0.967503</td>\n",
       "      <td>0.497879</td>\n",
       "      <td>-4.295600</td>\n",
       "      <td>-4.869100</td>\n",
       "      <td>20.833580</td>\n",
       "    </tr>\n",
       "    <tr>\n",
       "      <th>24</th>\n",
       "      <td>0.514323</td>\n",
       "      <td>0.141641</td>\n",
       "      <td>0.929391</td>\n",
       "      <td>0.666327</td>\n",
       "      <td>-5.080900</td>\n",
       "      <td>-3.154700</td>\n",
       "      <td>0.453250</td>\n",
       "      <td>0.153638</td>\n",
       "      <td>0.882007</td>\n",
       "      <td>-2.550500</td>\n",
       "      <td>...</td>\n",
       "      <td>0.639243</td>\n",
       "      <td>10.247080</td>\n",
       "      <td>27.643470</td>\n",
       "      <td>2.814488</td>\n",
       "      <td>0.997725</td>\n",
       "      <td>0.966153</td>\n",
       "      <td>0.498460</td>\n",
       "      <td>-4.318400</td>\n",
       "      <td>-4.907800</td>\n",
       "      <td>20.900720</td>\n",
       "    </tr>\n",
       "    <tr>\n",
       "      <th>25</th>\n",
       "      <td>0.519385</td>\n",
       "      <td>0.139780</td>\n",
       "      <td>0.930466</td>\n",
       "      <td>0.638496</td>\n",
       "      <td>-4.985900</td>\n",
       "      <td>-3.303900</td>\n",
       "      <td>0.456880</td>\n",
       "      <td>0.152755</td>\n",
       "      <td>0.883171</td>\n",
       "      <td>-2.606400</td>\n",
       "      <td>...</td>\n",
       "      <td>0.635778</td>\n",
       "      <td>10.269110</td>\n",
       "      <td>27.534920</td>\n",
       "      <td>2.730536</td>\n",
       "      <td>0.998555</td>\n",
       "      <td>0.969386</td>\n",
       "      <td>0.495864</td>\n",
       "      <td>-4.346400</td>\n",
       "      <td>-4.974900</td>\n",
       "      <td>20.786190</td>\n",
       "    </tr>\n",
       "    <tr>\n",
       "      <th>26</th>\n",
       "      <td>0.519385</td>\n",
       "      <td>0.139780</td>\n",
       "      <td>0.930466</td>\n",
       "      <td>0.638496</td>\n",
       "      <td>-4.985900</td>\n",
       "      <td>-3.303900</td>\n",
       "      <td>0.456880</td>\n",
       "      <td>0.152755</td>\n",
       "      <td>0.883171</td>\n",
       "      <td>-2.606400</td>\n",
       "      <td>...</td>\n",
       "      <td>0.636200</td>\n",
       "      <td>10.297710</td>\n",
       "      <td>27.433690</td>\n",
       "      <td>2.622310</td>\n",
       "      <td>0.998918</td>\n",
       "      <td>0.967903</td>\n",
       "      <td>0.496610</td>\n",
       "      <td>-4.379300</td>\n",
       "      <td>-5.103400</td>\n",
       "      <td>20.488320</td>\n",
       "    </tr>\n",
       "    <tr>\n",
       "      <th>27</th>\n",
       "      <td>0.519385</td>\n",
       "      <td>0.139780</td>\n",
       "      <td>0.930466</td>\n",
       "      <td>0.638496</td>\n",
       "      <td>-4.985900</td>\n",
       "      <td>-3.303900</td>\n",
       "      <td>0.456880</td>\n",
       "      <td>0.152755</td>\n",
       "      <td>0.883171</td>\n",
       "      <td>-2.606400</td>\n",
       "      <td>...</td>\n",
       "      <td>0.636689</td>\n",
       "      <td>10.310190</td>\n",
       "      <td>27.330010</td>\n",
       "      <td>2.567600</td>\n",
       "      <td>0.999292</td>\n",
       "      <td>0.967154</td>\n",
       "      <td>0.497477</td>\n",
       "      <td>-4.399800</td>\n",
       "      <td>-5.262400</td>\n",
       "      <td>20.177330</td>\n",
       "    </tr>\n",
       "    <tr>\n",
       "      <th>28</th>\n",
       "      <td>0.519574</td>\n",
       "      <td>0.141442</td>\n",
       "      <td>0.930329</td>\n",
       "      <td>0.646919</td>\n",
       "      <td>-4.989200</td>\n",
       "      <td>-3.287300</td>\n",
       "      <td>0.457131</td>\n",
       "      <td>0.154270</td>\n",
       "      <td>0.883028</td>\n",
       "      <td>-2.453800</td>\n",
       "      <td>...</td>\n",
       "      <td>0.637043</td>\n",
       "      <td>10.335700</td>\n",
       "      <td>27.224390</td>\n",
       "      <td>2.487622</td>\n",
       "      <td>0.999716</td>\n",
       "      <td>0.965997</td>\n",
       "      <td>0.498215</td>\n",
       "      <td>-4.340200</td>\n",
       "      <td>-5.490300</td>\n",
       "      <td>19.923920</td>\n",
       "    </tr>\n",
       "    <tr>\n",
       "      <th>29</th>\n",
       "      <td>0.519574</td>\n",
       "      <td>0.141442</td>\n",
       "      <td>0.930329</td>\n",
       "      <td>0.646919</td>\n",
       "      <td>-4.989200</td>\n",
       "      <td>-3.287300</td>\n",
       "      <td>0.457131</td>\n",
       "      <td>0.154270</td>\n",
       "      <td>0.883028</td>\n",
       "      <td>-2.453800</td>\n",
       "      <td>...</td>\n",
       "      <td>0.637420</td>\n",
       "      <td>10.345550</td>\n",
       "      <td>27.145020</td>\n",
       "      <td>2.446991</td>\n",
       "      <td>1.000000</td>\n",
       "      <td>0.965440</td>\n",
       "      <td>0.498884</td>\n",
       "      <td>-4.244300</td>\n",
       "      <td>-5.604200</td>\n",
       "      <td>19.773420</td>\n",
       "    </tr>\n",
       "    <tr>\n",
       "      <th>30</th>\n",
       "      <td>0.353571</td>\n",
       "      <td>0.726626</td>\n",
       "      <td>0.523846</td>\n",
       "      <td>0.495838</td>\n",
       "      <td>-7.051992</td>\n",
       "      <td>-2.221874</td>\n",
       "      <td>0.425822</td>\n",
       "      <td>0.243101</td>\n",
       "      <td>0.333216</td>\n",
       "      <td>-15.737029</td>\n",
       "      <td>...</td>\n",
       "      <td>0.554312</td>\n",
       "      <td>-7.431786</td>\n",
       "      <td>-22.776726</td>\n",
       "      <td>-80.574921</td>\n",
       "      <td>0.726891</td>\n",
       "      <td>0.267190</td>\n",
       "      <td>0.081624</td>\n",
       "      <td>-25.383179</td>\n",
       "      <td>-36.594196</td>\n",
       "      <td>-60.065903</td>\n",
       "    </tr>\n",
       "  </tbody>\n",
       "</table>\n",
       "<p>31 rows × 126 columns</p>\n",
       "</div>"
      ],
      "text/plain": [
       "    m_avg_PelvisPosX  m_avg_PelvisPosY  m_avg_PelvisPosZ  m_avg_PelvisRotX  \\\n",
       "0           0.566909          0.268679          0.931187          1.290940   \n",
       "1           0.401178          0.032587          0.952377        -10.836900   \n",
       "2           0.401178          0.032587          0.952377        -10.836900   \n",
       "3           0.401178          0.032587          0.952377        -10.836900   \n",
       "4           0.520824          0.085088          0.924211          1.067918   \n",
       "5           0.520824          0.085088          0.924211          1.067918   \n",
       "6           0.520824          0.085088          0.924211          1.067918   \n",
       "7           0.519916          0.132342          0.926505          0.828887   \n",
       "8           0.519916          0.132342          0.926505          0.828887   \n",
       "9           0.519916          0.132342          0.926505          0.828887   \n",
       "10          0.516439          0.146434          0.926243          0.773253   \n",
       "11          0.516439          0.146434          0.926243          0.773253   \n",
       "12          0.516439          0.146434          0.926243          0.773253   \n",
       "13          0.513099          0.148599          0.926235          0.715853   \n",
       "14          0.513099          0.148599          0.926235          0.715853   \n",
       "15          0.513099          0.148599          0.926235          0.715853   \n",
       "16          0.513029          0.148877          0.926329          0.717762   \n",
       "17          0.513029          0.148877          0.926329          0.717762   \n",
       "18          0.513029          0.148877          0.926329          0.717762   \n",
       "19          0.513014          0.148951          0.926265          0.710584   \n",
       "20          0.513014          0.148951          0.926265          0.710584   \n",
       "21          0.513014          0.148951          0.926265          0.710584   \n",
       "22          0.514323          0.141641          0.929391          0.666327   \n",
       "23          0.514323          0.141641          0.929391          0.666327   \n",
       "24          0.514323          0.141641          0.929391          0.666327   \n",
       "25          0.519385          0.139780          0.930466          0.638496   \n",
       "26          0.519385          0.139780          0.930466          0.638496   \n",
       "27          0.519385          0.139780          0.930466          0.638496   \n",
       "28          0.519574          0.141442          0.930329          0.646919   \n",
       "29          0.519574          0.141442          0.930329          0.646919   \n",
       "30          0.353571          0.726626          0.523846          0.495838   \n",
       "\n",
       "    m_avg_PelvisRotY  m_avg_PelvisRotZ  m_avg_L_HipPosX  m_avg_L_HipPosY  \\\n",
       "0          -2.860700         -1.524100         0.504530         0.267379   \n",
       "1        -133.453700         -3.480000         0.715442         0.037674   \n",
       "2        -133.453700         -3.480000         0.715442         0.037674   \n",
       "3        -133.453700         -3.480000         0.715442         0.037674   \n",
       "4          -4.725700         -2.912200         0.459777         0.098134   \n",
       "5          -4.725700         -2.912200         0.459777         0.098134   \n",
       "6          -4.725700         -2.912200         0.459777         0.098134   \n",
       "7          -4.648300         -3.010500         0.458313         0.144020   \n",
       "8          -4.648300         -3.010500         0.458313         0.144020   \n",
       "9          -4.648300         -3.010500         0.458313         0.144020   \n",
       "10         -4.596000         -2.785700         0.456201         0.156096   \n",
       "11         -4.596000         -2.785700         0.456201         0.156096   \n",
       "12         -4.596000         -2.785700         0.456201         0.156096   \n",
       "13         -4.594700         -2.693500         0.453661         0.157487   \n",
       "14         -4.594700         -2.693500         0.453661         0.157487   \n",
       "15         -4.594700         -2.693500         0.453661         0.157487   \n",
       "16         -4.601800         -2.693600         0.453609         0.157760   \n",
       "17         -4.601800         -2.693600         0.453609         0.157760   \n",
       "18         -4.601800         -2.693600         0.453609         0.157760   \n",
       "19         -4.606200         -2.694100         0.453597         0.157821   \n",
       "20         -4.606200         -2.694100         0.453597         0.157821   \n",
       "21         -4.606200         -2.694100         0.453597         0.157821   \n",
       "22         -5.080900         -3.154700         0.453250         0.153638   \n",
       "23         -5.080900         -3.154700         0.453250         0.153638   \n",
       "24         -5.080900         -3.154700         0.453250         0.153638   \n",
       "25         -4.985900         -3.303900         0.456880         0.152755   \n",
       "26         -4.985900         -3.303900         0.456880         0.152755   \n",
       "27         -4.985900         -3.303900         0.456880         0.152755   \n",
       "28         -4.989200         -3.287300         0.457131         0.154270   \n",
       "29         -4.989200         -3.287300         0.457131         0.154270   \n",
       "30         -7.051992         -2.221874         0.425822         0.243101   \n",
       "\n",
       "    m_avg_L_HipPosZ  m_avg_L_HipRotX  ...  m_avg_R_ElbowPosZ  \\\n",
       "0          0.886133        -2.877000  ...           0.603748   \n",
       "1          0.871273       -10.585300  ...           0.831523   \n",
       "2          0.871273       -10.585300  ...           0.831675   \n",
       "3          0.871273       -10.585300  ...           0.831901   \n",
       "4          0.877089        -1.369600  ...           0.608386   \n",
       "5          0.877089        -1.369600  ...           0.608752   \n",
       "6          0.877089        -1.369600  ...           0.609138   \n",
       "7          0.879789        -1.515400  ...           0.624965   \n",
       "8          0.879789        -1.515400  ...           0.625572   \n",
       "9          0.879789        -1.515400  ...           0.626173   \n",
       "10         0.879794        -1.871900  ...           0.626772   \n",
       "11         0.879794        -1.871900  ...           0.627478   \n",
       "12         0.879794        -1.871900  ...           0.628218   \n",
       "13         0.879924        -2.263300  ...           0.628823   \n",
       "14         0.879924        -2.263300  ...           0.629539   \n",
       "15         0.879924        -2.263300  ...           0.630271   \n",
       "16         0.879993        -2.277300  ...           0.631387   \n",
       "17         0.879993        -2.277300  ...           0.632082   \n",
       "18         0.879993        -2.277300  ...           0.632837   \n",
       "19         0.879945        -2.288700  ...           0.633350   \n",
       "20         0.879945        -2.288700  ...           0.633991   \n",
       "21         0.879945        -2.288700  ...           0.634565   \n",
       "22         0.882007        -2.550500  ...           0.638531   \n",
       "23         0.882007        -2.550500  ...           0.638915   \n",
       "24         0.882007        -2.550500  ...           0.639243   \n",
       "25         0.883171        -2.606400  ...           0.635778   \n",
       "26         0.883171        -2.606400  ...           0.636200   \n",
       "27         0.883171        -2.606400  ...           0.636689   \n",
       "28         0.883028        -2.453800  ...           0.637043   \n",
       "29         0.883028        -2.453800  ...           0.637420   \n",
       "30         0.333216       -15.737029  ...           0.554312   \n",
       "\n",
       "    m_avg_R_ElbowRotX  m_avg_R_ElbowRotY  m_avg_R_ElbowRotZ  \\\n",
       "0            9.235965          30.738180           5.799457   \n",
       "1            9.192002          30.799440           5.990096   \n",
       "2            9.201011          30.785390           6.051675   \n",
       "3            9.214252          30.751980           6.089844   \n",
       "4            9.240885          30.682460           6.062983   \n",
       "5            9.271243          30.603280           6.015287   \n",
       "6            9.311271          30.514670           5.937718   \n",
       "7            9.369996          30.333440           5.770970   \n",
       "8            9.437414          30.184760           5.606863   \n",
       "9            9.501136          30.033310           5.427882   \n",
       "10           9.587336          29.837190           5.196345   \n",
       "11           9.652200          29.667190           5.021380   \n",
       "12           9.727895          29.477720           4.786605   \n",
       "13           9.795863          29.296080           4.572053   \n",
       "14           9.862004          29.113910           4.349701   \n",
       "15           9.920325          28.931640           4.141822   \n",
       "16           9.973943          28.743240           3.943647   \n",
       "17          10.023220          28.572960           3.759106   \n",
       "18          10.068070          28.393650           3.586089   \n",
       "19          10.108450          28.232010           3.430336   \n",
       "20          10.147290          28.080420           3.284094   \n",
       "21          10.180890          27.944240           3.150007   \n",
       "22          10.201720          27.822390           3.030129   \n",
       "23          10.227420          27.725690           2.913013   \n",
       "24          10.247080          27.643470           2.814488   \n",
       "25          10.269110          27.534920           2.730536   \n",
       "26          10.297710          27.433690           2.622310   \n",
       "27          10.310190          27.330010           2.567600   \n",
       "28          10.335700          27.224390           2.487622   \n",
       "29          10.345550          27.145020           2.446991   \n",
       "30          -7.431786         -22.776726         -80.574921   \n",
       "\n",
       "    m_avg_R_WristPosX  m_avg_R_WristPosY  m_avg_R_WristPosZ  \\\n",
       "0            0.987371           0.996524           0.455671   \n",
       "1            0.670248           0.966425           0.654835   \n",
       "2            0.670294           0.967268           0.655105   \n",
       "3            0.670425           0.967791           0.655506   \n",
       "4            0.990379           0.966242           0.460271   \n",
       "5            0.990720           0.965589           0.460921   \n",
       "6            0.991109           0.964528           0.461604   \n",
       "7            0.991610           0.988035           0.476136   \n",
       "8            0.992260           0.985791           0.477211   \n",
       "9            0.992914           0.983341           0.478278   \n",
       "10           0.991054           0.986117           0.479505   \n",
       "11           0.991764           0.983722           0.480754   \n",
       "12           0.992553           0.980508           0.482069   \n",
       "13           0.991741           0.980088           0.483244   \n",
       "14           0.992477           0.977044           0.484514   \n",
       "15           0.993199           0.974198           0.485811   \n",
       "16           0.993900           0.971596           0.487483   \n",
       "17           0.994557           0.969069           0.488716   \n",
       "18           0.995240           0.966700           0.490055   \n",
       "19           0.995860           0.964577           0.491117   \n",
       "20           0.996427           0.962574           0.492255   \n",
       "21           0.996932           0.960738           0.493271   \n",
       "22           0.997078           0.969107           0.497198   \n",
       "23           0.997429           0.967503           0.497879   \n",
       "24           0.997725           0.966153           0.498460   \n",
       "25           0.998555           0.969386           0.495864   \n",
       "26           0.998918           0.967903           0.496610   \n",
       "27           0.999292           0.967154           0.497477   \n",
       "28           0.999716           0.965997           0.498215   \n",
       "29           1.000000           0.965440           0.498884   \n",
       "30           0.726891           0.267190           0.081624   \n",
       "\n",
       "    m_avg_R_WristRotX  m_avg_R_WristRotY  m_avg_R_WristRotZ  \n",
       "0           -1.586300          -1.084400          28.349760  \n",
       "1           -1.953900          -1.223200          28.449170  \n",
       "2           -2.252600          -1.385800          28.470040  \n",
       "3           -2.550600          -1.553600          28.441560  \n",
       "4           -2.898700          -1.712400          28.449090  \n",
       "5           -3.255800          -1.870500          28.500560  \n",
       "6           -3.594500          -2.076100          28.504830  \n",
       "7           -3.908900          -2.329500          28.320140  \n",
       "8           -4.215200          -2.598400          27.988130  \n",
       "9           -4.474700          -2.938700          27.069070  \n",
       "10          -4.775300          -3.223400          26.339420  \n",
       "11          -5.040700          -3.481300          25.635550  \n",
       "12          -5.258000          -3.675400          25.046420  \n",
       "13          -5.222000          -3.752200          24.578280  \n",
       "14          -5.231200          -3.906600          24.102050  \n",
       "15          -5.034100          -4.057700          23.687760  \n",
       "16          -4.807000          -4.182100          23.170160  \n",
       "17          -4.666000          -4.339800          22.575210  \n",
       "18          -4.517700          -4.502800          22.036460  \n",
       "19          -4.452600          -4.621000          21.659610  \n",
       "20          -4.396500          -4.693700          21.353010  \n",
       "21          -4.326600          -4.751300          21.045610  \n",
       "22          -4.286800          -4.812800          20.755990  \n",
       "23          -4.295600          -4.869100          20.833580  \n",
       "24          -4.318400          -4.907800          20.900720  \n",
       "25          -4.346400          -4.974900          20.786190  \n",
       "26          -4.379300          -5.103400          20.488320  \n",
       "27          -4.399800          -5.262400          20.177330  \n",
       "28          -4.340200          -5.490300          19.923920  \n",
       "29          -4.244300          -5.604200          19.773420  \n",
       "30         -25.383179         -36.594196         -60.065903  \n",
       "\n",
       "[31 rows x 126 columns]"
      ]
     },
     "execution_count": 65,
     "metadata": {},
     "output_type": "execute_result"
    }
   ],
   "source": [
    "test_combined_df"
   ]
  },
  {
   "cell_type": "code",
   "execution_count": 66,
   "metadata": {},
   "outputs": [],
   "source": [
    "test_combined_df.to_csv('./test_combined_df.csv', index=True)"
   ]
  },
  {
   "cell_type": "markdown",
   "metadata": {},
   "source": [
    "# Visualize"
   ]
  },
  {
   "cell_type": "code",
   "execution_count": 67,
   "metadata": {},
   "outputs": [],
   "source": [
    "import matplotlib.pyplot as plt\n",
    "from mpl_toolkits.mplot3d import Axes3D\n",
    "%matplotlib inline"
   ]
  },
  {
   "cell_type": "code",
   "execution_count": 68,
   "metadata": {},
   "outputs": [
    {
     "data": {
      "image/png": "[encoded data removed]",
      "text/plain": [
       "<Figure size 1000x1000 with 1 Axes>"
      ]
     },
     "metadata": {},
     "output_type": "display_data"
    }
   ],
   "source": [
    "def visualize_skeleton(df, connections):\n",
    "    fig = plt.figure(figsize=(10, 10))\n",
    "    ax = fig.add_subplot(111, projection='3d')\n",
    "\n",
    "    # Plot each joint\n",
    "    for joint in joint_names:\n",
    "        ax.scatter(df[f'{joint}PosX'], df[f'{joint}PosY'], df[f'{joint}PosZ'], label=joint)\n",
    "\n",
    "    # Draw lines (bones) connecting the joints\n",
    "    for connection in connections:\n",
    "        joint_from, joint_to = connection\n",
    "        # Update to use the correct column names\n",
    "        ax.plot(\n",
    "            [df[f'm_avg_{joint_from}PosX'], df[f'm_avg_{joint_to}PosX']],\n",
    "            [df[f'm_avg_{joint_from}PosY'], df[f'm_avg_{joint_to}PosY']],\n",
    "            [df[f'm_avg_{joint_from}PosZ'], df[f'm_avg_{joint_to}PosZ']],\n",
    "            'k-'\n",
    "        )\n",
    "\n",
    "    # Set labels and legend\n",
    "    ax.set_xlabel('X')\n",
    "    ax.set_ylabel('Y')\n",
    "    ax.set_zlabel('Z')\n",
    "    ax.legend(loc='best')\n",
    "\n",
    "    # Set the initial viewing angle\n",
    "    ax.view_init(elev=20., azim=-90)\n",
    "\n",
    "    plt.show()\n",
    "\n",
    "visualize_skeleton(test_predictions.iloc[0], connections)"
   ]
  },
  {
   "cell_type": "code",
   "execution_count": null,
   "metadata": {},
   "outputs": [],
   "source": []
  }
 ],
 "metadata": {
  "kernelspec": {
   "display_name": "transformer",
   "language": "python",
   "name": "python3"
  },
  "language_info": {
   "codemirror_mode": {
    "name": "ipython",
    "version": 3
   },
   "file_extension": ".py",
   "mimetype": "text/x-python",
   "name": "python",
   "nbconvert_exporter": "python",
   "pygments_lexer": "ipython3",
   "version": "3.9.18"
  }
 },
 "nbformat": 4,
 "nbformat_minor": 2
}
